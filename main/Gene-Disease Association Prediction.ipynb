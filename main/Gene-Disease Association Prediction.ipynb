{
 "cells": [
  {
   "cell_type": "markdown",
   "id": "9d82fd1a",
   "metadata": {
    "toc": true
   },
   "source": [
    "<h1>Table of Contents<span class=\"tocSkip\"></span></h1>\n",
    "<div class=\"toc\"><ul class=\"toc-item\"><li><span><a href=\"#Set-up-the-Environment-and-Upload-data\" data-toc-modified-id=\"Set-up-the-Environment-and-Upload-data-1\"><span class=\"toc-item-num\">1&nbsp;&nbsp;</span>Set up the Environment and Upload data</a></span></li><li><span><a href=\"#Initial-Exploration-and-Pre-processing\" data-toc-modified-id=\"Initial-Exploration-and-Pre-processing-2\"><span class=\"toc-item-num\">2&nbsp;&nbsp;</span>Initial Exploration and Pre-processing</a></span><ul class=\"toc-item\"><li><span><a href=\"#DisGeNET-:-Gene-Disease-Association-(GDA)\" data-toc-modified-id=\"DisGeNET-:-Gene-Disease-Association-(GDA)-2.1\"><span class=\"toc-item-num\">2.1&nbsp;&nbsp;</span>DisGeNET : Gene Disease Association (GDA)</a></span></li><li><span><a href=\"#Data-pre-processing\" data-toc-modified-id=\"Data-pre-processing-2.2\"><span class=\"toc-item-num\">2.2&nbsp;&nbsp;</span>Data pre-processing</a></span></li><li><span><a href=\"#Exploratory-Analysis\" data-toc-modified-id=\"Exploratory-Analysis-2.3\"><span class=\"toc-item-num\">2.3&nbsp;&nbsp;</span>Exploratory Analysis</a></span></li></ul></li><li><span><a href=\"#Bibliografia\" data-toc-modified-id=\"Bibliografia-3\"><span class=\"toc-item-num\">3&nbsp;&nbsp;</span>Bibliografia</a></span></li></ul></div>"
   ]
  },
  {
   "cell_type": "code",
   "execution_count": null,
   "id": "6a95a796",
   "metadata": {},
   "outputs": [],
   "source": [
    "#packages\n",
    "import numpy as np\n",
    "import pandas as pd\n",
    "from tdc.multi_pred import GDA\n",
    "from IPython.display import HTML"
   ]
  },
  {
   "cell_type": "markdown",
   "id": "fffc40e3",
   "metadata": {},
   "source": [
    "## Set up the Environment and Upload data"
   ]
  },
  {
   "cell_type": "markdown",
   "id": "968601ac",
   "metadata": {},
   "source": [
    "<div style=\"text-align: justify;\">\n",
    "To ensure that all the project's dependencies are installed correctly, we recommend using a Conda environment. You can easily create the environment with the project's dependencies from the env.yml file included in this repository."
   ]
  },
  {
   "cell_type": "code",
   "execution_count": null,
   "id": "925d1c3d",
   "metadata": {},
   "outputs": [],
   "source": [
    "# To use the DisGeNET dataset with TDC platform, we use the following code:\n",
    "data = GDA(name='DisGeNET')\n",
    "\n",
    "print(\"Data uploading completed :)\")"
   ]
  },
  {
   "cell_type": "markdown",
   "id": "f0423603",
   "metadata": {},
   "source": [
    "## Initial Exploration and Pre-processing"
   ]
  },
  {
   "cell_type": "markdown",
   "id": "d4666e97",
   "metadata": {},
   "source": [
    "<div style=\"text-align: justify;\">\n",
    "This section contains a comprehensive overview of the assigned data, starting with a detailed description and characterization based on existing documentation and literature. It includes a concise summary of the data's characteristics derived from an initial exploratory analysis, highlighting key statistics and observations. The section also describes the steps taken for data preparation and pre-processing, providing justification for each choice to ensure the data is clean, transformed, and organized for further analysis. Additionally, initial exploratory graphs are presented to visually illustrate the main characteristics of the data, helping to understand patterns, trends, and potential issues within the dataset.\n",
    " </div>"
   ]
  },
  {
   "cell_type": "markdown",
   "id": "6ea6a369",
   "metadata": {},
   "source": [
    "### DisGeNET : Gene Disease Association (GDA) "
   ]
  },
  {
   "cell_type": "code",
   "execution_count": null,
   "id": "99940bda",
   "metadata": {
    "scrolled": true
   },
   "outputs": [],
   "source": [
    "HTML('<div style=\"display: flex; justify-content: center;\"><img src=\"https://www.ensembl.info/wp-content/uploads/2021/04/disgenet-logo-horizontal.png\" width=\"400\"/></div>')"
   ]
  },
  {
   "cell_type": "markdown",
   "id": "e41c08dd",
   "metadata": {},
   "source": [
    "The study of **gene-disease associations is a crucial step in understanding the etiology of diseases**. Identifying the link between genes and diseases makes it possible to better understand the cause of the disease and therefore to develop strategies to combat it. This process is fundamental to the advancement of medicine and the development of new therapies. [1]\n",
    "\n",
    "    \n",
    "\n",
    "**Therapeutics Data Commons (TDC) is a database created to promote the discovery of therapies for diseases**, especially those that are difficult to treat. It was developed by the National Institutes of Health with the aim of gathering genomic and clinical data from various sources to support biomedical research and the development of new treatments. [2]\n",
    "\n",
    "\n",
    "**GDA quantify the relation among a pair of gene-disease** and is one of the core concepts of DisGeNet platform that are integrated on TDC. DisGeNET is a discovery platform containing one of the largest publicly available collections of genes and variants associated to human diseases. **DisGeNET integrates data from expert curated repositories, Genome-Wide Association Study catalogues, animal models and the scientific literature**. DisGeNET data are homogeneously annotated with controlled vocabularies and community-driven ontologies. TDC uses the curated subset from UNIPROT, CGI, ClinGen, Genomics England, CTD (human subset), PsyGeNET, and Orphanet. TDC maps disease ID to disease definition through MedGen and maps GeneID to uniprot amino acid sequence. [3]\n",
    "\n",
    "\n",
    "This dataset contains **52,476 gene-disease pairs:** 7,399 genes and 7,095 diseases.                                   \n",
    "As we can see by de code bellow we have an object with 52,476 rows and 5 columns: *'Gene_ID'*, *'Gene'*, *'Disease_ID'*, *'Disease'*, *'Y'*. \n",
    "\n",
    "- **Gene_ID** column contains all unique identifiers for genes.\n",
    "- **Gene** column contains the sequences of amino acides corresponding to each gene_ID through Uniprot platform.\n",
    "- **Disease_ID** column contains all unique identifiers for diseases.\n",
    "- **Disease** column contains the disease definition corresponding to each disease_ID through MedGen-NCBI platform.\n",
    "- **Y** column is the target feature and represents the probability of association for a pair gene-disease. This column have values between 0 and 1.\n",
    "\n",
    "As our taregt feature is a numeric one, our work will be a regression problem when the main task is: *Given the disease description and the amino acid sequence of the gene, predict their association*."
   ]
  },
  {
   "cell_type": "code",
   "execution_count": null,
   "id": "bd82b858",
   "metadata": {},
   "outputs": [],
   "source": [
    "#Inspecting DisGeNet dataset\n",
    "full_data = data.get_data()\n",
    "full_data.info()\n",
    "full_data.head()"
   ]
  },
  {
   "cell_type": "markdown",
   "id": "b5b2ae43",
   "metadata": {},
   "source": [
    "### Data pre-processing\n",
    "falta acrescentar um label encoding para as labels dos gráficos, acho que faz mais sentido incorporar no final antes de plotar os primeiros gráficos da análise exploratória"
   ]
  },
  {
   "cell_type": "markdown",
   "id": "4ece71f8",
   "metadata": {},
   "source": [
    "#### Inspeção dos Dados:  \n",
    "Já sabemos que não há valores ausentes, então podemos avançar diretamente para a restante preparação dos dados. \n",
    "\n",
    "- Codificar Gene_ID e Disease_ID para valores numéricos usando LabelEncoder.\n",
    "- Divisão em Conjuntos de Treino, Validação e Teste, confirmando que os dados já estão divididos corretamente nos conjuntos de treino, validação e teste.\n",
    "- Preparação de Features e Target, selecionando as colunas Gene_ID_encoded, Disease_ID_encoded como features (X) e Y como o target."
   ]
  },
  {
   "cell_type": "code",
   "execution_count": null,
   "id": "96014eab",
   "metadata": {},
   "outputs": [
    {
     "name": "stdout",
     "output_type": "stream",
     "text": [
      "Treino: (37782, 2), Validação: (4198, 2), Teste: (10496, 2)\n",
      "Primeiras linhas de X_train:\n",
      "       Gene_ID_encoded  Disease_ID_encoded\n",
      "24634             2182                6910\n",
      "40534             4199                 415\n",
      "8064               698                4606\n",
      "29814             2749                4624\n",
      "25108             2235                1254\n"
     ]
    }
   ],
   "source": [
    "from sklearn.preprocessing import LabelEncoder, MinMaxScaler\n",
    "from sklearn.model_selection import train_test_split\n",
    "\n",
    "# 1. Codificação de Gene_ID e Disease_ID\n",
    "le_gene = LabelEncoder()\n",
    "le_disease = LabelEncoder()\n",
    "\n",
    "full_data['Gene_ID_encoded'] = le_gene.fit_transform(full_data['Gene_ID'])\n",
    "full_data['Disease_ID_encoded'] = le_disease.fit_transform(full_data['Disease_ID'])\n",
    "\n",
    "# 2. Normalização de Y\n",
    "scaler = MinMaxScaler()\n",
    "full_data['Y_normalized'] = scaler.fit_transform(full_data[['Y']])\n",
    "\n",
    "# 3. Divisão do dataset em treino, validação e teste (80-10-10)\n",
    "train_data, test_data = train_test_split(full_data, test_size=0.2, random_state=42)\n",
    "train_data, valid_data = train_test_split(train_data, test_size=0.1, random_state=42)\n",
    "\n",
    "# 4. Separação de Features (X) e Target (Y)\n",
    "X_train = train_data[['Gene_ID_encoded', 'Disease_ID_encoded']]\n",
    "y_train = train_data['Y_normalized']\n",
    "\n",
    "X_valid = valid_data[['Gene_ID_encoded', 'Disease_ID_encoded']]\n",
    "y_valid = valid_data['Y_normalized']\n",
    "\n",
    "X_test = test_data[['Gene_ID_encoded', 'Disease_ID_encoded']]\n",
    "y_test = test_data['Y_normalized']\n",
    "\n",
    "# 5. Verificações básicas\n",
    "print(f\"Treino: {X_train.shape}, Validação: {X_valid.shape}, Teste: {X_test.shape}\")\n",
    "print(\"Primeiras linhas de X_train:\")\n",
    "print(X_train.head())\n",
    "\n",
    "\n"
   ]
  },
  {
   "cell_type": "markdown",
   "id": "abcc2ea7",
   "metadata": {},
   "source": [
    "#### Distribuições das Features\n",
    "Gene_ID_encoded e Disease_ID_encoded devem apresentar padrões consistentes entre os conjuntos:"
   ]
  },
  {
   "cell_type": "code",
   "execution_count": null,
   "id": "ddbdff8d",
   "metadata": {},
   "outputs": [],
   "source": [
    "import seaborn as sns\n",
    "import matplotlib.pyplot as plt\n",
    "\n",
    "# Distribuição de Gene_ID_encoded\n",
    "sns.histplot(X_train['Gene_ID_encoded'], kde=True, color='blue', label='Train')\n",
    "sns.histplot(X_valid['Gene_ID_encoded'], kde=True, color='green', label='Validation')\n",
    "sns.histplot(X_test['Gene_ID_encoded'], kde=True, color='red', label='Test')\n",
    "plt.title('Distribuição de Gene_ID_encoded')\n",
    "plt.legend()\n",
    "plt.show()\n",
    "\n",
    "# Distribuição de Disease_ID_encoded\n",
    "sns.histplot(X_train['Disease_ID_encoded'], kde=True, color='blue', label='Train')\n",
    "sns.histplot(X_valid['Disease_ID_encoded'], kde=True, color='green', label='Validation')\n",
    "sns.histplot(X_test['Disease_ID_encoded'], kde=True, color='red', label='Test')\n",
    "plt.title('Distribuição de Disease_ID_encoded')\n",
    "plt.legend()\n",
    "plt.show()"
   ]
  },
  {
   "cell_type": "markdown",
   "id": "284a0732",
   "metadata": {},
   "source": [
    "#### Distribuição do Alvo (Y)\n",
    "\n",
    "Deve ser similar entre treino, validação e teste, garantindo que o modelo será treinado e avaliado adequadamente:"
   ]
  },
  {
   "cell_type": "code",
   "execution_count": null,
   "id": "0c06f929",
   "metadata": {},
   "outputs": [],
   "source": [
    "# Distribuição de Y\n",
    "sns.histplot(y_train, kde=True, color='blue', label='Train')\n",
    "sns.histplot(y_valid, kde=True, color='green', label='Validation')\n",
    "sns.histplot(y_test, kde=True, color='red', label='Test')\n",
    "plt.title('Distribuição de Y (Target)')\n",
    "plt.legend()\n",
    "plt.show()"
   ]
  },
  {
   "cell_type": "markdown",
   "id": "10257298",
   "metadata": {},
   "source": [
    "### Exploratory Analysis"
   ]
  },
  {
   "cell_type": "code",
   "execution_count": null,
   "id": "9686fefe",
   "metadata": {},
   "outputs": [],
   "source": []
  },
  {
   "cell_type": "code",
   "execution_count": null,
   "id": "7eadbae1",
   "metadata": {},
   "outputs": [],
   "source": []
  },
  {
   "cell_type": "code",
   "execution_count": null,
   "id": "b8d2d18e",
   "metadata": {},
   "outputs": [],
   "source": []
  },
  {
   "cell_type": "markdown",
   "id": "e904ce5d",
   "metadata": {},
   "source": [
    "## Bibliografia"
   ]
  },
  {
   "cell_type": "markdown",
   "id": "1bb6c6d5",
   "metadata": {},
   "source": [
    "[1] Opap, K., & Mulder, N. (2017). Recent advances in predicting gene–disease associations. F1000Research, 6, 578. https://doi.org/10.12688/f1000research.10788.1\n",
    "    \n",
    "[2] Therapeutics Data Commons. (2024). TDC. https://tdcommons.ai/\n",
    "\n",
    "[3] Piñero, J., Ramírez-Anguita, J. M., Saüch-Pitarch, J., Ronzano, F., Centeno, E., Sanz, F., & Furlong, L. I. (2019). The DisGeNET knowledge platform for disease genomics: 2019 update. Nucleic Acids Research, 48(D1). https://doi.org/10.1093/nar/gkz1021"
   ]
  },
  {
   "cell_type": "code",
   "execution_count": null,
   "id": "4058d9ad",
   "metadata": {},
   "outputs": [],
   "source": []
  },
  {
   "cell_type": "code",
   "execution_count": null,
   "id": "f990e8ce",
   "metadata": {},
   "outputs": [],
   "source": []
  }
 ],
 "metadata": {
  "kernelspec": {
   "display_name": "noteSI",
   "language": "python",
   "name": "python3"
  },
  "language_info": {
   "codemirror_mode": {
    "name": "ipython",
    "version": 3
   },
   "file_extension": ".py",
   "mimetype": "text/x-python",
   "name": "python",
   "nbconvert_exporter": "python",
   "pygments_lexer": "ipython3",
   "version": "3.9.20"
  },
  "toc": {
   "base_numbering": 1,
   "nav_menu": {},
   "number_sections": true,
   "sideBar": true,
   "skip_h1_title": false,
   "title_cell": "Table of Contents",
   "title_sidebar": "Contents",
   "toc_cell": true,
   "toc_position": {},
   "toc_section_display": true,
   "toc_window_display": false
  }
 },
 "nbformat": 4,
 "nbformat_minor": 5
}
