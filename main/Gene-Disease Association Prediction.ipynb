{
 "cells": [
  {
   "cell_type": "markdown",
   "id": "9d82fd1a",
   "metadata": {
    "toc": true
   },
   "source": [
    "<h1>Table of Contents<span class=\"tocSkip\"></span></h1>\n",
    "<div class=\"toc\"><ul class=\"toc-item\"><li><span><a href=\"#Set-up-the-Environment-and-Upload-data\" data-toc-modified-id=\"Set-up-the-Environment-and-Upload-data-1\"><span class=\"toc-item-num\">1&nbsp;&nbsp;</span>Set up the Environment and Upload data</a></span></li><li><span><a href=\"#Initial-Exploration-and-Pre-processing\" data-toc-modified-id=\"Initial-Exploration-and-Pre-processing-2\"><span class=\"toc-item-num\">2&nbsp;&nbsp;</span>Initial Exploration and Pre-processing</a></span><ul class=\"toc-item\"><li><span><a href=\"#DisGeNET-:-Gene-Disease-Association-(GDA)\" data-toc-modified-id=\"DisGeNET-:-Gene-Disease-Association-(GDA)-2.1\"><span class=\"toc-item-num\">2.1&nbsp;&nbsp;</span>DisGeNET : Gene Disease Association (GDA)</a></span></li><li><span><a href=\"#Data-pre-processing\" data-toc-modified-id=\"Data-pre-processing-2.2\"><span class=\"toc-item-num\">2.2&nbsp;&nbsp;</span>Data pre-processing</a></span></li><li><span><a href=\"#Exploratory-Analysis\" data-toc-modified-id=\"Exploratory-Analysis-2.3\"><span class=\"toc-item-num\">2.3&nbsp;&nbsp;</span>Exploratory Analysis</a></span></li></ul></li><li><span><a href=\"#Bibliografia\" data-toc-modified-id=\"Bibliografia-3\"><span class=\"toc-item-num\">3&nbsp;&nbsp;</span>Bibliografia</a></span></li></ul></div>"
   ]
  },
  {
   "cell_type": "code",
   "execution_count": 14,
   "id": "6a95a796",
   "metadata": {},
   "outputs": [],
   "source": [
    "#packages\n",
    "import numpy as np\n",
    "import pandas as pd\n",
    "from tdc.multi_pred import GDA\n",
    "from IPython.display import HTML"
   ]
  },
  {
   "cell_type": "markdown",
   "id": "fffc40e3",
   "metadata": {},
   "source": [
    "## Set up the Environment and Upload data"
   ]
  },
  {
   "cell_type": "markdown",
   "id": "968601ac",
   "metadata": {},
   "source": [
    "<div style=\"text-align: justify;\">\n",
    "To ensure that all the project's dependencies are installed correctly, we recommend using a Conda environment. You can easily create the environment with the project's dependencies from the env.yml file included in this repository."
   ]
  },
  {
   "cell_type": "code",
   "execution_count": 15,
   "id": "925d1c3d",
   "metadata": {},
   "outputs": [
    {
     "name": "stderr",
     "output_type": "stream",
     "text": [
      "Found local copy...\n",
      "Loading...\n",
      "Done!\n"
     ]
    },
    {
     "name": "stdout",
     "output_type": "stream",
     "text": [
      "Data uploading completed :)\n"
     ]
    }
   ],
   "source": [
    "# To use the DisGeNET dataset with TDC platform, we use the following code:\n",
    "data = GDA(name='DisGeNET')\n",
    "\n",
    "print(\"Data uploading completed :)\")"
   ]
  },
  {
   "cell_type": "markdown",
   "id": "f0423603",
   "metadata": {},
   "source": [
    "## Initial Exploration and Pre-processing"
   ]
  },
  {
   "cell_type": "markdown",
   "id": "d4666e97",
   "metadata": {},
   "source": [
    "<div style=\"text-align: justify;\">\n",
    "This section contains a comprehensive overview of the assigned data, starting with a detailed description and characterization based on existing documentation and literature. It includes a concise summary of the data's characteristics derived from an initial exploratory analysis, highlighting key statistics and observations. The section also describes the steps taken for data preparation and pre-processing, providing justification for each choice to ensure the data is clean, transformed, and organized for further analysis. Additionally, initial exploratory graphs are presented to visually illustrate the main characteristics of the data, helping to understand patterns, trends, and potential issues within the dataset.\n",
    " </div>"
   ]
  },
  {
   "cell_type": "markdown",
   "id": "6ea6a369",
   "metadata": {},
   "source": [
    "### DisGeNET : Gene Disease Association (GDA) "
   ]
  },
  {
   "cell_type": "code",
   "execution_count": 16,
   "id": "99940bda",
   "metadata": {
    "scrolled": true
   },
   "outputs": [
    {
     "data": {
      "text/html": [
       "<div style=\"display: flex; justify-content: center;\"><img src=\"https://www.ensembl.info/wp-content/uploads/2021/04/disgenet-logo-horizontal.png\" width=\"400\"/></div>"
      ],
      "text/plain": [
       "<IPython.core.display.HTML object>"
      ]
     },
     "execution_count": 16,
     "metadata": {},
     "output_type": "execute_result"
    }
   ],
   "source": [
    "HTML('<div style=\"display: flex; justify-content: center;\"><img src=\"https://www.ensembl.info/wp-content/uploads/2021/04/disgenet-logo-horizontal.png\" width=\"400\"/></div>')"
   ]
  },
  {
   "cell_type": "markdown",
   "id": "e41c08dd",
   "metadata": {},
   "source": [
    "The study of **gene-disease associations is a crucial step in understanding the etiology of diseases**. Identifying the link between genes and diseases makes it possible to better understand the cause of the disease and therefore to develop strategies to combat it. This process is fundamental to the advancement of medicine and the development of new therapies. [1]\n",
    "\n",
    "    \n",
    "\n",
    "**Therapeutics Data Commons (TDC) is a database created to promote the discovery of therapies for diseases**, especially those that are difficult to treat. It was developed by the National Institutes of Health with the aim of gathering genomic and clinical data from various sources to support biomedical research and the development of new treatments. [2]\n",
    "\n",
    "\n",
    "**GDA quantify the relation among a pair of gene-disease** and is one of the core concepts of DisGeNet platform that are integrated on TDC. DisGeNET is a discovery platform containing one of the largest publicly available collections of genes and variants associated to human diseases. **DisGeNET integrates data from expert curated repositories, Genome-Wide Association Study catalogues, animal models and the scientific literature**. DisGeNET data are homogeneously annotated with controlled vocabularies and community-driven ontologies. TDC uses the curated subset from UNIPROT, CGI, ClinGen, Genomics England, CTD (human subset), PsyGeNET, and Orphanet. TDC maps disease ID to disease definition through MedGen and maps GeneID to uniprot amino acid sequence. [3]\n",
    "\n",
    "\n",
    "This dataset contains **52,476 gene-disease pairs:** 7,399 genes and 7,095 diseases.                                   \n",
    "As we can see by de code bellow we have an object with 52,476 rows and 5 columns: *'Gene_ID'*, *'Gene'*, *'Disease_ID'*, *'Disease'*, *'Y'*. \n",
    "\n",
    "- **Gene_ID** column contains all unique identifiers for genes.\n",
    "- **Gene** column contains the sequences of amino acides corresponding to each gene_ID through Uniprot platform.\n",
    "- **Disease_ID** column contains all unique identifiers for diseases.\n",
    "- **Disease** column contains the disease definition corresponding to each disease_ID through MedGen-NCBI platform.\n",
    "- **Y** column is the target feature and represents the probability of association for a pair gene-disease. This column have values between 0 and 1.\n",
    "\n",
    "As our taregt feature is a numeric one, our work will be a regression problem when the main task is: *Given the disease description and the amino acid sequence of the gene, predict their association*."
   ]
  },
  {
   "cell_type": "code",
   "execution_count": null,
   "id": "bd82b858",
   "metadata": {},
   "outputs": [
    {
     "name": "stdout",
     "output_type": "stream",
     "text": [
      "<class 'pandas.core.frame.DataFrame'>\n",
      "RangeIndex: 52476 entries, 0 to 52475\n",
      "Data columns (total 5 columns):\n",
      " #   Column      Non-Null Count  Dtype  \n",
      "---  ------      --------------  -----  \n",
      " 0   Gene_ID     52476 non-null  int64  \n",
      " 1   Gene        52476 non-null  object \n",
      " 2   Disease_ID  52476 non-null  object \n",
      " 3   Disease     52476 non-null  object \n",
      " 4   Y           52476 non-null  float64\n",
      "dtypes: float64(1), int64(1), object(3)\n",
      "memory usage: 2.0+ MB\n"
     ]
    },
    {
     "data": {
      "text/html": [
       "<div>\n",
       "<style scoped>\n",
       "    .dataframe tbody tr th:only-of-type {\n",
       "        vertical-align: middle;\n",
       "    }\n",
       "\n",
       "    .dataframe tbody tr th {\n",
       "        vertical-align: top;\n",
       "    }\n",
       "\n",
       "    .dataframe thead th {\n",
       "        text-align: right;\n",
       "    }\n",
       "</style>\n",
       "<table border=\"1\" class=\"dataframe\">\n",
       "  <thead>\n",
       "    <tr style=\"text-align: right;\">\n",
       "      <th></th>\n",
       "      <th>Gene_ID</th>\n",
       "      <th>Gene</th>\n",
       "      <th>Disease_ID</th>\n",
       "      <th>Disease</th>\n",
       "      <th>Y</th>\n",
       "    </tr>\n",
       "  </thead>\n",
       "  <tbody>\n",
       "    <tr>\n",
       "      <th>0</th>\n",
       "      <td>1</td>\n",
       "      <td>MSMLVVFLLLWGVTWGPVTEAAIFYETQPSLWAESESLLKPLANVT...</td>\n",
       "      <td>C0019209</td>\n",
       "      <td>Hepatomegaly: Abnormal enlargement of the liver.</td>\n",
       "      <td>0.30</td>\n",
       "    </tr>\n",
       "    <tr>\n",
       "      <th>1</th>\n",
       "      <td>1</td>\n",
       "      <td>MSMLVVFLLLWGVTWGPVTEAAIFYETQPSLWAESESLLKPLANVT...</td>\n",
       "      <td>C0036341</td>\n",
       "      <td>Schizophrenia: Schizophrenia is highly heritab...</td>\n",
       "      <td>0.30</td>\n",
       "    </tr>\n",
       "    <tr>\n",
       "      <th>2</th>\n",
       "      <td>2</td>\n",
       "      <td>MGKNKLLHPSLVLLLLVLLPTDASVSGKPQYMVLVPSLLHTETTEK...</td>\n",
       "      <td>C0002395</td>\n",
       "      <td>Alzheimer's Disease: Alzheimer disease is the ...</td>\n",
       "      <td>0.50</td>\n",
       "    </tr>\n",
       "    <tr>\n",
       "      <th>3</th>\n",
       "      <td>2</td>\n",
       "      <td>MGKNKLLHPSLVLLLLVLLPTDASVSGKPQYMVLVPSLLHTETTEK...</td>\n",
       "      <td>C0007102</td>\n",
       "      <td>Malignant tumor of colon: A primary or metasta...</td>\n",
       "      <td>0.31</td>\n",
       "    </tr>\n",
       "    <tr>\n",
       "      <th>4</th>\n",
       "      <td>2</td>\n",
       "      <td>MGKNKLLHPSLVLLLLVLLPTDASVSGKPQYMVLVPSLLHTETTEK...</td>\n",
       "      <td>C0009375</td>\n",
       "      <td>Colonic Neoplasms: A benign or malignant neopl...</td>\n",
       "      <td>0.30</td>\n",
       "    </tr>\n",
       "  </tbody>\n",
       "</table>\n",
       "</div>"
      ],
      "text/plain": [
       "   Gene_ID                                               Gene Disease_ID  \\\n",
       "0        1  MSMLVVFLLLWGVTWGPVTEAAIFYETQPSLWAESESLLKPLANVT...   C0019209   \n",
       "1        1  MSMLVVFLLLWGVTWGPVTEAAIFYETQPSLWAESESLLKPLANVT...   C0036341   \n",
       "2        2  MGKNKLLHPSLVLLLLVLLPTDASVSGKPQYMVLVPSLLHTETTEK...   C0002395   \n",
       "3        2  MGKNKLLHPSLVLLLLVLLPTDASVSGKPQYMVLVPSLLHTETTEK...   C0007102   \n",
       "4        2  MGKNKLLHPSLVLLLLVLLPTDASVSGKPQYMVLVPSLLHTETTEK...   C0009375   \n",
       "\n",
       "                                             Disease     Y  \n",
       "0   Hepatomegaly: Abnormal enlargement of the liver.  0.30  \n",
       "1  Schizophrenia: Schizophrenia is highly heritab...  0.30  \n",
       "2  Alzheimer's Disease: Alzheimer disease is the ...  0.50  \n",
       "3  Malignant tumor of colon: A primary or metasta...  0.31  \n",
       "4  Colonic Neoplasms: A benign or malignant neopl...  0.30  "
      ]
     },
     "execution_count": 17,
     "metadata": {},
     "output_type": "execute_result"
    }
   ],
   "source": [
    "#Inspecting DisGeNet dataset\n",
    "full_data = data.get_data()\n",
    "full_data.info()\n",
    "full_data.head()"
   ]
  },
  {
   "cell_type": "markdown",
   "id": "b5b2ae43",
   "metadata": {},
   "source": [
    "### Data pre-processing"
   ]
  },
  {
   "cell_type": "code",
   "execution_count": null,
   "id": "96014eab",
   "metadata": {},
   "outputs": [],
   "source": []
  },
  {
   "cell_type": "markdown",
   "id": "10257298",
   "metadata": {},
   "source": [
    "### Exploratory Analysis"
   ]
  },
  {
   "cell_type": "code",
   "execution_count": null,
   "id": "9686fefe",
   "metadata": {},
   "outputs": [],
   "source": []
  },
  {
   "cell_type": "code",
   "execution_count": null,
   "id": "7eadbae1",
   "metadata": {},
   "outputs": [],
   "source": []
  },
  {
   "cell_type": "code",
   "execution_count": null,
   "id": "b8d2d18e",
   "metadata": {},
   "outputs": [],
   "source": []
  },
  {
   "cell_type": "markdown",
   "id": "e904ce5d",
   "metadata": {},
   "source": [
    "## Bibliografia"
   ]
  },
  {
   "cell_type": "markdown",
   "id": "1bb6c6d5",
   "metadata": {},
   "source": [
    "[1] Opap, K., & Mulder, N. (2017). Recent advances in predicting gene–disease associations. F1000Research, 6, 578. https://doi.org/10.12688/f1000research.10788.1\n",
    "    \n",
    "[2] Therapeutics Data Commons. (2024). TDC. https://tdcommons.ai/\n",
    "\n",
    "[3] Piñero, J., Ramírez-Anguita, J. M., Saüch-Pitarch, J., Ronzano, F., Centeno, E., Sanz, F., & Furlong, L. I. (2019). The DisGeNET knowledge platform for disease genomics: 2019 update. Nucleic Acids Research, 48(D1). https://doi.org/10.1093/nar/gkz1021"
   ]
  },
  {
   "cell_type": "code",
   "execution_count": null,
   "id": "4058d9ad",
   "metadata": {},
   "outputs": [],
   "source": []
  },
  {
   "cell_type": "code",
   "execution_count": null,
   "id": "f990e8ce",
   "metadata": {},
   "outputs": [],
   "source": []
  }
 ],
 "metadata": {
  "kernelspec": {
   "display_name": "noteSI",
   "language": "python",
   "name": "python3"
  },
  "language_info": {
   "codemirror_mode": {
    "name": "ipython",
    "version": 3
   },
   "file_extension": ".py",
   "mimetype": "text/x-python",
   "name": "python",
   "nbconvert_exporter": "python",
   "pygments_lexer": "ipython3",
   "version": "3.9.20"
  },
  "toc": {
   "base_numbering": 1,
   "nav_menu": {},
   "number_sections": true,
   "sideBar": true,
   "skip_h1_title": false,
   "title_cell": "Table of Contents",
   "title_sidebar": "Contents",
   "toc_cell": true,
   "toc_position": {},
   "toc_section_display": true,
   "toc_window_display": false
  }
 },
 "nbformat": 4,
 "nbformat_minor": 5
}
