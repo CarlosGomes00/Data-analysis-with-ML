{
 "cells": [
  {
   "cell_type": "markdown",
   "id": "9d82fd1a",
   "metadata": {
    "toc": true
   },
   "source": [
    "<h1>Table of Contents<span class=\"tocSkip\"></span></h1>\n",
    "<div class=\"toc\"><ul class=\"toc-item\"><li><span><a href=\"#Set-up-the-Environment-and-Upload-data\" data-toc-modified-id=\"Set-up-the-Environment-and-Upload-data-1\"><span class=\"toc-item-num\">1&nbsp;&nbsp;</span>Set up the Environment and Upload data</a></span></li><li><span><a href=\"#Initial-Exploration-and-Pre-processing\" data-toc-modified-id=\"Initial-Exploration-and-Pre-processing-2\"><span class=\"toc-item-num\">2&nbsp;&nbsp;</span>Initial Exploration and Pre-processing</a></span><ul class=\"toc-item\"><li><span><a href=\"#DisGeNET-:-Gene-Disease-Association-(GDA)\" data-toc-modified-id=\"DisGeNET-:-Gene-Disease-Association-(GDA)-2.1\"><span class=\"toc-item-num\">2.1&nbsp;&nbsp;</span>DisGeNET : Gene Disease Association (GDA)</a></span></li><li><span><a href=\"#Data-pre-processing\" data-toc-modified-id=\"Data-pre-processing-2.2\"><span class=\"toc-item-num\">2.2&nbsp;&nbsp;</span>Data pre-processing</a></span></li><li><span><a href=\"#Exploratory-Analysis\" data-toc-modified-id=\"Exploratory-Analysis-2.3\"><span class=\"toc-item-num\">2.3&nbsp;&nbsp;</span>Exploratory Analysis</a></span></li></ul></li><li><span><a href=\"#Bibliografia\" data-toc-modified-id=\"Bibliografia-3\"><span class=\"toc-item-num\">3&nbsp;&nbsp;</span>Bibliografia</a></span></li></ul></div>"
   ]
  },
  {
   "cell_type": "code",
   "execution_count": 53,
   "id": "6a95a796",
   "metadata": {},
   "outputs": [],
   "source": [
    "#packages\n",
    "import numpy as np\n",
    "import pandas as pd\n",
    "from tdc.multi_pred import GDA\n",
    "from IPython.display import HTML"
   ]
  },
  {
   "cell_type": "markdown",
   "id": "fffc40e3",
   "metadata": {},
   "source": [
    "## Set up the Environment and Upload data"
   ]
  },
  {
   "cell_type": "markdown",
   "id": "968601ac",
   "metadata": {},
   "source": [
    "<div style=\"text-align: justify;\">\n",
    "To ensure that all the project's dependencies are installed correctly, we recommend using a Conda environment. You can easily create the environment with the project's dependencies from the env.yml file included in this repository."
   ]
  },
  {
   "cell_type": "code",
   "execution_count": 54,
   "id": "925d1c3d",
   "metadata": {},
   "outputs": [
    {
     "name": "stderr",
     "output_type": "stream",
     "text": [
      "Found local copy...\n",
      "Loading...\n",
      "Done!\n"
     ]
    },
    {
     "name": "stdout",
     "output_type": "stream",
     "text": [
      "Data uploading completed :)\n"
     ]
    }
   ],
   "source": [
    "# To use the DisGeNET dataset with TDC platform, we use the following code:\n",
    "data = GDA(name='DisGeNET')\n",
    "\n",
    "print(\"Data uploading completed :)\")"
   ]
  },
  {
   "cell_type": "markdown",
   "id": "f0423603",
   "metadata": {},
   "source": [
    "## Initial Exploration and Pre-processing"
   ]
  },
  {
   "cell_type": "markdown",
   "id": "d4666e97",
   "metadata": {},
   "source": [
    "<div style=\"text-align: justify;\">\n",
    "This section contains a comprehensive overview of the assigned data, starting with a detailed description and characterization based on existing documentation and literature. It includes a concise summary of the data's characteristics derived from an initial exploratory analysis, highlighting key statistics and observations. The section also describes the steps taken for data preparation and pre-processing, providing justification for each choice to ensure the data is clean, transformed, and organized for further analysis. Additionally, initial exploratory graphs are presented to visually illustrate the main characteristics of the data, helping to understand patterns, trends, and potential issues within the dataset.\n",
    " </div>"
   ]
  },
  {
   "cell_type": "markdown",
   "id": "6ea6a369",
   "metadata": {},
   "source": [
    "### DisGeNET : Gene Disease Association (GDA) "
   ]
  },
  {
   "cell_type": "code",
   "execution_count": 55,
   "id": "99940bda",
   "metadata": {
    "scrolled": true
   },
   "outputs": [
    {
     "data": {
      "text/html": [
       "<div style=\"display: flex; justify-content: center;\"><img src=\"https://www.ensembl.info/wp-content/uploads/2021/04/disgenet-logo-horizontal.png\" width=\"400\"/></div>"
      ],
      "text/plain": [
       "<IPython.core.display.HTML object>"
      ]
     },
     "execution_count": 55,
     "metadata": {},
     "output_type": "execute_result"
    }
   ],
   "source": [
    "HTML('<div style=\"display: flex; justify-content: center;\"><img src=\"https://www.ensembl.info/wp-content/uploads/2021/04/disgenet-logo-horizontal.png\" width=\"400\"/></div>')"
   ]
  },
  {
   "cell_type": "markdown",
   "id": "e41c08dd",
   "metadata": {},
   "source": [
    "The study of **gene-disease associations is a crucial step in understanding the etiology of diseases**. Identifying the link between genes and diseases makes it possible to better understand the cause of the disease and therefore to develop strategies to combat it. This process is fundamental to the advancement of medicine and the development of new therapies. [1]\n",
    "\n",
    "    \n",
    "\n",
    "**Therapeutics Data Commons (TDC) is a database created to promote the discovery of therapies for diseases**, especially those that are difficult to treat. It was developed by the National Institutes of Health with the aim of gathering genomic and clinical data from various sources to support biomedical research and the development of new treatments. [2]\n",
    "\n",
    "\n",
    "**GDA quantify the relation among a pair of gene-disease** and is one of the core concepts of DisGeNet platform that are integrated on TDC. DisGeNET is a discovery platform containing one of the largest publicly available collections of genes and variants associated to human diseases. **DisGeNET integrates data from expert curated repositories, Genome-Wide Association Study catalogues, animal models and the scientific literature**. DisGeNET data are homogeneously annotated with controlled vocabularies and community-driven ontologies. TDC uses the curated subset from UNIPROT, CGI, ClinGen, Genomics England, CTD (human subset), PsyGeNET, and Orphanet. TDC maps disease ID to disease definition through MedGen and maps GeneID to uniprot amino acid sequence. [3]\n",
    "\n",
    "\n",
    "This dataset contains **52,476 gene-disease pairs:** 7,399 genes and 7,095 diseases.                                   \n",
    "As we can see by de code bellow we have an object with 52,476 rows and 5 columns: *'Gene_ID'*, *'Gene'*, *'Disease_ID'*, *'Disease'*, *'Y'*. \n",
    "\n",
    "- **Gene_ID** column contains all unique identifiers for genes.\n",
    "- **Gene** column contains the sequences of amino acides corresponding to each gene_ID through Uniprot platform.\n",
    "- **Disease_ID** column contains all unique identifiers for diseases.\n",
    "- **Disease** column contains the disease definition corresponding to each disease_ID through MedGen-NCBI platform.\n",
    "- **Y** column is the target feature and represents the probability of association for a pair gene-disease. This column have values between 0 and 1.\n",
    "\n",
    "As our taregt feature is a numeric one, our work will be a regression problem when the main task is: *Given the disease description and the amino acid sequence of the gene, predict their association*."
   ]
  },
  {
   "cell_type": "code",
   "execution_count": 56,
   "id": "bd82b858",
   "metadata": {},
   "outputs": [
    {
     "name": "stdout",
     "output_type": "stream",
     "text": [
      "<class 'pandas.core.frame.DataFrame'>\n",
      "RangeIndex: 52476 entries, 0 to 52475\n",
      "Data columns (total 5 columns):\n",
      " #   Column      Non-Null Count  Dtype  \n",
      "---  ------      --------------  -----  \n",
      " 0   Gene_ID     52476 non-null  int64  \n",
      " 1   Gene        52476 non-null  object \n",
      " 2   Disease_ID  52476 non-null  object \n",
      " 3   Disease     52476 non-null  object \n",
      " 4   Y           52476 non-null  float64\n",
      "dtypes: float64(1), int64(1), object(3)\n",
      "memory usage: 2.0+ MB\n"
     ]
    },
    {
     "data": {
      "text/html": [
       "<div>\n",
       "<style scoped>\n",
       "    .dataframe tbody tr th:only-of-type {\n",
       "        vertical-align: middle;\n",
       "    }\n",
       "\n",
       "    .dataframe tbody tr th {\n",
       "        vertical-align: top;\n",
       "    }\n",
       "\n",
       "    .dataframe thead th {\n",
       "        text-align: right;\n",
       "    }\n",
       "</style>\n",
       "<table border=\"1\" class=\"dataframe\">\n",
       "  <thead>\n",
       "    <tr style=\"text-align: right;\">\n",
       "      <th></th>\n",
       "      <th>Gene_ID</th>\n",
       "      <th>Gene</th>\n",
       "      <th>Disease_ID</th>\n",
       "      <th>Disease</th>\n",
       "      <th>Y</th>\n",
       "    </tr>\n",
       "  </thead>\n",
       "  <tbody>\n",
       "    <tr>\n",
       "      <th>0</th>\n",
       "      <td>1</td>\n",
       "      <td>MSMLVVFLLLWGVTWGPVTEAAIFYETQPSLWAESESLLKPLANVT...</td>\n",
       "      <td>C0019209</td>\n",
       "      <td>Hepatomegaly: Abnormal enlargement of the liver.</td>\n",
       "      <td>0.30</td>\n",
       "    </tr>\n",
       "    <tr>\n",
       "      <th>1</th>\n",
       "      <td>1</td>\n",
       "      <td>MSMLVVFLLLWGVTWGPVTEAAIFYETQPSLWAESESLLKPLANVT...</td>\n",
       "      <td>C0036341</td>\n",
       "      <td>Schizophrenia: Schizophrenia is highly heritab...</td>\n",
       "      <td>0.30</td>\n",
       "    </tr>\n",
       "    <tr>\n",
       "      <th>2</th>\n",
       "      <td>2</td>\n",
       "      <td>MGKNKLLHPSLVLLLLVLLPTDASVSGKPQYMVLVPSLLHTETTEK...</td>\n",
       "      <td>C0002395</td>\n",
       "      <td>Alzheimer's Disease: Alzheimer disease is the ...</td>\n",
       "      <td>0.50</td>\n",
       "    </tr>\n",
       "    <tr>\n",
       "      <th>3</th>\n",
       "      <td>2</td>\n",
       "      <td>MGKNKLLHPSLVLLLLVLLPTDASVSGKPQYMVLVPSLLHTETTEK...</td>\n",
       "      <td>C0007102</td>\n",
       "      <td>Malignant tumor of colon: A primary or metasta...</td>\n",
       "      <td>0.31</td>\n",
       "    </tr>\n",
       "    <tr>\n",
       "      <th>4</th>\n",
       "      <td>2</td>\n",
       "      <td>MGKNKLLHPSLVLLLLVLLPTDASVSGKPQYMVLVPSLLHTETTEK...</td>\n",
       "      <td>C0009375</td>\n",
       "      <td>Colonic Neoplasms: A benign or malignant neopl...</td>\n",
       "      <td>0.30</td>\n",
       "    </tr>\n",
       "  </tbody>\n",
       "</table>\n",
       "</div>"
      ],
      "text/plain": [
       "   Gene_ID                                               Gene Disease_ID  \\\n",
       "0        1  MSMLVVFLLLWGVTWGPVTEAAIFYETQPSLWAESESLLKPLANVT...   C0019209   \n",
       "1        1  MSMLVVFLLLWGVTWGPVTEAAIFYETQPSLWAESESLLKPLANVT...   C0036341   \n",
       "2        2  MGKNKLLHPSLVLLLLVLLPTDASVSGKPQYMVLVPSLLHTETTEK...   C0002395   \n",
       "3        2  MGKNKLLHPSLVLLLLVLLPTDASVSGKPQYMVLVPSLLHTETTEK...   C0007102   \n",
       "4        2  MGKNKLLHPSLVLLLLVLLPTDASVSGKPQYMVLVPSLLHTETTEK...   C0009375   \n",
       "\n",
       "                                             Disease     Y  \n",
       "0   Hepatomegaly: Abnormal enlargement of the liver.  0.30  \n",
       "1  Schizophrenia: Schizophrenia is highly heritab...  0.30  \n",
       "2  Alzheimer's Disease: Alzheimer disease is the ...  0.50  \n",
       "3  Malignant tumor of colon: A primary or metasta...  0.31  \n",
       "4  Colonic Neoplasms: A benign or malignant neopl...  0.30  "
      ]
     },
     "execution_count": 56,
     "metadata": {},
     "output_type": "execute_result"
    }
   ],
   "source": [
    "#Inspecting DisGeNet dataset\n",
    "full_data = data.get_data()\n",
    "full_data.info()\n",
    "full_data.head()"
   ]
  },
  {
   "cell_type": "markdown",
   "id": "b5b2ae43",
   "metadata": {},
   "source": [
    "### Data pre-processing"
   ]
  },
  {
   "cell_type": "code",
   "execution_count": 57,
   "id": "96014eab",
   "metadata": {},
   "outputs": [],
   "source": [
    "# Importing necessary libraries\n",
    "import numpy as np\n",
    "import pandas as pd\n",
    "from sklearn.preprocessing import LabelEncoder, MinMaxScaler\n",
    "from sklearn.model_selection import train_test_split\n"
   ]
  },
  {
   "cell_type": "markdown",
   "id": "dbb0e3ab",
   "metadata": {},
   "source": [
    "#### Checking for Missing Values\n",
    "Although the dataset is curated, we explicitly verify for null values to ensure data integrity:"
   ]
  },
  {
   "cell_type": "code",
   "execution_count": 58,
   "id": "692763e9",
   "metadata": {},
   "outputs": [
    {
     "name": "stdout",
     "output_type": "stream",
     "text": [
      "Checking for missing values:\n",
      "Gene_ID       0\n",
      "Gene          0\n",
      "Disease_ID    0\n",
      "Disease       0\n",
      "Y             0\n",
      "dtype: int64\n",
      "No missing values found. The dataset is clean and ready for preprocessing :)\n"
     ]
    }
   ],
   "source": [
    "print(\"Checking for missing values:\")\n",
    "missing_values = full_data.isnull().sum()\n",
    "print(missing_values)\n",
    "\n",
    "if missing_values.sum() == 0:\n",
    "    print(\"No missing values found. The dataset is clean and ready for preprocessing :)\")\n"
   ]
  },
  {
   "cell_type": "markdown",
   "id": "4d25ee6d",
   "metadata": {},
   "source": [
    "#### Encoding Disease_ID\n",
    "Disease_ID is a categorical feature. Encoding it to numerical values ensures compatibility with machine learning models."
   ]
  },
  {
   "cell_type": "code",
   "execution_count": 59,
   "id": "ad1be660",
   "metadata": {},
   "outputs": [],
   "source": [
    "# We use LabelEncoder to convert each unique Disease_ID into a corresponding numeric code.\n",
    "le_disease = LabelEncoder()\n",
    "full_data['Disease_ID_encoded'] = le_disease.fit_transform(full_data['Disease_ID'])"
   ]
  },
  {
   "cell_type": "markdown",
   "id": "3f567a2c",
   "metadata": {},
   "source": [
    "#### Mapping Encoded Labels Back to Disease Names\n",
    "For interpretability and visualization purposes, we create a reverse mapping to convert numeric codes back to disease names."
   ]
  },
  {
   "cell_type": "code",
   "execution_count": 60,
   "id": "6e822152",
   "metadata": {},
   "outputs": [
    {
     "name": "stdout",
     "output_type": "stream",
     "text": [
      "Example of Disease_ID_encoded to Disease mapping:\n",
      "635: Hepatomegaly: Abnormal enlargement of the liver.\n",
      "1308: Schizophrenia: Schizophrenia is highly heritable, as shown by family, twin, and adoption studies. For example, for identical twins, if one twin develops schizophrenia, the other twin has about a 50% chance of also developing the disease. The risk of the general population developing the schizophrenia is about 0.3-0.7% worldwide. The search for “schizophrenia genes” has been elusive. Initial linkage studies looked at parts of the genome associated with schizophrenia, and many candidate genes were identified, including APOE, COMT, DAO, DRD1, DRD2, DRD4, DTNBP1, GABRB2, GRIN2B, HP, IL1B, MTHFR, PLXNA2, SLC6A4, TP53, and TPH1. However, some of these have later been questioned. Microdeletions and microduplications have been found to be three times more common in individuals with schizophrenia, compared to controls. Because these deletions and duplications are in genes that are overexpressed in pathways related to brain development, it is possible that the inheritance of multiple rare variants may contribute to the development of schizophrenia. Several genetic disorders feature schizophrenia as a clinical feature. The 22q11.2 Deletion Syndrome comprises many different syndromes, of which one of the most serious is DiGeorge syndrome. Children born with DiGeorge syndrome typically have heart defects, cleft palate, learning difficulties, and immune deficiency. Schizophrenia is a late manifestation, affecting around 30% of individuals. Microdeletions and duplications in chromosome 1, 2, 3, 7, 15 and 16 have also been associated with schizophrenia. In 2014, a genome-wide association study looked at the genomes of over 35,000 patients and 110,00 controls. The study identified 108 SNPs that were associated with schizophrenia, 83 of which had not been previously reported. As expected, many of these loci occurred in genes that are expressed in the brain. For example, the SNPs included a gene that encodes the dopamine D2 receptor, DRD2 (the target of antipsychotic drugs), and many genes involved in glutamine neurotransmitter pathways and synaptic plasticity (e.g., GRM3, GRIN2A, SRR, GRIA1). More surprisingly, however, associations were also enriched among genes expressed in tissues with important immune functions. In 2016, a study based on nearly 65,000 people investigated the association between schizophrenia and variation in the Major Histocompatibility Complex (MHC) locus—a region on chromosome 6 that is important for immune function. The study focused on the C4 gene (complement component 4) that exists as two distinct genes: C4A and C4B, which encode particularly structurally diverse alleles. The study found that the alleles which promoted greater expression of C4A in the brain were associated with a greater risk of schizophrenia. By using mice models, the study showed that C4 is involved in the elimination of synapses during brain maturation. In humans, “synaptic pruning” is most active during late adolescence, which coincides with the typical onset of symptoms of schizophrenia. It is therefore possible that the inheritance of specific C4A alleles could lead to “run away” synaptic pruning, increasing the risk of schizophrenia. Further research may even determine C4 as a potential therapeutic target.\n",
      "49: Alzheimer's Disease: Alzheimer disease is the most common form of progressive dementia in the elderly. It is a neurodegenerative disorder characterized by the neuropathologic findings of intracellular neurofibrillary tangles (NFT) and extracellular amyloid plaques that accumulate in vulnerable brain regions (Sennvik et al., 2000). Terry and Davies (1980) pointed out that the 'presenile' form, with onset before age 65, is identical to the most common form of late-onset or 'senile' dementia, and suggested the term 'senile dementia of the Alzheimer type' (SDAT).\n",
      "\n",
      "217: Malignant tumor of colon: A primary or metastatic malignant neoplasm that affects the colon. Representative examples include carcinoma, lymphoma, and sarcoma.\n",
      "306: Colonic Neoplasms: A benign or malignant neoplasm that affects the colon. Representative examples of benign neoplasms include lipoma and leiomyoma. Representative examples of malignant neoplasms include carcinoma, lymphoma, and sarcoma. Colonic adenomas always exhibit epithelial dysplasia and are considered premalignant neoplasms.\n"
     ]
    }
   ],
   "source": [
    "disease_reverse_mapping = dict(zip(full_data['Disease_ID_encoded'], full_data['Disease']))\n",
    "print(\"Example of Disease_ID_encoded to Disease mapping:\")\n",
    "for key, value in list(disease_reverse_mapping.items())[:5]:  # Displaying the first 5 mappings\n",
    "    print(f\"{key}: {value}\")"
   ]
  },
  {
   "cell_type": "markdown",
   "id": "481f582a",
   "metadata": {},
   "source": [
    "#### Normalizing the Target (Y)\n",
    "Normalizing the target values ensures they are on the same scale, which can improve the performance of machine learning algorithms."
   ]
  },
  {
   "cell_type": "code",
   "execution_count": 61,
   "id": "3db1a623",
   "metadata": {},
   "outputs": [],
   "source": [
    "scaler = MinMaxScaler()\n",
    "full_data['Y_normalized'] = scaler.fit_transform(full_data[['Y']])"
   ]
  },
  {
   "cell_type": "markdown",
   "id": "d981003e",
   "metadata": {},
   "source": [
    "#### Splitting the Dataset into Train, Validation, and Test Sets\n",
    "Dividing the dataset allows us to train, validate, and test the model on different subsets, ensuring a robust evaluation."
   ]
  },
  {
   "cell_type": "code",
   "execution_count": 62,
   "id": "5c6250b2",
   "metadata": {},
   "outputs": [],
   "source": [
    "# We follow an 80-10-10 split for train, validation, and test sets.\n",
    "train_data, test_data = train_test_split(full_data, test_size=0.2, random_state=42)\n",
    "train_data, valid_data = train_test_split(train_data, test_size=0.1, random_state=42)\n"
   ]
  },
  {
   "cell_type": "markdown",
   "id": "aa4d9ad8",
   "metadata": {},
   "source": [
    "#### Preparing Features and Target\n",
    "Features are the inputs for our model, while the target is the output. Here, we select the appropriate columns for both. Defining features and target variables is crucial for supervised learning. \n"
   ]
  },
  {
   "cell_type": "code",
   "execution_count": 63,
   "id": "4ccb7579",
   "metadata": {},
   "outputs": [],
   "source": [
    "# The features include Gene_ID and Disease_ID_encoded, while the target is Y_normalized.\n",
    "X_train = train_data[['Gene_ID', 'Disease_ID_encoded']]\n",
    "y_train = train_data['Y_normalized']\n",
    "\n",
    "X_valid = valid_data[['Gene_ID', 'Disease_ID_encoded']]\n",
    "y_valid = valid_data['Y_normalized']\n",
    "\n",
    "X_test = test_data[['Gene_ID', 'Disease_ID_encoded']]\n",
    "y_test = test_data['Y_normalized']\n"
   ]
  },
  {
   "cell_type": "markdown",
   "id": "9af63e78",
   "metadata": {},
   "source": [
    "#### Validating the Pre-processing\n",
    "Ensuring that the splits have the expected sizes and that the features and target are properly prepared."
   ]
  },
  {
   "cell_type": "code",
   "execution_count": 64,
   "id": "d232ad50",
   "metadata": {},
   "outputs": [
    {
     "name": "stdout",
     "output_type": "stream",
     "text": [
      "Training set: (37782, 2), Validation set: (4198, 2), Test set: (10496, 2)\n",
      "First few rows of X_train:\n",
      "       Gene_ID  Disease_ID_encoded\n",
      "24634     5055                6910\n",
      "40534    10293                 415\n",
      "8064      1509                4606\n",
      "29814     6323                4624\n",
      "25108     5160                1254\n"
     ]
    }
   ],
   "source": [
    "print(f\"Training set: {X_train.shape}, Validation set: {X_valid.shape}, Test set: {X_test.shape}\")\n",
    "print(\"First few rows of X_train:\")\n",
    "print(X_train.head())"
   ]
  },
  {
   "cell_type": "markdown",
   "id": "8fff0fbc",
   "metadata": {},
   "source": [
    "#### Preparing for Visualization\n",
    "For exploratory data analysis, we add a column with the disease names to replace numeric codes when plotting."
   ]
  },
  {
   "cell_type": "code",
   "execution_count": 65,
   "id": "40525b0e",
   "metadata": {},
   "outputs": [
    {
     "name": "stdout",
     "output_type": "stream",
     "text": [
      "First few rows of X_train with disease labels:\n",
      "       Gene_ID                                      Disease_Label\n",
      "24634     5055  Mammary Carcinoma, Human: Cancer of the human ...\n",
      "40534    10293  Dwarfism: A genetic or pathological condition ...\n",
      "8064      1509  Neuronal Ceroid Lipofuscinosis, Congenital: CL...\n",
      "29814     6323  Migraine, Familial Hemiplegic, 3: Familial hem...\n",
      "25108     5160  Pyruvate Metabolism, Inborn Errors: Hereditary...\n"
     ]
    }
   ],
   "source": [
    "X_train['Disease_Label'] = X_train['Disease_ID_encoded'].map(disease_reverse_mapping)\n",
    "X_valid['Disease_Label'] = X_valid['Disease_ID_encoded'].map(disease_reverse_mapping)\n",
    "X_test['Disease_Label'] = X_test['Disease_ID_encoded'].map(disease_reverse_mapping)\n",
    "\n",
    "print(\"First few rows of X_train with disease labels:\")\n",
    "print(X_train[['Gene_ID', 'Disease_Label']].head())"
   ]
  },
  {
   "cell_type": "markdown",
   "id": "10257298",
   "metadata": {},
   "source": [
    "### Exploratory Analysis"
   ]
  },
  {
   "cell_type": "code",
   "execution_count": null,
   "id": "9686fefe",
   "metadata": {},
   "outputs": [],
   "source": []
  },
  {
   "cell_type": "code",
   "execution_count": null,
   "id": "7eadbae1",
   "metadata": {},
   "outputs": [],
   "source": []
  },
  {
   "cell_type": "code",
   "execution_count": null,
   "id": "b8d2d18e",
   "metadata": {},
   "outputs": [],
   "source": []
  },
  {
   "cell_type": "markdown",
   "id": "e904ce5d",
   "metadata": {},
   "source": [
    "## Bibliografia"
   ]
  },
  {
   "cell_type": "markdown",
   "id": "1bb6c6d5",
   "metadata": {},
   "source": [
    "[1] Opap, K., & Mulder, N. (2017). Recent advances in predicting gene–disease associations. F1000Research, 6, 578. https://doi.org/10.12688/f1000research.10788.1\n",
    "    \n",
    "[2] Therapeutics Data Commons. (2024). TDC. https://tdcommons.ai/\n",
    "\n",
    "[3] Piñero, J., Ramírez-Anguita, J. M., Saüch-Pitarch, J., Ronzano, F., Centeno, E., Sanz, F., & Furlong, L. I. (2019). The DisGeNET knowledge platform for disease genomics: 2019 update. Nucleic Acids Research, 48(D1). https://doi.org/10.1093/nar/gkz1021"
   ]
  },
  {
   "cell_type": "code",
   "execution_count": null,
   "id": "4058d9ad",
   "metadata": {},
   "outputs": [],
   "source": []
  },
  {
   "cell_type": "code",
   "execution_count": null,
   "id": "f990e8ce",
   "metadata": {},
   "outputs": [],
   "source": []
  }
 ],
 "metadata": {
  "kernelspec": {
   "display_name": "noteSI",
   "language": "python",
   "name": "python3"
  },
  "language_info": {
   "codemirror_mode": {
    "name": "ipython",
    "version": 3
   },
   "file_extension": ".py",
   "mimetype": "text/x-python",
   "name": "python",
   "nbconvert_exporter": "python",
   "pygments_lexer": "ipython3",
   "version": "3.9.20"
  },
  "toc": {
   "base_numbering": 1,
   "nav_menu": {},
   "number_sections": true,
   "sideBar": true,
   "skip_h1_title": false,
   "title_cell": "Table of Contents",
   "title_sidebar": "Contents",
   "toc_cell": true,
   "toc_position": {},
   "toc_section_display": true,
   "toc_window_display": false
  }
 },
 "nbformat": 4,
 "nbformat_minor": 5
}
