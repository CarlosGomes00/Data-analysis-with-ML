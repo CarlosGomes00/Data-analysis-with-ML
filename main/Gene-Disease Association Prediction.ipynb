{
 "cells": [
  {
   "cell_type": "markdown",
   "id": "9d82fd1a",
   "metadata": {
    "toc": true
   },
   "source": [
    "<h1>Table of Contents<span class=\"tocSkip\"></span></h1>\n",
    "<div class=\"toc\"><ul class=\"toc-item\"><li><span><a href=\"#Set-up-the-Environment-and-Upload-data\" data-toc-modified-id=\"Set-up-the-Environment-and-Upload-data-1\"><span class=\"toc-item-num\">1&nbsp;&nbsp;</span>Set up the Environment and Upload data</a></span></li><li><span><a href=\"#Initial-Exploration-and-Pre-processing\" data-toc-modified-id=\"Initial-Exploration-and-Pre-processing-2\"><span class=\"toc-item-num\">2&nbsp;&nbsp;</span>Initial Exploration and Pre-processing</a></span><ul class=\"toc-item\"><li><span><a href=\"#DisGeNET-:-Gene-Disease-Association-(GDA)\" data-toc-modified-id=\"DisGeNET-:-Gene-Disease-Association-(GDA)-2.1\"><span class=\"toc-item-num\">2.1&nbsp;&nbsp;</span>DisGeNET : Gene Disease Association (GDA)</a></span></li><li><span><a href=\"#Data-pre-processing\" data-toc-modified-id=\"Data-pre-processing-2.2\"><span class=\"toc-item-num\">2.2&nbsp;&nbsp;</span>Data pre-processing</a></span></li><li><span><a href=\"#Exploratory-Analysis\" data-toc-modified-id=\"Exploratory-Analysis-2.3\"><span class=\"toc-item-num\">2.3&nbsp;&nbsp;</span>Exploratory Analysis</a></span></li></ul></li><li><span><a href=\"#Bibliografia\" data-toc-modified-id=\"Bibliografia-3\"><span class=\"toc-item-num\">3&nbsp;&nbsp;</span>Bibliografia</a></span></li></ul></div>"
   ]
  },
  {
   "cell_type": "code",
   "execution_count": 14,
   "id": "6a95a796",
   "metadata": {
    "ExecuteTime": {
     "end_time": "2024-12-16T20:46:30.902035Z",
     "start_time": "2024-12-16T20:46:29.598570Z"
    }
   },
   "outputs": [],
   "source": [
    "#packages\n",
    "import re\n",
    "import numpy as np\n",
    "import pandas as pd\n",
    "from tdc.multi_pred import GDA\n",
    "from IPython.display import HTML\n",
    "from sklearn.preprocessing import LabelEncoder, MinMaxScaler\n",
    "from sklearn.model_selection import train_test_split\n",
    "from sklearn.preprocessing import StandardScaler, LabelEncoder\n",
    "from sklearn.decomposition import PCA\n",
    "from sklearn.cluster import KMeans\n",
    "from sklearn.feature_selection import VarianceThreshold\n"
   ]
  },
  {
   "cell_type": "markdown",
   "id": "fffc40e3",
   "metadata": {},
   "source": [
    "## Set up the Environment and Upload data"
   ]
  },
  {
   "cell_type": "markdown",
   "id": "968601ac",
   "metadata": {},
   "source": [
    "<div style=\"text-align: justify;\">\n",
    "To ensure that all the project's dependencies are installed correctly, we recommend using a Conda environment. You can easily create the environment with the project's dependencies from the env.yml file included in this repository."
   ]
  },
  {
   "cell_type": "code",
   "execution_count": 55,
   "id": "925d1c3d",
   "metadata": {
    "ExecuteTime": {
     "end_time": "2024-12-16T20:46:33.992818Z",
     "start_time": "2024-12-16T20:46:32.908531Z"
    }
   },
   "outputs": [
    {
     "name": "stderr",
     "output_type": "stream",
     "text": [
      "Found local copy...\n",
      "Loading...\n",
      "Done!\n"
     ]
    },
    {
     "name": "stdout",
     "output_type": "stream",
     "text": [
      "Data uploading completed :)\n"
     ]
    }
   ],
   "source": [
    "# To use the DisGeNET dataset with TDC platform, we use the following code:\n",
    "data = GDA(name='DisGeNET')\n",
    "\n",
    "print(\"Data uploading completed :)\")"
   ]
  },
  {
   "cell_type": "markdown",
   "id": "f0423603",
   "metadata": {},
   "source": [
    "## Initial Exploration and Pre-processing"
   ]
  },
  {
   "cell_type": "markdown",
   "id": "d4666e97",
   "metadata": {},
   "source": [
    "<div style=\"text-align: justify;\">\n",
    "This section contains a comprehensive overview of the assigned data, starting with a detailed description and characterization based on existing documentation and literature. It includes a concise summary of the data's characteristics derived from an initial exploratory analysis, highlighting key statistics and observations. The section also describes the steps taken for data preparation and pre-processing, providing justification for each choice to ensure the data is clean, transformed, and organized for further analysis. Additionally, initial exploratory graphs are presented to visually illustrate the main characteristics of the data, helping to understand patterns, trends, and potential issues within the dataset.\n",
    " </div>"
   ]
  },
  {
   "cell_type": "markdown",
   "id": "6ea6a369",
   "metadata": {},
   "source": [
    "### DisGeNET : Gene Disease Association (GDA) "
   ]
  },
  {
   "cell_type": "code",
   "execution_count": 16,
   "id": "99940bda",
   "metadata": {
    "ExecuteTime": {
     "end_time": "2024-12-16T17:04:04.168594Z",
     "start_time": "2024-12-16T17:04:04.156182Z"
    },
    "scrolled": true
   },
   "outputs": [
    {
     "data": {
      "text/html": [
       "<div style=\"display: flex; justify-content: center;\"><img src=\"https://www.ensembl.info/wp-content/uploads/2021/04/disgenet-logo-horizontal.png\" width=\"400\"/></div>"
      ],
      "text/plain": [
       "<IPython.core.display.HTML object>"
      ]
     },
     "execution_count": 16,
     "metadata": {},
     "output_type": "execute_result"
    }
   ],
   "source": [
    "HTML('<div style=\"display: flex; justify-content: center;\"><img src=\"https://www.ensembl.info/wp-content/uploads/2021/04/disgenet-logo-horizontal.png\" width=\"400\"/></div>')"
   ]
  },
  {
   "cell_type": "markdown",
   "id": "e41c08dd",
   "metadata": {},
   "source": [
    "The study of **gene-disease associations is a crucial step in understanding the etiology of diseases**. Identifying the link between genes and diseases makes it possible to better understand the cause of the disease and therefore to develop strategies to combat it. This process is fundamental to the advancement of medicine and the development of new therapies. [1]\n",
    "\n",
    "    \n",
    "\n",
    "**Therapeutics Data Commons (TDC) is a database created to promote the discovery of therapies for diseases**, especially those that are difficult to treat. It was developed by the National Institutes of Health with the aim of gathering genomic and clinical data from various sources to support biomedical research and the development of new treatments. [2]\n",
    "\n",
    "\n",
    "**GDA quantify the relation among a pair of gene-disease** and is one of the core concepts of DisGeNet platform that are integrated on TDC. DisGeNET is a discovery platform containing one of the largest publicly available collections of genes and variants associated to human diseases. **DisGeNET integrates data from expert curated repositories, Genome-Wide Association Study catalogues, animal models and the scientific literature**. DisGeNET data are homogeneously annotated with controlled vocabularies and community-driven ontologies. TDC uses the curated subset from UNIPROT, CGI, ClinGen, Genomics England, CTD (human subset), PsyGeNET, and Orphanet. TDC maps disease ID to disease definition through MedGen and maps GeneID to uniprot amino acid sequence. [3]\n",
    "\n",
    "\n",
    "This dataset contains **52,476 gene-disease pairs:** 7,399 genes and 7,095 diseases.                                   \n",
    "As we can see by de code bellow we have an object with 52,476 rows and 5 columns: *'Gene_ID'*, *'Gene'*, *'Disease_ID'*, *'Disease'*, *'Y'*. \n",
    "\n",
    "- **Gene_ID** column contains all unique identifiers for genes.\n",
    "- **Gene** column contains the sequences of amino acides corresponding to each gene_ID through Uniprot platform.\n",
    "- **Disease_ID** column contains all unique identifiers for diseases.\n",
    "- **Disease** column contains the disease definition corresponding to each disease_ID through MedGen-NCBI platform.\n",
    "- **Y** column is the target feature and represents the probability of association for a pair gene-disease. This column have values between 0 and 1.\n",
    "\n",
    "As our taregt feature is a numeric one, our work will be a regression problem when the main task is: *Given the disease description and the amino acid sequence of the gene, predict their association*."
   ]
  },
  {
   "cell_type": "code",
   "execution_count": 56,
   "id": "bd82b858",
   "metadata": {
    "ExecuteTime": {
     "end_time": "2024-12-16T20:46:39.455320Z",
     "start_time": "2024-12-16T20:46:39.395644Z"
    }
   },
   "outputs": [
    {
     "name": "stdout",
     "output_type": "stream",
     "text": [
      "<class 'pandas.core.frame.DataFrame'>\n",
      "RangeIndex: 52476 entries, 0 to 52475\n",
      "Data columns (total 5 columns):\n",
      " #   Column      Non-Null Count  Dtype  \n",
      "---  ------      --------------  -----  \n",
      " 0   Gene_ID     52476 non-null  int64  \n",
      " 1   Gene        52476 non-null  object \n",
      " 2   Disease_ID  52476 non-null  object \n",
      " 3   Disease     52476 non-null  object \n",
      " 4   Y           52476 non-null  float64\n",
      "dtypes: float64(1), int64(1), object(3)\n",
      "memory usage: 2.0+ MB\n"
     ]
    },
    {
     "data": {
      "text/html": [
       "<div>\n",
       "<style scoped>\n",
       "    .dataframe tbody tr th:only-of-type {\n",
       "        vertical-align: middle;\n",
       "    }\n",
       "\n",
       "    .dataframe tbody tr th {\n",
       "        vertical-align: top;\n",
       "    }\n",
       "\n",
       "    .dataframe thead th {\n",
       "        text-align: right;\n",
       "    }\n",
       "</style>\n",
       "<table border=\"1\" class=\"dataframe\">\n",
       "  <thead>\n",
       "    <tr style=\"text-align: right;\">\n",
       "      <th></th>\n",
       "      <th>Gene_ID</th>\n",
       "      <th>Gene</th>\n",
       "      <th>Disease_ID</th>\n",
       "      <th>Disease</th>\n",
       "      <th>Y</th>\n",
       "    </tr>\n",
       "  </thead>\n",
       "  <tbody>\n",
       "    <tr>\n",
       "      <th>0</th>\n",
       "      <td>1</td>\n",
       "      <td>MSMLVVFLLLWGVTWGPVTEAAIFYETQPSLWAESESLLKPLANVT...</td>\n",
       "      <td>C0019209</td>\n",
       "      <td>Hepatomegaly: Abnormal enlargement of the liver.</td>\n",
       "      <td>0.30</td>\n",
       "    </tr>\n",
       "    <tr>\n",
       "      <th>1</th>\n",
       "      <td>1</td>\n",
       "      <td>MSMLVVFLLLWGVTWGPVTEAAIFYETQPSLWAESESLLKPLANVT...</td>\n",
       "      <td>C0036341</td>\n",
       "      <td>Schizophrenia: Schizophrenia is highly heritab...</td>\n",
       "      <td>0.30</td>\n",
       "    </tr>\n",
       "    <tr>\n",
       "      <th>2</th>\n",
       "      <td>2</td>\n",
       "      <td>MGKNKLLHPSLVLLLLVLLPTDASVSGKPQYMVLVPSLLHTETTEK...</td>\n",
       "      <td>C0002395</td>\n",
       "      <td>Alzheimer's Disease: Alzheimer disease is the ...</td>\n",
       "      <td>0.50</td>\n",
       "    </tr>\n",
       "    <tr>\n",
       "      <th>3</th>\n",
       "      <td>2</td>\n",
       "      <td>MGKNKLLHPSLVLLLLVLLPTDASVSGKPQYMVLVPSLLHTETTEK...</td>\n",
       "      <td>C0007102</td>\n",
       "      <td>Malignant tumor of colon: A primary or metasta...</td>\n",
       "      <td>0.31</td>\n",
       "    </tr>\n",
       "    <tr>\n",
       "      <th>4</th>\n",
       "      <td>2</td>\n",
       "      <td>MGKNKLLHPSLVLLLLVLLPTDASVSGKPQYMVLVPSLLHTETTEK...</td>\n",
       "      <td>C0009375</td>\n",
       "      <td>Colonic Neoplasms: A benign or malignant neopl...</td>\n",
       "      <td>0.30</td>\n",
       "    </tr>\n",
       "  </tbody>\n",
       "</table>\n",
       "</div>"
      ],
      "text/plain": [
       "   Gene_ID                                               Gene Disease_ID  \\\n",
       "0        1  MSMLVVFLLLWGVTWGPVTEAAIFYETQPSLWAESESLLKPLANVT...   C0019209   \n",
       "1        1  MSMLVVFLLLWGVTWGPVTEAAIFYETQPSLWAESESLLKPLANVT...   C0036341   \n",
       "2        2  MGKNKLLHPSLVLLLLVLLPTDASVSGKPQYMVLVPSLLHTETTEK...   C0002395   \n",
       "3        2  MGKNKLLHPSLVLLLLVLLPTDASVSGKPQYMVLVPSLLHTETTEK...   C0007102   \n",
       "4        2  MGKNKLLHPSLVLLLLVLLPTDASVSGKPQYMVLVPSLLHTETTEK...   C0009375   \n",
       "\n",
       "                                             Disease     Y  \n",
       "0   Hepatomegaly: Abnormal enlargement of the liver.  0.30  \n",
       "1  Schizophrenia: Schizophrenia is highly heritab...  0.30  \n",
       "2  Alzheimer's Disease: Alzheimer disease is the ...  0.50  \n",
       "3  Malignant tumor of colon: A primary or metasta...  0.31  \n",
       "4  Colonic Neoplasms: A benign or malignant neopl...  0.30  "
      ]
     },
     "execution_count": 56,
     "metadata": {},
     "output_type": "execute_result"
    }
   ],
   "source": [
    "#Inspecting DisGeNet dataset\n",
    "full_data = data.get_data()\n",
    "full_data.info()\n",
    "full_data.head()"
   ]
  },
  {
   "cell_type": "markdown",
   "id": "ceda9a60",
   "metadata": {},
   "source": [
    "### Data Pre-Processing"
   ]
  },
  {
   "cell_type": "markdown",
   "id": "e43fdc65",
   "metadata": {},
   "source": [
    "Pre-processing is a crucial step to ensure the dataset is ready for analysis and modeling. Gene-disease association analysis requires the transformation of textual and sequential data into numerical representations that can be used in supervised learning tasks. In this context, the \"Gene\" and \"Disease\" columns of the dataset were transformed using appropriate methods for each type of data: k-mers combined with Word2Vec for amino acid sequences, and BioBERT for textual descriptions of diseases. \n",
    "\n",
    "Key steps include:  \n",
    "\n",
    "- Transformation of the \"Disease\" Column (Textual Descriptions of Diseases): generate embeddings through BioBERT model\n",
    "- Transformation of the \"Gene\" Column (Amino Acid Sequences): generate embedding through k-mers + Word2Vec\n",
    "- Feature integration: Combining generated features into a unified dataset.  \n",
    "- Data cleaning and normalization: Handling missing values and scaling numerical features.  \n",
    "- Feature selection and dataset splitting: Filtering relevant columns and dividing the data into training, validation, and test sets."
   ]
  },
  {
   "cell_type": "markdown",
   "id": "e072d095",
   "metadata": {},
   "source": [
    "#### Transformation of the \"Disease\" Column (Textual Descriptions of Diseases)\n",
    "The **\"Disease\" column** contains textual descriptions extracted from biomedical sources. These texts provide detailed information about the nature and effects of diseases but need to be transformed into numerical representations to enable integration with gene data and model training. For this purpose, the **BioBERT model**, a pre-trained language model specialized in biomedical data, was used."
   ]
  },
  {
   "cell_type": "code",
   "execution_count": 30,
   "id": "b55a71df",
   "metadata": {},
   "outputs": [],
   "source": [
    "#Packages\n",
    "#!pip install torch\n",
    "#!pip install transformers\n",
    "#!pip install gensim"
   ]
  },
  {
   "cell_type": "code",
   "execution_count": 20,
   "id": "178a8838",
   "metadata": {},
   "outputs": [],
   "source": [
    "#import torch\n",
    "#from transformers import BertTokenizer, BertModel"
   ]
  },
  {
   "cell_type": "code",
   "execution_count": null,
   "id": "523c7f6a",
   "metadata": {},
   "outputs": [],
   "source": [
    "# Load BioBERT and tokenizer\n",
    "#model_name = \"dmis-lab/biobert-v1.1\"  # pre-trained model BioBERT for biomedical tasks\n",
    "#tokenizer = BertTokenizer.from_pretrained(model_name)\n",
    "#model = BertModel.from_pretrained(model_name)\n",
    "\n",
    "# Obtain embeddings by BioBERT\n",
    "#def get_biobert_embedding(text, tokenizer, model):\n",
    "#    inputs = tokenizer(text, return_tensors=\"pt\", truncation=True, padding=True, max_length=512)\n",
    "#    with torch.no_grad():\n",
    "#        outputs = model(**inputs)\n",
    "#    embeddings = outputs.last_hidden_state\n",
    "#    embedding = embeddings.mean(dim=1).squeeze().numpy()\n",
    "#    return embedding\n",
    "\n",
    "# Generate embeddings for all disease descriptions\n",
    "#full_data['Disease_Embedding'] = full_data['Disease'].apply(lambda x: get_biobert_embedding(x, tokenizer, model))\n",
    "\n",
    "# Save dataframe with disease embeddings\n",
    "#full_data.to_csv('dataset_with_embeddings.csv', index=False)\n"
   ]
  },
  {
   "cell_type": "code",
   "execution_count": 57,
   "id": "fe63d718",
   "metadata": {},
   "outputs": [
    {
     "name": "stdout",
     "output_type": "stream",
     "text": [
      "   Gene_ID                                               Gene Disease_ID  \\\n",
      "0        1  MSMLVVFLLLWGVTWGPVTEAAIFYETQPSLWAESESLLKPLANVT...   C0019209   \n",
      "1        1  MSMLVVFLLLWGVTWGPVTEAAIFYETQPSLWAESESLLKPLANVT...   C0036341   \n",
      "2        2  MGKNKLLHPSLVLLLLVLLPTDASVSGKPQYMVLVPSLLHTETTEK...   C0002395   \n",
      "3        2  MGKNKLLHPSLVLLLLVLLPTDASVSGKPQYMVLVPSLLHTETTEK...   C0007102   \n",
      "4        2  MGKNKLLHPSLVLLLLVLLPTDASVSGKPQYMVLVPSLLHTETTEK...   C0009375   \n",
      "\n",
      "                                             Disease     Y  \\\n",
      "0   Hepatomegaly: Abnormal enlargement of the liver.  0.30   \n",
      "1  Schizophrenia: Schizophrenia is highly heritab...  0.30   \n",
      "2  Alzheimer's Disease: Alzheimer disease is the ...  0.50   \n",
      "3  Malignant tumor of colon: A primary or metasta...  0.31   \n",
      "4  Colonic Neoplasms: A benign or malignant neopl...  0.30   \n",
      "\n",
      "                                   Disease_Embedding  \n",
      "0  [-1.98067158e-01  8.78047347e-02  1.04391329e-...  \n",
      "1  [ 9.51891020e-02  3.84718403e-02 -1.41937628e-...  \n",
      "2  [ 3.42427753e-02  7.14582726e-02 -8.86209905e-...  \n",
      "3  [-7.21219406e-02  1.42508820e-01 -1.60438985e-...  \n",
      "4  [-5.13770767e-02 -6.74433447e-03 -7.57072270e-...  \n"
     ]
    }
   ],
   "source": [
    "#Reading csv with the disease embeddings\n",
    "df_with_disease_emb = pd.read_csv('dataset_with_embeddings.csv')\n",
    "print(df_with_disease_emb.head())"
   ]
  },
  {
   "cell_type": "markdown",
   "id": "adc53f21",
   "metadata": {},
   "source": [
    "#### Transformation of the \"Gene\" Column (Amino Acid Sequences)\n",
    "\n",
    "The **amino acid sequences in the \"Gene\" column** represent the primary structure of proteins, containing fundamental information about the biological functions of genes. However, these sequences are expressed as text strings and cannot be directly processed by machine learning models. To address this, the **k-mers and Word2Vec approach** was chosen, which is widely used in bioinformatics due to its ability to capture local patterns and semantic relationships among subsequences."
   ]
  },
  {
   "cell_type": "code",
   "execution_count": 24,
   "id": "fef556f7",
   "metadata": {},
   "outputs": [],
   "source": [
    "#from itertools import islice\n",
    "\n",
    "# Function to generate k-mers\n",
    "#def generate_kmers(sequence, k=3):\n",
    "#    \"\"\"Split an amino acid sequence into k-mers.\"\"\"\n",
    "#    return [sequence[i:i+k] for i in range(len(sequence) - k + 1)]\n",
    "\n",
    "# Generate k-mers for each sequence\n",
    "#k = 3  # Ajuste o tamanho do k-mer conforme necessário\n",
    "#full_data['k_mers'] = full_data['Gene'].apply(lambda seq: generate_kmers(seq, k))\n",
    "\n",
    "#Convert k-mers into list (expected format for Word2Vec)\n",
    "#corpus = full_data['k_mers'].tolist()\n"
   ]
  },
  {
   "cell_type": "code",
   "execution_count": 28,
   "id": "15efec7b",
   "metadata": {},
   "outputs": [],
   "source": [
    "#from gensim.models import Word2Vec\n",
    "\n",
    "# Train the Word2Vec model\n",
    "#model = Word2Vec(\n",
    "#    sentences=corpus,       # List of lists of k-mers\n",
    "#    vector_size=100,        # Dimension of the embeddings\n",
    "#    window=5,               # Context window size\n",
    "#    min_count=1,            # Minimum frequency to consider a k-mer\n",
    "#    workers=4,              # Number of threads for training\n",
    "#    sg=1                    # Skip-gram (1) or CBOW (0)\n",
    "#)\n",
    "\n",
    "# Save the trained model\n",
    "#model.save(\"word2vec_model.model\")"
   ]
  },
  {
   "cell_type": "code",
   "execution_count": null,
   "id": "ae8c0d8a",
   "metadata": {},
   "outputs": [],
   "source": [
    "# Function to calculate the average vector of k-mers in a sequence\n",
    "\n",
    "# def sequence_vector(kmers, model):\n",
    "#     vectors = [model.wv[kmer] for kmer in kmers if kmer in model.wv]\n",
    "#     if vectors:\n",
    "#         return np.mean(vectors, axis=0)\n",
    "#     else:\n",
    "#         return np.zeros(model.vector_size)\n",
    "\n",
    "# Add average vectors to the DataFrame\n",
    "# full_data['vector'] = full_data['k_mers'].apply(lambda kmers: sequence_vector(kmers, model))\n",
    "\n",
    "# Check the vector of the first sequence\n",
    "# print(full_data['vector'].iloc[0])\n"
   ]
  },
  {
   "cell_type": "code",
   "execution_count": 36,
   "id": "d568d475",
   "metadata": {},
   "outputs": [],
   "source": [
    "# Save dataframe with sequence embeddings\n",
    "#full_data.to_csv('full_data_sequence_emebdings.csv', index=False)"
   ]
  },
  {
   "cell_type": "code",
   "execution_count": 58,
   "id": "ac9a3ad3",
   "metadata": {},
   "outputs": [
    {
     "name": "stdout",
     "output_type": "stream",
     "text": [
      "   Gene_ID                                               Gene Disease_ID  \\\n",
      "0        1  MSMLVVFLLLWGVTWGPVTEAAIFYETQPSLWAESESLLKPLANVT...   C0019209   \n",
      "1        1  MSMLVVFLLLWGVTWGPVTEAAIFYETQPSLWAESESLLKPLANVT...   C0036341   \n",
      "2        2  MGKNKLLHPSLVLLLLVLLPTDASVSGKPQYMVLVPSLLHTETTEK...   C0002395   \n",
      "3        2  MGKNKLLHPSLVLLLLVLLPTDASVSGKPQYMVLVPSLLHTETTEK...   C0007102   \n",
      "4        2  MGKNKLLHPSLVLLLLVLLPTDASVSGKPQYMVLVPSLLHTETTEK...   C0009375   \n",
      "\n",
      "                                             Disease     Y  \\\n",
      "0   Hepatomegaly: Abnormal enlargement of the liver.  0.30   \n",
      "1  Schizophrenia: Schizophrenia is highly heritab...  0.30   \n",
      "2  Alzheimer's Disease: Alzheimer disease is the ...  0.50   \n",
      "3  Malignant tumor of colon: A primary or metasta...  0.31   \n",
      "4  Colonic Neoplasms: A benign or malignant neopl...  0.30   \n",
      "\n",
      "                                              k_mers  \\\n",
      "0  ['MSM', 'SML', 'MLV', 'LVV', 'VVF', 'VFL', 'FL...   \n",
      "1  ['MSM', 'SML', 'MLV', 'LVV', 'VVF', 'VFL', 'FL...   \n",
      "2  ['MGK', 'GKN', 'KNK', 'NKL', 'KLL', 'LLH', 'LH...   \n",
      "3  ['MGK', 'GKN', 'KNK', 'NKL', 'KLL', 'LLH', 'LH...   \n",
      "4  ['MGK', 'GKN', 'KNK', 'NKL', 'KLL', 'LLH', 'LH...   \n",
      "\n",
      "                                              vector  \n",
      "0  [ 1.27240745e-02  2.37551868e-01  2.04706326e-...  \n",
      "1  [ 1.27240745e-02  2.37551868e-01  2.04706326e-...  \n",
      "2  [ 0.01349863  0.23563088  0.19207779  0.008026...  \n",
      "3  [ 0.01349863  0.23563088  0.19207779  0.008026...  \n",
      "4  [ 0.01349863  0.23563088  0.19207779  0.008026...  \n"
     ]
    }
   ],
   "source": [
    "#Reading csv with the disease embeddings\n",
    "df_with_seq_emb = pd.read_csv('full_data_sequence_emebdings.csv')\n",
    "print(df_with_seq_emb.head())"
   ]
  },
  {
   "cell_type": "code",
   "execution_count": 51,
   "id": "561dbc91",
   "metadata": {},
   "outputs": [
    {
     "data": {
      "text/plain": [
       "Index(['Gene_ID', 'Gene', 'Disease_ID', 'Disease', 'Y', 'Disease_Embedding'], dtype='object')"
      ]
     },
     "execution_count": 51,
     "metadata": {},
     "output_type": "execute_result"
    }
   ],
   "source": [
    "df_with_disease_emb.columns"
   ]
  },
  {
   "cell_type": "code",
   "execution_count": 52,
   "id": "29706504",
   "metadata": {},
   "outputs": [
    {
     "data": {
      "text/plain": [
       "Index(['Gene_ID', 'Gene', 'Disease_ID', 'Disease', 'Y', 'k_mers', 'vector'], dtype='object')"
      ]
     },
     "execution_count": 52,
     "metadata": {},
     "output_type": "execute_result"
    }
   ],
   "source": [
    "df_with_seq_emb.columns"
   ]
  },
  {
   "cell_type": "markdown",
   "id": "57edeb85",
   "metadata": {},
   "source": [
    "#### Feature Integration\n",
    "The merge was performed to consolidate data from two separate datasets into a unified structure. This merging process ensures that all relevant information, including the embeddings generated for diseases and genes, is combined for comprehensive analysis and model training. The merge is performed using the common columns: **Gene_ID, Disease_ID, Gene, Disease, and Y**. These columns serve as unique identifiers for each gene-disease pair and ensure that the data alignment is accurate and consistent across both datasets, avoiding accidental mismatches."
   ]
  },
  {
   "cell_type": "code",
   "execution_count": 53,
   "id": "02f1ebb6",
   "metadata": {},
   "outputs": [],
   "source": [
    "final_df = pd.merge(df_with_disease_emb, df_with_seq_emb, on=['Gene_ID', 'Disease_ID','Gene','Disease','Y'])"
   ]
  },
  {
   "cell_type": "code",
   "execution_count": 54,
   "id": "098cde76",
   "metadata": {},
   "outputs": [
    {
     "data": {
      "text/plain": [
       "Index(['Gene_ID', 'Gene', 'Disease_ID', 'Disease', 'Y', 'Disease_Embedding',\n",
       "       'k_mers', 'vector'],\n",
       "      dtype='object')"
      ]
     },
     "execution_count": 54,
     "metadata": {},
     "output_type": "execute_result"
    }
   ],
   "source": [
    "final_df.columns"
   ]
  },
  {
   "cell_type": "markdown",
   "id": "be9211e2",
   "metadata": {},
   "source": [
    "The integration of the two datasets has resulted in a unified structure that consolidates all relevant features, including gene embeddings \"vector\" (from k-mers + Word2Vec) and disease embeddings \"Disease_Embedding\" (from BioBERT), along with their association probabilities (Y). "
   ]
  },
  {
   "cell_type": "markdown",
   "id": "e3578011",
   "metadata": {},
   "source": [
    "#### Preview and Exploration of the Processed Dataset\n",
    "To ensure the preprocessing steps were successful, we examine the first few rows, column names, data types, and basic statistics of the processed dataset."
   ]
  },
  {
   "cell_type": "code",
   "execution_count": 129,
   "id": "53ad00c9",
   "metadata": {},
   "outputs": [
    {
     "name": "stdout",
     "output_type": "stream",
     "text": [
      "Preview of the processed dataset:\n",
      "Columns available in the dataset:\n",
      "['Gene_ID', 'Disease_ID', 'Y', '00', '000', '10', '108', '110', '12', '13', '14', '15', '16', '1999', '20', '2001', '2002', '2008', '2014', '2016', '22q11', '25', '30', '35', '40', '42', '44', '48', '50', '52', '56', '60', '61', '62', '65', '70', '80', '82', '83', '90', 'abdomen', 'abdominal', 'ability', 'able', 'abnormal', 'abnormalities', 'abnormality', 'abnormally', 'absence', 'absent', 'abuse', 'accompanied', 'accounts', 'accumulation', 'acquired', 'active', 'activities', 'activity', 'acute', 'addiction', 'addition', 'additional', 'additionally', 'adenocarcinoma', 'adenocarcinomas', 'adenoid', 'adenoma', 'adenomas', 'adolescence', 'adoption', 'adrenal', 'adult', 'adulthood', 'adults', 'affect', 'affected', 'affecting', 'affective', 'affects', 'age', 'agents', 'aggressive', 'al', 'alcohol', 'alcoholic', 'alleles', 'als', 'aml', 'anaplastic', 'anatomic', 'anemia', 'anomalies', 'antipsychotic', 'anxiety', 'aorta', 'aortic', 'apoe', 'apparent', 'appear', 'appearance', 'appears', 'appetite', 'approximately', 'area', 'areas', 'arise', 'arises', 'arising', 'arms', 'arrhythmia', 'arteries', 'artery', 'arthritis', 'asd', 'asperger', 'associated', 'association', 'associations', 'astrocytoma', 'ataxia', 'atrial', 'atrophy', 'atypical', 'autism', 'autoimmune', 'autosomal', 'average', 'away', 'basal', 'based', 'begin', 'begins', 'behavior', 'behavioral', 'behaviors', 'benign', 'bilateral', 'bile', 'bipolar', 'birth', 'bladder', 'bleeding', 'blindness', 'blood', 'blue', 'bmi', 'body', 'bone', 'bones', 'borderline', 'born', 'bowel', 'brain', 'brca1', 'brca2', 'breast', 'breathing', 'broad', 'c4', 'c4a', 'c4b', 'called', 'cancer', 'cancerous', 'cancers', 'candidate', 'carcinoma', 'carcinomas', 'cardiac', 'cardiomyopathy', 'carry', 'cases', 'cataract', 'category', 'cause', 'caused', 'causes', 'causing', 'cavities', 'cavity', 'cebpa', 'cell', 'cells', 'cellular', 'central', 'cerebellar', 'cerebral', 'certain', 'chance', 'change', 'changes', 'characterised', 'characteristic', 'characteristics', 'characterized', 'charcot', 'chest', 'child', 'childhood', 'children', 'chromosome', 'chronic', 'cirrhosis', 'classic', 'classified', 'clear', 'cleft', 'clinical', 'clinically', 'closely', 'cluster', 'cognitive', 'coincides', 'colon', 'colorectal', 'come', 'common', 'commonly', 'communication', 'compared', 'complement', 'complete', 'complex', 'complications', 'component', 'composed', 'comprise', 'comprises', 'comt', 'condition', 'conditions', 'congenital', 'considered', 'contact', 'contribute', 'control', 'controls', 'cord', 'coronary', 'cortical', 'course', 'crc', 'cribriform', 'cutaneous', 'cystic', 'cysts', 'd2', 'daily', 'damage', 'dao', 'day', 'death', 'decade', 'decrease', 'decreased', 'defect', 'defects', 'deficiency', 'defined', 'degeneration', 'degree', 'delay', 'delayed', 'deletion', 'deletions', 'dementia', 'dependence', 'depending', 'depression', 'depressive', 'derived', 'dermatitis', 'described', 'determine', 'develop', 'developing', 'development', 'developmental', 'develops', 'diabetes', 'diagnosed', 'diagnosis', 'die', 'dietary', 'differ', 'different', 'differentiated', 'differentiation', 'difficult', 'difficulties', 'difficulty', 'diffuse', 'digeorge', 'digestive', 'dilated', 'direct', 'disability', 'discharge', 'disease', 'diseases', 'disorder', 'disorders', 'distal', 'distinct', 'distinctive', 'disturbance', 'disturbances', 'diverse', 'divided', 'does', 'dominant', 'dopamine', 'drd1', 'drd2', 'drd4', 'drinking', 'drug', 'drugs', 'dtnbp1', 'ductal', 'ducts', 'duplications', 'dysfunction', 'dysplasia', 'dystonia', 'dystrophy', 'earlier', 'early', 'eating', 'ed', 'edema', 'egg', 'elevated', 'elimination', 'elusive', 'encephalopathy', 'encode', 'encodes', 'encompasses', 'end', 'endometrial', 'endometrium', 'energy', 'enlarged', 'enriched', 'epilepsy', 'episodes', 'epithelial', 'epithelium', 'esophagus', 'estimated', 'et', 'evidence', 'exact', 'example', 'examples', 'excess', 'excessive', 'exhibit', 'exists', 'exogenous', 'expected', 'experience', 'exposure', 'expressed', 'expression', 'extent', 'external', 'eye', 'eyes', 'face', 'facial', 'factors', 'failure', 'fallopian', 'familial', 'families', 'family', 'fast', 'fatigue', 'fatty', 'feature', 'features', 'feeling', 'feelings', 'feet', 'female', 'females', 'fetal', 'fever', 'fibrillation', 'fibrosis', 'fifth', 'finding', 'findings', 'flow', 'fluid', 'focal', 'focused', 'follicles', 'follicular', 'following', 'foot', 'form', 'formation', 'forms', 'frequent', 'frequently', 'function', 'functional', 'functioning', 'functions', 'gabrb2', 'gait', 'gastric', 'gastrointestinal', 'gene', 'general', 'generalized', 'generally', 'genes', 'genetic', 'genome', 'genomes', 'gland', 'glands', 'glandular', 'glaucoma', 'glioblastoma', 'glomerular', 'glutamine', 'grade', 'greater', 'gria1', 'grin2a', 'grin2b', 'grm3', 'group', 'growth', 'growths', 'hair', 'half', 'hallucinations', 'hands', 'having', 'hboc', 'hdgc', 'head', 'headache', 'headaches', 'health', 'hearing', 'heart', 'heavy', 'hepatic', 'hepatitis', 'hepatobiliary', 'hepatoblastomas', 'hepatocellular', 'hepatocytes', 'hereditary', 'heritable', 'heterogeneous', 'high', 'higher', 'highly', 'histocompatibility', 'histologic', 'history', 'hodgkin', 'hopelessness', 'hormone', 'hormones', 'hp', 'human', 'humans', 'hyperplasia', 'hypersensitivity', 'hypertension', 'hypoplasia', 'hypotonia', 'identical', 'identified', 'ii', 'iii', 'il1b', 'immune', 'immunodeficiency', 'impaired', 'impairment', 'impairments', 'important', 'inability', 'incidence', 'include', 'included', 'includes', 'including', 'increase', 'increased', 'increases', 'increasing', 'individual', 'individuals', 'induced', 'infancy', 'infantile', 'infants', 'infarction', 'infection', 'infections', 'inflammation', 'inflammatory', 'inheritance', 'inherited', 'initial', 'injury', 'insufficiency', 'insulin', 'intellectual', 'intelligence', 'intestine', 'intraepithelial', 'invade', 'invasion', 'invasive', 'investigated', 'involve', 'involved', 'involvement', 'involves', 'involving', 'irregular', 'irritation', 'ischemia', 'isolated', 'joint', 'joints', 'juvenile', 'kidney', 'kidneys', 'known', 'lack', 'language', 'large', 'lasting', 'late', 'later', 'lateral', 'lead', 'leading', 'leads', 'learning', 'left', 'legs', 'lesions', 'lesser', 'leukemia', 'leukemic', 'level', 'levels', 'life', 'lifetime', 'light', 'like', 'likely', 'limb', 'limbs', 'limited', 'line', 'lining', 'linkage', 'linked', 'lip', 'lipoma', 'little', 'liver', 'lobular', 'localized', 'located', 'loci', 'locus', 'long', 'looked', 'loss', 'low', 'lower', 'lump', 'lung', 'lungs', 'lymph', 'lymphatic', 'lymphoblastic', 'lymphoma', 'lymphomas', 'lynch', 'macular', 'major', 'majority', 'making', 'male', 'males', 'malformation', 'malformations', 'malignant', 'mammary', 'manic', 'manifestation', 'manifestations', 'manifested', 'manifests', 'marie', 'marrow', 'mass', 'maturation', 'mean', 'means', 'medulloblastoma', 'meet', 'melanocytes', 'melanoma', 'melanomas', 'mellitus', 'members', 'membranes', 'men', 'meningioma', 'menstrual', 'mental', 'metabolic', 'metastases', 'metastasize', 'metastatic', 'mhc', 'mice', 'microcephaly', 'microdeletions', 'microduplications', 'middle', 'mild', 'milk', 'mitochondrial', 'models', 'months', 'mood', 'morphologic', 'motor', 'mouth', 'movement', 'movements', 'mthfr', 'mucous', 'multiple', 'multiply', 'muscle', 'muscles', 'muscular', 'mutation', 'mutations', 'myeloid', 'myocardial', 'myopathy', 'narrowing', 'near', 'nearly', 'neck', 'necrosis', 'neonatal', 'neoplasia', 'neoplasm', 'neoplasms', 'neoplastic', 'nerve', 'nerves', 'nervous', 'neurodegenerative', 'neurologic', 'neurological', 'neuronal', 'neuropathy', 'neurotransmitter', 'new', 'node', 'non', 'nonspecific', 'normal', 'normally', 'noticeable', 'nuclear', 'number', 'nystagmus', 'obese', 'obesity', 'observed', 'obstruction', 'occasionally', 'occur', 'occurred', 'occurring', 'occurs', 'ocular', 'oi', 'older', 'onset', 'optic', 'oral', 'organ', 'organs', 'ovarian', 'ovaries', 'ovary', 'overall', 'overexpressed', 'pain', 'palate', 'pancreas', 'pancreatic', 'papillary', 'paraplegia', 'parkinson', 'parkinsonism', 'partial', 'particular', 'particularly', 'parts', 'pathogenic', 'pathological', 'pathways', 'patients', 'pattern', 'patterns', 'pelvis', 'people', 'percent', 'percentage', 'perinatal', 'period', 'periods', 'peripheral', 'peritoneal', 'persistent', 'person', 'persons', 'phenotype', 'phenotypes', 'phenotypic', 'phyllodes', 'physical', 'plasticity', 'pleasure', 'plxna2', 'poisoning', 'polycystic', 'polydactyly', 'poor', 'poorly', 'population', 'possible', 'potential', 'predominantly', 'pregnancy', 'presence', 'present', 'presentation', 'presents', 'pressure', 'previously', 'primarily', 'primary', 'problems', 'process', 'processes', 'produce', 'producing', 'production', 'profound', 'prognosis', 'progresses', 'progression', 'progressive', 'proliferation', 'prolonged', 'prominent', 'promoted', 'prostate', 'prostatic', 'protein', 'pruning', 'psychiatric', 'psychological', 'psychomotor', 'pulmonary', 'questioned', 'radiation', 'range', 'ranging', 'rare', 'rarely', 'rate', 'rates', 'receptor', 'recessive', 'rectum', 'recur', 'recurrent', 'red', 'redness', 'reduced', 'reduction', 'referred', 'refers', 'region', 'regions', 'related', 'relatively', 'renal', 'reported', 'representative', 'reproductive', 'research', 'resistance', 'respiratory', 'response', 'restricted', 'result', 'resulting', 'results', 'retardation', 'retina', 'retinal', 'risk', 'risks', 'route', 'run', 'salivary', 'sarcoma', 'schizophrenia', 'sclerosis', 'search', 'second', 'secondary', 'seen', 'seizure', 'seizures', 'self', 'sensation', 'sense', 'sensorineural', 'sensory', 'severe', 'severely', 'severity', 'sex', 'shape', 'short', 'showed', 'shown', 'significant', 'signs', 'similar', 'site', 'sites', 'size', 'skeletal', 'skills', 'skin', 'slc6a4', 'sleep', 'sleeping', 'slightly', 'slow', 'slowly', 'small', 'snps', 'social', 'soft', 'spastic', 'specific', 'spectrum', 'speech', 'spinal', 'sporadic', 'spread', 'spreads', 'squamous', 'srr', 'stage', 'stages', 'state', 'stature', 'status', 'stomach', 'stop', 'stroke', 'structural', 'structurally', 'structures', 'studies', 'study', 'substance', 'substantially', 'subtype', 'subtypes', 'sudden', 'sugar', 'summary', 'surface', 'surprisingly', 'surrounding', 'survival', 'survive', 'susceptibility', 'sustained', 'swallowing', 'swelling', 'symptoms', 'synapses', 'synaptic', 'syndrome', 'syndromes', 'systemic', 'systems', 'target', 'tasks', 'temperature', 'tend', 'tenderness', 'term', 'terminal', 'therapeutic', 'thickening', 'thinking', 'thoracic', 'thought', 'threatening', 'throat', 'thrombosis', 'thyroid', 'time', 'times', 'tissue', 'tissues', 'tonic', 'tooth', 'tp53', 'tph1', 'tract', 'transient', 'trauma', 'treated', 'treatment', 'triggered', 'tube', 'tubular', 'tumor', 'tumors', 'turning', 'twin', 'twins', 'type', 'types', 'typical', 'typically', 'uncontrollably', 'undifferentiated', 'untreated', 'unusual', 'unusually', 'upper', 'urinary', 'urine', 'use', 'used', 'using', 'usually', 'variable', 'variant', 'variants', 'variation', 'varies', 'vary', 'vascular', 'vast', 'ventricular', 'verbal', 'vessel', 'vessels', 'virus', 'vision', 'visual', 'wall', 'weakness', 'weeks', 'weight', 'white', 'wide', 'widely', 'withdrawal', 'women', 'worldwide', 'year', 'years', 'young', 0, 1, 2, 3, 4, 5, 6, 7, 8, 9, 10, 11, 12, 13, 14, 15, 16, 17, 18, 19, 20, 21, 22, 23, 24, 25, 26, 27, 28, 29, 30, 31, 32, 33, 34, 35, 36, 37, 38, 39, 40, 41, 42, 43, 44, 45, 46, 47, 48, 49, 50, 51, 52, 53, 54, 55, 56, 57, 58, 59, 60, 61, 62, 63, 64, 65, 66, 67, 68, 69, 70, 71, 72, 73, 74, 75, 76, 77, 78, 79, 80, 81, 82, 83, 84, 85, 86, 87, 88, 89, 90, 91, 92, 93, 94, 95, 96, 97, 98, 99]\n",
      "Data types and non-null counts:\n",
      "<class 'pandas.core.frame.DataFrame'>\n",
      "RangeIndex: 52476 entries, 0 to 52475\n",
      "Columns: 1103 entries, Gene_ID to 99\n",
      "dtypes: float64(1001), int32(100), int64(1), object(1)\n",
      "memory usage: 421.6+ MB\n",
      "None\n",
      "Descriptive statistics for numerical features:\n",
      "            Gene_ID             Y            00           000            10  \\\n",
      "count  5.247600e+04  52476.000000  52476.000000  52476.000000  52476.000000   \n",
      "mean   7.833331e+04      0.370878      0.000646      0.002778      0.003260   \n",
      "std    2.401503e+06      0.133592      0.006141      0.026383      0.025294   \n",
      "min    1.000000e+00      0.300000      0.000000      0.000000      0.000000   \n",
      "25%    2.596000e+03      0.300000      0.000000      0.000000      0.000000   \n",
      "50%    5.373000e+03      0.300000      0.000000      0.000000      0.000000   \n",
      "75%    9.588000e+03      0.400000      0.000000      0.000000      0.000000   \n",
      "max    1.008208e+08      1.000000      0.504806      0.760072      0.600308   \n",
      "\n",
      "                108           110            12            13            14  \\\n",
      "count  52476.000000  52476.000000  52476.000000  52476.000000  52476.000000   \n",
      "mean       0.000582      0.000582      0.001660      0.001678      0.001029   \n",
      "std        0.004907      0.004907      0.014005      0.014648      0.012137   \n",
      "min        0.000000      0.000000      0.000000      0.000000      0.000000   \n",
      "25%        0.000000      0.000000      0.000000      0.000000      0.000000   \n",
      "50%        0.000000      0.000000      0.000000      0.000000      0.000000   \n",
      "75%        0.000000      0.000000      0.000000      0.000000      0.000000   \n",
      "max        0.041928      0.041928      0.698442      0.587519      0.622137   \n",
      "\n",
      "       ...            90            91            92            93  \\\n",
      "count  ...  52476.000000  52476.000000  52476.000000  52476.000000   \n",
      "mean   ...      9.960668     10.257699     10.077788      9.974350   \n",
      "std    ...      6.013577      6.131937      5.911790      6.055505   \n",
      "min    ...      0.000000      0.000000      0.000000      0.000000   \n",
      "25%    ...      5.000000      6.000000      6.000000      5.000000   \n",
      "50%    ...      9.000000     10.000000     10.000000      9.000000   \n",
      "75%    ...     14.000000     15.000000     14.000000     14.000000   \n",
      "max    ...     21.000000     21.000000     21.000000     21.000000   \n",
      "\n",
      "                 94            95            96            97            98  \\\n",
      "count  52476.000000  52476.000000  52476.000000  52476.000000  52476.000000   \n",
      "mean      10.342347     10.188296     10.111346     10.199825      9.906757   \n",
      "std        6.077597      5.893213      5.987445      6.029255      6.066898   \n",
      "min        0.000000      0.000000      0.000000      0.000000      0.000000   \n",
      "25%        6.000000      6.000000      6.000000      6.000000      5.000000   \n",
      "50%       10.000000     10.000000     10.000000     10.000000      9.000000   \n",
      "75%       15.000000     14.000000     14.000000     15.000000     14.000000   \n",
      "max       21.000000     21.000000     21.000000     21.000000     21.000000   \n",
      "\n",
      "                 99  \n",
      "count  52476.000000  \n",
      "mean       9.841947  \n",
      "std        6.073771  \n",
      "min        0.000000  \n",
      "25%        5.000000  \n",
      "50%        9.000000  \n",
      "75%       14.000000  \n",
      "max       21.000000  \n",
      "\n",
      "[8 rows x 1102 columns]\n"
     ]
    }
   ],
   "source": [
    "# Verificar as primeiras linhas do dataset\n",
    "print(\"Preview of the processed dataset:\")\n",
    "full_data_processed.head()\n",
    "\n",
    "# Verificar colunas disponíveis\n",
    "print(\"Columns available in the dataset:\")\n",
    "print(full_data_processed.columns.tolist())\n",
    "\n",
    "# Verificar tipos de dados\n",
    "print(\"Data types and non-null counts:\")\n",
    "print(full_data_processed.info())\n",
    "\n",
    "# Estatísticas descritivas para features numéricas\n",
    "print(\"Descriptive statistics for numerical features:\")\n",
    "print(full_data_processed.describe())"
   ]
  },
  {
   "cell_type": "markdown",
   "id": "dbb0e3ab",
   "metadata": {},
   "source": [
    "#### Handling Missing Values\n",
    "Despite the dataset being curated, it is crucial to explicitly check for any null values to ensure data integrity. Addressing missing data helps maintain the quality and reliability of downstream analyses."
   ]
  },
  {
   "cell_type": "code",
   "execution_count": 130,
   "id": "692763e9",
   "metadata": {
    "ExecuteTime": {
     "end_time": "2024-12-16T17:04:07.879455Z",
     "start_time": "2024-12-16T17:04:07.841433Z"
    }
   },
   "outputs": [
    {
     "name": "stdout",
     "output_type": "stream",
     "text": [
      "Missing values detected in the dataset:\n",
      "Gene_ID               0\n",
      "Disease_ID            0\n",
      "Y                     0\n",
      "00                    0\n",
      "000                   0\n",
      "10                    0\n",
      "108                   0\n",
      "110                   0\n",
      "12                    0\n",
      "13                    0\n",
      "14                    0\n",
      "15                    0\n",
      "16                    0\n",
      "1999                  0\n",
      "20                    0\n",
      "2001                  0\n",
      "2002                  0\n",
      "2008                  0\n",
      "2014                  0\n",
      "2016                  0\n",
      "22q11                 0\n",
      "25                    0\n",
      "30                    0\n",
      "35                    0\n",
      "40                    0\n",
      "42                    0\n",
      "44                    0\n",
      "48                    0\n",
      "50                    0\n",
      "52                    0\n",
      "56                    0\n",
      "60                    0\n",
      "61                    0\n",
      "62                    0\n",
      "65                    0\n",
      "70                    0\n",
      "80                    0\n",
      "82                    0\n",
      "83                    0\n",
      "90                    0\n",
      "abdomen               0\n",
      "abdominal             0\n",
      "ability               0\n",
      "able                  0\n",
      "abnormal              0\n",
      "abnormalities         0\n",
      "abnormality           0\n",
      "abnormally            0\n",
      "absence               0\n",
      "absent                0\n",
      "abuse                 0\n",
      "accompanied           0\n",
      "accounts              0\n",
      "accumulation          0\n",
      "acquired              0\n",
      "active                0\n",
      "activities            0\n",
      "activity              0\n",
      "acute                 0\n",
      "addiction             0\n",
      "addition              0\n",
      "additional            0\n",
      "additionally          0\n",
      "adenocarcinoma        0\n",
      "adenocarcinomas       0\n",
      "adenoid               0\n",
      "adenoma               0\n",
      "adenomas              0\n",
      "adolescence           0\n",
      "adoption              0\n",
      "adrenal               0\n",
      "adult                 0\n",
      "adulthood             0\n",
      "adults                0\n",
      "affect                0\n",
      "affected              0\n",
      "affecting             0\n",
      "affective             0\n",
      "affects               0\n",
      "age                   0\n",
      "agents                0\n",
      "aggressive            0\n",
      "al                    0\n",
      "alcohol               0\n",
      "alcoholic             0\n",
      "alleles               0\n",
      "als                   0\n",
      "aml                   0\n",
      "anaplastic            0\n",
      "anatomic              0\n",
      "anemia                0\n",
      "anomalies             0\n",
      "antipsychotic         0\n",
      "anxiety               0\n",
      "aorta                 0\n",
      "aortic                0\n",
      "apoe                  0\n",
      "apparent              0\n",
      "appear                0\n",
      "appearance            0\n",
      "appears               0\n",
      "appetite              0\n",
      "approximately         0\n",
      "area                  0\n",
      "areas                 0\n",
      "arise                 0\n",
      "arises                0\n",
      "arising               0\n",
      "arms                  0\n",
      "arrhythmia            0\n",
      "arteries              0\n",
      "artery                0\n",
      "arthritis             0\n",
      "asd                   0\n",
      "asperger              0\n",
      "associated            0\n",
      "association           0\n",
      "associations          0\n",
      "astrocytoma           0\n",
      "ataxia                0\n",
      "atrial                0\n",
      "atrophy               0\n",
      "atypical              0\n",
      "autism                0\n",
      "autoimmune            0\n",
      "autosomal             0\n",
      "average               0\n",
      "away                  0\n",
      "basal                 0\n",
      "based                 0\n",
      "begin                 0\n",
      "begins                0\n",
      "behavior              0\n",
      "behavioral            0\n",
      "behaviors             0\n",
      "benign                0\n",
      "bilateral             0\n",
      "bile                  0\n",
      "bipolar               0\n",
      "birth                 0\n",
      "bladder               0\n",
      "bleeding              0\n",
      "blindness             0\n",
      "blood                 0\n",
      "blue                  0\n",
      "bmi                   0\n",
      "body                  0\n",
      "bone                  0\n",
      "bones                 0\n",
      "borderline            0\n",
      "born                  0\n",
      "bowel                 0\n",
      "brain                 0\n",
      "brca1                 0\n",
      "brca2                 0\n",
      "breast                0\n",
      "breathing             0\n",
      "broad                 0\n",
      "c4                    0\n",
      "c4a                   0\n",
      "c4b                   0\n",
      "called                0\n",
      "cancer                0\n",
      "cancerous             0\n",
      "cancers               0\n",
      "candidate             0\n",
      "carcinoma             0\n",
      "carcinomas            0\n",
      "cardiac               0\n",
      "cardiomyopathy        0\n",
      "carry                 0\n",
      "cases                 0\n",
      "cataract              0\n",
      "category              0\n",
      "cause                 0\n",
      "caused                0\n",
      "causes                0\n",
      "causing               0\n",
      "cavities              0\n",
      "cavity                0\n",
      "cebpa                 0\n",
      "cell                  0\n",
      "cells                 0\n",
      "cellular              0\n",
      "central               0\n",
      "cerebellar            0\n",
      "cerebral              0\n",
      "certain               0\n",
      "chance                0\n",
      "change                0\n",
      "changes               0\n",
      "characterised         0\n",
      "characteristic        0\n",
      "characteristics       0\n",
      "characterized         0\n",
      "charcot               0\n",
      "chest                 0\n",
      "child                 0\n",
      "childhood             0\n",
      "children              0\n",
      "chromosome            0\n",
      "chronic               0\n",
      "cirrhosis             0\n",
      "classic               0\n",
      "classified            0\n",
      "clear                 0\n",
      "cleft                 0\n",
      "clinical              0\n",
      "clinically            0\n",
      "closely               0\n",
      "cluster               0\n",
      "cognitive             0\n",
      "coincides             0\n",
      "colon                 0\n",
      "colorectal            0\n",
      "come                  0\n",
      "common                0\n",
      "commonly              0\n",
      "communication         0\n",
      "compared              0\n",
      "complement            0\n",
      "complete              0\n",
      "complex               0\n",
      "complications         0\n",
      "component             0\n",
      "composed              0\n",
      "comprise              0\n",
      "comprises             0\n",
      "comt                  0\n",
      "condition             0\n",
      "conditions            0\n",
      "congenital            0\n",
      "considered            0\n",
      "contact               0\n",
      "contribute            0\n",
      "control               0\n",
      "controls              0\n",
      "cord                  0\n",
      "coronary              0\n",
      "cortical              0\n",
      "course                0\n",
      "crc                   0\n",
      "cribriform            0\n",
      "cutaneous             0\n",
      "cystic                0\n",
      "cysts                 0\n",
      "d2                    0\n",
      "daily                 0\n",
      "damage                0\n",
      "dao                   0\n",
      "day                   0\n",
      "death                 0\n",
      "decade                0\n",
      "decrease              0\n",
      "decreased             0\n",
      "defect                0\n",
      "defects               0\n",
      "deficiency            0\n",
      "defined               0\n",
      "degeneration          0\n",
      "degree                0\n",
      "delay                 0\n",
      "delayed               0\n",
      "deletion              0\n",
      "deletions             0\n",
      "dementia              0\n",
      "dependence            0\n",
      "depending             0\n",
      "depression            0\n",
      "depressive            0\n",
      "derived               0\n",
      "dermatitis            0\n",
      "described             0\n",
      "determine             0\n",
      "develop               0\n",
      "developing            0\n",
      "development           0\n",
      "developmental         0\n",
      "develops              0\n",
      "diabetes              0\n",
      "diagnosed             0\n",
      "diagnosis             0\n",
      "die                   0\n",
      "dietary               0\n",
      "differ                0\n",
      "different             0\n",
      "differentiated        0\n",
      "differentiation       0\n",
      "difficult             0\n",
      "difficulties          0\n",
      "difficulty            0\n",
      "diffuse               0\n",
      "digeorge              0\n",
      "digestive             0\n",
      "dilated               0\n",
      "direct                0\n",
      "disability            0\n",
      "discharge             0\n",
      "disease               0\n",
      "diseases              0\n",
      "disorder              0\n",
      "disorders             0\n",
      "distal                0\n",
      "distinct              0\n",
      "distinctive           0\n",
      "disturbance           0\n",
      "disturbances          0\n",
      "diverse               0\n",
      "divided               0\n",
      "does                  0\n",
      "dominant              0\n",
      "dopamine              0\n",
      "drd1                  0\n",
      "drd2                  0\n",
      "drd4                  0\n",
      "drinking              0\n",
      "drug                  0\n",
      "drugs                 0\n",
      "dtnbp1                0\n",
      "ductal                0\n",
      "ducts                 0\n",
      "duplications          0\n",
      "dysfunction           0\n",
      "dysplasia             0\n",
      "dystonia              0\n",
      "dystrophy             0\n",
      "earlier               0\n",
      "early                 0\n",
      "eating                0\n",
      "ed                    0\n",
      "edema                 0\n",
      "egg                   0\n",
      "elevated              0\n",
      "elimination           0\n",
      "elusive               0\n",
      "encephalopathy        0\n",
      "encode                0\n",
      "encodes               0\n",
      "encompasses           0\n",
      "end                   0\n",
      "endometrial           0\n",
      "endometrium           0\n",
      "energy                0\n",
      "enlarged              0\n",
      "enriched              0\n",
      "epilepsy              0\n",
      "episodes              0\n",
      "epithelial            0\n",
      "epithelium            0\n",
      "esophagus             0\n",
      "estimated             0\n",
      "et                    0\n",
      "evidence              0\n",
      "exact                 0\n",
      "example               0\n",
      "examples              0\n",
      "excess                0\n",
      "excessive             0\n",
      "exhibit               0\n",
      "exists                0\n",
      "exogenous             0\n",
      "expected              0\n",
      "experience            0\n",
      "exposure              0\n",
      "expressed             0\n",
      "expression            0\n",
      "extent                0\n",
      "external              0\n",
      "eye                   0\n",
      "eyes                  0\n",
      "face                  0\n",
      "facial                0\n",
      "factors               0\n",
      "failure               0\n",
      "fallopian             0\n",
      "familial              0\n",
      "families              0\n",
      "family                0\n",
      "fast                  0\n",
      "fatigue               0\n",
      "fatty                 0\n",
      "feature               0\n",
      "features              0\n",
      "feeling               0\n",
      "feelings              0\n",
      "feet                  0\n",
      "female                0\n",
      "females               0\n",
      "fetal                 0\n",
      "fever                 0\n",
      "fibrillation          0\n",
      "fibrosis              0\n",
      "fifth                 0\n",
      "finding               0\n",
      "findings              0\n",
      "flow                  0\n",
      "fluid                 0\n",
      "focal                 0\n",
      "focused               0\n",
      "follicles             0\n",
      "follicular            0\n",
      "following             0\n",
      "foot                  0\n",
      "form                  0\n",
      "formation             0\n",
      "forms                 0\n",
      "frequent              0\n",
      "frequently            0\n",
      "function              0\n",
      "functional            0\n",
      "functioning           0\n",
      "functions             0\n",
      "gabrb2                0\n",
      "gait                  0\n",
      "gastric               0\n",
      "gastrointestinal      0\n",
      "gene                  0\n",
      "general               0\n",
      "generalized           0\n",
      "generally             0\n",
      "genes                 0\n",
      "genetic               0\n",
      "genome                0\n",
      "genomes               0\n",
      "gland                 0\n",
      "glands                0\n",
      "glandular             0\n",
      "glaucoma              0\n",
      "glioblastoma          0\n",
      "glomerular            0\n",
      "glutamine             0\n",
      "grade                 0\n",
      "greater               0\n",
      "gria1                 0\n",
      "grin2a                0\n",
      "grin2b                0\n",
      "grm3                  0\n",
      "group                 0\n",
      "growth                0\n",
      "growths               0\n",
      "hair                  0\n",
      "half                  0\n",
      "hallucinations        0\n",
      "hands                 0\n",
      "having                0\n",
      "hboc                  0\n",
      "hdgc                  0\n",
      "head                  0\n",
      "headache              0\n",
      "headaches             0\n",
      "health                0\n",
      "hearing               0\n",
      "heart                 0\n",
      "heavy                 0\n",
      "hepatic               0\n",
      "hepatitis             0\n",
      "hepatobiliary         0\n",
      "hepatoblastomas       0\n",
      "hepatocellular        0\n",
      "hepatocytes           0\n",
      "hereditary            0\n",
      "heritable             0\n",
      "heterogeneous         0\n",
      "high                  0\n",
      "higher                0\n",
      "highly                0\n",
      "histocompatibility    0\n",
      "histologic            0\n",
      "history               0\n",
      "hodgkin               0\n",
      "hopelessness          0\n",
      "hormone               0\n",
      "hormones              0\n",
      "hp                    0\n",
      "human                 0\n",
      "humans                0\n",
      "hyperplasia           0\n",
      "hypersensitivity      0\n",
      "hypertension          0\n",
      "hypoplasia            0\n",
      "hypotonia             0\n",
      "identical             0\n",
      "identified            0\n",
      "ii                    0\n",
      "iii                   0\n",
      "il1b                  0\n",
      "immune                0\n",
      "immunodeficiency      0\n",
      "impaired              0\n",
      "impairment            0\n",
      "impairments           0\n",
      "important             0\n",
      "inability             0\n",
      "incidence             0\n",
      "include               0\n",
      "included              0\n",
      "includes              0\n",
      "including             0\n",
      "increase              0\n",
      "increased             0\n",
      "increases             0\n",
      "increasing            0\n",
      "individual            0\n",
      "individuals           0\n",
      "induced               0\n",
      "infancy               0\n",
      "infantile             0\n",
      "infants               0\n",
      "infarction            0\n",
      "infection             0\n",
      "infections            0\n",
      "inflammation          0\n",
      "inflammatory          0\n",
      "inheritance           0\n",
      "inherited             0\n",
      "initial               0\n",
      "injury                0\n",
      "insufficiency         0\n",
      "insulin               0\n",
      "intellectual          0\n",
      "intelligence          0\n",
      "intestine             0\n",
      "intraepithelial       0\n",
      "invade                0\n",
      "invasion              0\n",
      "invasive              0\n",
      "investigated          0\n",
      "involve               0\n",
      "involved              0\n",
      "involvement           0\n",
      "involves              0\n",
      "involving             0\n",
      "irregular             0\n",
      "irritation            0\n",
      "ischemia              0\n",
      "isolated              0\n",
      "joint                 0\n",
      "joints                0\n",
      "juvenile              0\n",
      "kidney                0\n",
      "kidneys               0\n",
      "known                 0\n",
      "lack                  0\n",
      "language              0\n",
      "large                 0\n",
      "lasting               0\n",
      "late                  0\n",
      "later                 0\n",
      "lateral               0\n",
      "lead                  0\n",
      "leading               0\n",
      "leads                 0\n",
      "learning              0\n",
      "left                  0\n",
      "legs                  0\n",
      "lesions               0\n",
      "lesser                0\n",
      "leukemia              0\n",
      "leukemic              0\n",
      "level                 0\n",
      "levels                0\n",
      "life                  0\n",
      "lifetime              0\n",
      "light                 0\n",
      "like                  0\n",
      "likely                0\n",
      "limb                  0\n",
      "limbs                 0\n",
      "limited               0\n",
      "line                  0\n",
      "lining                0\n",
      "linkage               0\n",
      "linked                0\n",
      "lip                   0\n",
      "lipoma                0\n",
      "little                0\n",
      "liver                 0\n",
      "lobular               0\n",
      "localized             0\n",
      "located               0\n",
      "loci                  0\n",
      "locus                 0\n",
      "long                  0\n",
      "looked                0\n",
      "loss                  0\n",
      "low                   0\n",
      "lower                 0\n",
      "lump                  0\n",
      "lung                  0\n",
      "lungs                 0\n",
      "lymph                 0\n",
      "lymphatic             0\n",
      "lymphoblastic         0\n",
      "lymphoma              0\n",
      "lymphomas             0\n",
      "lynch                 0\n",
      "macular               0\n",
      "major                 0\n",
      "majority              0\n",
      "making                0\n",
      "male                  0\n",
      "males                 0\n",
      "malformation          0\n",
      "malformations         0\n",
      "malignant             0\n",
      "mammary               0\n",
      "manic                 0\n",
      "manifestation         0\n",
      "manifestations        0\n",
      "manifested            0\n",
      "manifests             0\n",
      "marie                 0\n",
      "marrow                0\n",
      "mass                  0\n",
      "maturation            0\n",
      "mean                  0\n",
      "means                 0\n",
      "medulloblastoma       0\n",
      "meet                  0\n",
      "melanocytes           0\n",
      "melanoma              0\n",
      "melanomas             0\n",
      "mellitus              0\n",
      "members               0\n",
      "membranes             0\n",
      "men                   0\n",
      "meningioma            0\n",
      "menstrual             0\n",
      "mental                0\n",
      "metabolic             0\n",
      "metastases            0\n",
      "metastasize           0\n",
      "metastatic            0\n",
      "mhc                   0\n",
      "mice                  0\n",
      "microcephaly          0\n",
      "microdeletions        0\n",
      "microduplications     0\n",
      "middle                0\n",
      "mild                  0\n",
      "milk                  0\n",
      "mitochondrial         0\n",
      "models                0\n",
      "months                0\n",
      "mood                  0\n",
      "morphologic           0\n",
      "motor                 0\n",
      "mouth                 0\n",
      "movement              0\n",
      "movements             0\n",
      "mthfr                 0\n",
      "mucous                0\n",
      "multiple              0\n",
      "multiply              0\n",
      "muscle                0\n",
      "muscles               0\n",
      "muscular              0\n",
      "mutation              0\n",
      "mutations             0\n",
      "myeloid               0\n",
      "myocardial            0\n",
      "myopathy              0\n",
      "narrowing             0\n",
      "near                  0\n",
      "nearly                0\n",
      "neck                  0\n",
      "necrosis              0\n",
      "neonatal              0\n",
      "neoplasia             0\n",
      "neoplasm              0\n",
      "neoplasms             0\n",
      "neoplastic            0\n",
      "nerve                 0\n",
      "nerves                0\n",
      "nervous               0\n",
      "neurodegenerative     0\n",
      "neurologic            0\n",
      "neurological          0\n",
      "neuronal              0\n",
      "neuropathy            0\n",
      "neurotransmitter      0\n",
      "new                   0\n",
      "node                  0\n",
      "non                   0\n",
      "nonspecific           0\n",
      "normal                0\n",
      "normally              0\n",
      "noticeable            0\n",
      "nuclear               0\n",
      "number                0\n",
      "nystagmus             0\n",
      "obese                 0\n",
      "obesity               0\n",
      "observed              0\n",
      "obstruction           0\n",
      "occasionally          0\n",
      "occur                 0\n",
      "occurred              0\n",
      "occurring             0\n",
      "occurs                0\n",
      "ocular                0\n",
      "oi                    0\n",
      "older                 0\n",
      "onset                 0\n",
      "optic                 0\n",
      "oral                  0\n",
      "organ                 0\n",
      "organs                0\n",
      "ovarian               0\n",
      "ovaries               0\n",
      "ovary                 0\n",
      "overall               0\n",
      "overexpressed         0\n",
      "pain                  0\n",
      "palate                0\n",
      "pancreas              0\n",
      "pancreatic            0\n",
      "papillary             0\n",
      "paraplegia            0\n",
      "parkinson             0\n",
      "parkinsonism          0\n",
      "partial               0\n",
      "particular            0\n",
      "particularly          0\n",
      "parts                 0\n",
      "pathogenic            0\n",
      "pathological          0\n",
      "pathways              0\n",
      "patients              0\n",
      "pattern               0\n",
      "patterns              0\n",
      "pelvis                0\n",
      "people                0\n",
      "percent               0\n",
      "percentage            0\n",
      "perinatal             0\n",
      "period                0\n",
      "periods               0\n",
      "peripheral            0\n",
      "peritoneal            0\n",
      "persistent            0\n",
      "person                0\n",
      "persons               0\n",
      "phenotype             0\n",
      "phenotypes            0\n",
      "phenotypic            0\n",
      "phyllodes             0\n",
      "physical              0\n",
      "plasticity            0\n",
      "pleasure              0\n",
      "plxna2                0\n",
      "poisoning             0\n",
      "polycystic            0\n",
      "polydactyly           0\n",
      "poor                  0\n",
      "poorly                0\n",
      "population            0\n",
      "possible              0\n",
      "potential             0\n",
      "predominantly         0\n",
      "pregnancy             0\n",
      "presence              0\n",
      "present               0\n",
      "presentation          0\n",
      "presents              0\n",
      "pressure              0\n",
      "previously            0\n",
      "primarily             0\n",
      "primary               0\n",
      "problems              0\n",
      "process               0\n",
      "processes             0\n",
      "produce               0\n",
      "producing             0\n",
      "production            0\n",
      "profound              0\n",
      "prognosis             0\n",
      "progresses            0\n",
      "progression           0\n",
      "progressive           0\n",
      "proliferation         0\n",
      "prolonged             0\n",
      "prominent             0\n",
      "promoted              0\n",
      "prostate              0\n",
      "prostatic             0\n",
      "protein               0\n",
      "pruning               0\n",
      "psychiatric           0\n",
      "psychological         0\n",
      "psychomotor           0\n",
      "pulmonary             0\n",
      "questioned            0\n",
      "radiation             0\n",
      "range                 0\n",
      "ranging               0\n",
      "rare                  0\n",
      "rarely                0\n",
      "rate                  0\n",
      "rates                 0\n",
      "receptor              0\n",
      "recessive             0\n",
      "rectum                0\n",
      "recur                 0\n",
      "recurrent             0\n",
      "red                   0\n",
      "redness               0\n",
      "reduced               0\n",
      "reduction             0\n",
      "referred              0\n",
      "refers                0\n",
      "region                0\n",
      "regions               0\n",
      "related               0\n",
      "relatively            0\n",
      "renal                 0\n",
      "reported              0\n",
      "representative        0\n",
      "reproductive          0\n",
      "research              0\n",
      "resistance            0\n",
      "respiratory           0\n",
      "response              0\n",
      "restricted            0\n",
      "result                0\n",
      "resulting             0\n",
      "results               0\n",
      "retardation           0\n",
      "retina                0\n",
      "retinal               0\n",
      "risk                  0\n",
      "risks                 0\n",
      "route                 0\n",
      "run                   0\n",
      "salivary              0\n",
      "sarcoma               0\n",
      "schizophrenia         0\n",
      "sclerosis             0\n",
      "search                0\n",
      "second                0\n",
      "secondary             0\n",
      "seen                  0\n",
      "seizure               0\n",
      "seizures              0\n",
      "self                  0\n",
      "sensation             0\n",
      "sense                 0\n",
      "sensorineural         0\n",
      "sensory               0\n",
      "severe                0\n",
      "severely              0\n",
      "severity              0\n",
      "sex                   0\n",
      "shape                 0\n",
      "short                 0\n",
      "showed                0\n",
      "shown                 0\n",
      "significant           0\n",
      "signs                 0\n",
      "similar               0\n",
      "site                  0\n",
      "sites                 0\n",
      "size                  0\n",
      "skeletal              0\n",
      "skills                0\n",
      "skin                  0\n",
      "slc6a4                0\n",
      "sleep                 0\n",
      "sleeping              0\n",
      "slightly              0\n",
      "slow                  0\n",
      "slowly                0\n",
      "small                 0\n",
      "snps                  0\n",
      "social                0\n",
      "soft                  0\n",
      "spastic               0\n",
      "specific              0\n",
      "spectrum              0\n",
      "speech                0\n",
      "spinal                0\n",
      "sporadic              0\n",
      "spread                0\n",
      "spreads               0\n",
      "squamous              0\n",
      "srr                   0\n",
      "stage                 0\n",
      "stages                0\n",
      "state                 0\n",
      "stature               0\n",
      "status                0\n",
      "stomach               0\n",
      "stop                  0\n",
      "stroke                0\n",
      "structural            0\n",
      "structurally          0\n",
      "structures            0\n",
      "studies               0\n",
      "study                 0\n",
      "substance             0\n",
      "substantially         0\n",
      "subtype               0\n",
      "subtypes              0\n",
      "sudden                0\n",
      "sugar                 0\n",
      "summary               0\n",
      "surface               0\n",
      "surprisingly          0\n",
      "surrounding           0\n",
      "survival              0\n",
      "survive               0\n",
      "susceptibility        0\n",
      "sustained             0\n",
      "swallowing            0\n",
      "swelling              0\n",
      "symptoms              0\n",
      "synapses              0\n",
      "synaptic              0\n",
      "syndrome              0\n",
      "syndromes             0\n",
      "systemic              0\n",
      "systems               0\n",
      "target                0\n",
      "tasks                 0\n",
      "temperature           0\n",
      "tend                  0\n",
      "tenderness            0\n",
      "term                  0\n",
      "terminal              0\n",
      "therapeutic           0\n",
      "thickening            0\n",
      "thinking              0\n",
      "thoracic              0\n",
      "thought               0\n",
      "threatening           0\n",
      "throat                0\n",
      "thrombosis            0\n",
      "thyroid               0\n",
      "time                  0\n",
      "times                 0\n",
      "tissue                0\n",
      "tissues               0\n",
      "tonic                 0\n",
      "tooth                 0\n",
      "tp53                  0\n",
      "tph1                  0\n",
      "tract                 0\n",
      "transient             0\n",
      "trauma                0\n",
      "treated               0\n",
      "treatment             0\n",
      "triggered             0\n",
      "tube                  0\n",
      "tubular               0\n",
      "tumor                 0\n",
      "tumors                0\n",
      "turning               0\n",
      "twin                  0\n",
      "twins                 0\n",
      "type                  0\n",
      "types                 0\n",
      "typical               0\n",
      "typically             0\n",
      "uncontrollably        0\n",
      "undifferentiated      0\n",
      "untreated             0\n",
      "unusual               0\n",
      "unusually             0\n",
      "upper                 0\n",
      "urinary               0\n",
      "urine                 0\n",
      "use                   0\n",
      "used                  0\n",
      "using                 0\n",
      "usually               0\n",
      "variable              0\n",
      "variant               0\n",
      "variants              0\n",
      "variation             0\n",
      "varies                0\n",
      "vary                  0\n",
      "vascular              0\n",
      "vast                  0\n",
      "ventricular           0\n",
      "verbal                0\n",
      "vessel                0\n",
      "vessels               0\n",
      "virus                 0\n",
      "vision                0\n",
      "visual                0\n",
      "wall                  0\n",
      "weakness              0\n",
      "weeks                 0\n",
      "weight                0\n",
      "white                 0\n",
      "wide                  0\n",
      "widely                0\n",
      "withdrawal            0\n",
      "women                 0\n",
      "worldwide             0\n",
      "year                  0\n",
      "years                 0\n",
      "young                 0\n",
      "0                     0\n",
      "1                     0\n",
      "2                     0\n",
      "3                     0\n",
      "4                     0\n",
      "5                     0\n",
      "6                     0\n",
      "7                     0\n",
      "8                     0\n",
      "9                     0\n",
      "10                    0\n",
      "11                    0\n",
      "12                    0\n",
      "13                    0\n",
      "14                    0\n",
      "15                    0\n",
      "16                    0\n",
      "17                    0\n",
      "18                    0\n",
      "19                    0\n",
      "20                    0\n",
      "21                    0\n",
      "22                    0\n",
      "23                    0\n",
      "24                    0\n",
      "25                    0\n",
      "26                    0\n",
      "27                    0\n",
      "28                    0\n",
      "29                    0\n",
      "30                    0\n",
      "31                    0\n",
      "32                    0\n",
      "33                    0\n",
      "34                    0\n",
      "35                    0\n",
      "36                    0\n",
      "37                    0\n",
      "38                    0\n",
      "39                    0\n",
      "40                    0\n",
      "41                    0\n",
      "42                    0\n",
      "43                    0\n",
      "44                    0\n",
      "45                    0\n",
      "46                    0\n",
      "47                    0\n",
      "48                    0\n",
      "49                    0\n",
      "50                    0\n",
      "51                    0\n",
      "52                    0\n",
      "53                    0\n",
      "54                    0\n",
      "55                    0\n",
      "56                    0\n",
      "57                    0\n",
      "58                    0\n",
      "59                    0\n",
      "60                    0\n",
      "61                    0\n",
      "62                    0\n",
      "63                    0\n",
      "64                    0\n",
      "65                    0\n",
      "66                    0\n",
      "67                    0\n",
      "68                    0\n",
      "69                    0\n",
      "70                    0\n",
      "71                    0\n",
      "72                    0\n",
      "73                    0\n",
      "74                    0\n",
      "75                    0\n",
      "76                    0\n",
      "77                    0\n",
      "78                    0\n",
      "79                    0\n",
      "80                    0\n",
      "81                    0\n",
      "82                    0\n",
      "83                    0\n",
      "84                    0\n",
      "85                    0\n",
      "86                    0\n",
      "87                    0\n",
      "88                    0\n",
      "89                    0\n",
      "90                    0\n",
      "91                    0\n",
      "92                    0\n",
      "93                    0\n",
      "94                    0\n",
      "95                    0\n",
      "96                    0\n",
      "97                    0\n",
      "98                    0\n",
      "99                    0\n",
      "dtype: int64\n",
      "No missing values found. The dataset is clean and ready for processing.\n"
     ]
    }
   ],
   "source": [
    "# Checking for missing values\n",
    "missing_values = full_data_processed.isnull().sum()\n",
    "print(\"Missing values detected in the dataset:\")\n",
    "print(missing_values)\n",
    "\n",
    "if missing_values.sum() == 0:\n",
    "    print(\"No missing values found. The dataset is clean and ready for processing.\")\n",
    "else:\n",
    "    full_data_processed.fillna(0, inplace=True)\n",
    "    print(\"Missing values handled successfully by replacing them with 0.\")\n"
   ]
  },
  {
   "cell_type": "markdown",
   "id": "481f582a",
   "metadata": {},
   "source": [
    "#### Normalizing Numerical Features\n",
    "Normalizing numerical feature values ensures consistency by scaling them to a comparable range. This step is essential to enhance the performance of machine learning algorithms by preventing certain features from dominating due to differences in scale."
   ]
  },
  {
   "cell_type": "code",
   "execution_count": 133,
   "id": "3db1a623",
   "metadata": {
    "ExecuteTime": {
     "end_time": "2024-12-16T17:04:07.973958Z",
     "start_time": "2024-12-16T17:04:07.944912Z"
    }
   },
   "outputs": [
    {
     "name": "stdout",
     "output_type": "stream",
     "text": [
      "Features normalized. Sample data:\n",
      "          Y  abdomen  abdominal  ability  able  abnormal  abnormalities  \\\n",
      "0  0.000000      0.0        0.0      0.0   0.0  0.722154            0.0   \n",
      "1  0.000000      0.0        0.0      0.0   0.0  0.000000            0.0   \n",
      "2  0.285714      0.0        0.0      0.0   0.0  0.000000            0.0   \n",
      "3  0.014286      0.0        0.0      0.0   0.0  0.000000            0.0   \n",
      "4  0.000000      0.0        0.0      0.0   0.0  0.000000            0.0   \n",
      "\n",
      "   abnormality  abnormally  absence  ...  90  91  92  93  94  95  96  97  98  \\\n",
      "0          0.0         0.0      0.0  ...   8  16   3  16  20   7   9  20  21   \n",
      "1          0.0         0.0      0.0  ...   8  16   3  16  20   7   9  20  21   \n",
      "2          0.0         0.0      0.0  ...   6  12  10  20  20  20   5   2   2   \n",
      "3          0.0         0.0      0.0  ...   6  12  10  20  20  20   5   2   2   \n",
      "4          0.0         0.0      0.0  ...   6  12  10  20  20  20   5   2   2   \n",
      "\n",
      "   99  \n",
      "0   7  \n",
      "1   7  \n",
      "2   6  \n",
      "3   6  \n",
      "4   6  \n",
      "\n",
      "[5 rows x 1064 columns]\n"
     ]
    }
   ],
   "source": [
    "from sklearn.preprocessing import MinMaxScaler\n",
    "\n",
    "# Normalizar as features\n",
    "scaler = MinMaxScaler()\n",
    "numerical_columns = full_data_processed.select_dtypes(include=['float64', 'int64']).columns\n",
    "full_data_processed[numerical_columns] = scaler.fit_transform(full_data_processed[numerical_columns])\n",
    "\n",
    "print(\"Features normalized. Sample data:\")\n",
    "print(full_data_processed.head())\n"
   ]
  },
  {
   "cell_type": "markdown",
   "id": "d981003e",
   "metadata": {},
   "source": [
    "#### Splitting the Dataset into Train, Validation, and Test Sets\n",
    "Splitting the dataset into training, validation, and test subsets ensures a robust evaluation of the model. This division allows for efficient training, fine-tuning, and unbiased testing to assess generalization performance."
   ]
  },
  {
   "cell_type": "code",
   "execution_count": 60,
   "id": "5c6250b2",
   "metadata": {
    "ExecuteTime": {
     "end_time": "2024-12-16T17:04:08.021381Z",
     "start_time": "2024-12-16T17:04:07.976943Z"
    }
   },
   "outputs": [
    {
     "name": "stdout",
     "output_type": "stream",
     "text": [
      "Train set: (36733, 2), Validation set: (7871, 2), Test set: (7872, 2)\n"
     ]
    }
   ],
   "source": [
    "from sklearn.model_selection import train_test_split\n",
    "\n",
    "# Separar features e target\n",
    "X = full_data_processed.drop(columns=['Y'], errors='ignore')\n",
    "y = full_data_processed['Y']\n",
    "\n",
    "# Divisão\n",
    "X_train, X_temp, y_train, y_temp = train_test_split(X, y, test_size=0.3, random_state=42)\n",
    "X_valid, X_test, y_valid, y_test = train_test_split(X_temp, y_temp, test_size=0.5, random_state=42)\n",
    "\n",
    "print(f\"Train set: {X_train.shape}, Validation set: {X_valid.shape}, Test set: {X_test.shape}\")\n",
    "\n"
   ]
  },
  {
   "cell_type": "markdown",
   "id": "10257298",
   "metadata": {},
   "source": [
    "### Exploratory Analysis"
   ]
  },
  {
   "cell_type": "markdown",
   "id": "fc051544",
   "metadata": {},
   "source": [
    "The exploratory data analysis will involve a comprehensive investigation of the dataset's characteristics. This will entail summarizing numerical and categorical data, analyzing the distribution of the target variable, and identifying patterns in gene-disease associations. Key tasks include examining the frequency distribution of genes and diseases, exploring the lengths of gene sequences, and assessing pairwise relationships between genes and diseases. Visualizations such as histograms, bar plots, and heatmaps will be utilized to uncover trends and potential anomalies. Furthermore, correlation analysis will be employed to understand dependencies between features, laying the groundwork for subsequent feature engineering and model development."
   ]
  },
  {
   "cell_type": "code",
   "execution_count": 61,
   "id": "9686fefe",
   "metadata": {
    "ExecuteTime": {
     "end_time": "2024-12-16T17:04:08.099394Z",
     "start_time": "2024-12-16T17:04:08.086138Z"
    }
   },
   "outputs": [
    {
     "name": "stdout",
     "output_type": "stream",
     "text": [
      "\n",
      "Unique counts for categorical columns:\n",
      "Gene_ID: 7399 unique values\n",
      "Disease_ID: 7095 unique values\n"
     ]
    }
   ],
   "source": [
    "# Checking the distribution of categorical columns\n",
    "print(\"\\nUnique counts for categorical columns:\")\n",
    "for col in ['Gene_ID', 'Disease_ID']:\n",
    "    print(f\"{col}: {full_data[col].nunique()} unique values\")"
   ]
  },
  {
   "cell_type": "code",
   "execution_count": 62,
   "id": "7eadbae1",
   "metadata": {
    "ExecuteTime": {
     "end_time": "2024-12-16T17:04:08.115430Z",
     "start_time": "2024-12-16T17:04:08.100390Z"
    }
   },
   "outputs": [
    {
     "name": "stdout",
     "output_type": "stream",
     "text": [
      "Number of unique genes: 7399\n",
      "\n",
      "Frequency of the 10 most common genes:\n",
      "7124    237\n",
      "6648    200\n",
      "7157    184\n",
      "5743    183\n",
      "3569    172\n",
      "5728    157\n",
      "5443    153\n",
      "3553    142\n",
      "4524    138\n",
      "3845    138\n",
      "Name: Gene_ID, dtype: int64\n"
     ]
    }
   ],
   "source": [
    "# Number of unique genes\n",
    "unique_genes = full_data['Gene_ID'].nunique()\n",
    "print(f\"Number of unique genes: {unique_genes}\")\n",
    "\n",
    "# Frequency of the 10 most common genes\n",
    "gene_counts = full_data['Gene_ID'].value_counts().head(10)\n",
    "print(\"\\nFrequency of the 10 most common genes:\")\n",
    "print(gene_counts)"
   ]
  },
  {
   "cell_type": "code",
   "execution_count": 63,
   "id": "b8d2d18e",
   "metadata": {
    "ExecuteTime": {
     "end_time": "2024-12-16T17:04:08.585212Z",
     "start_time": "2024-12-16T17:04:08.118428Z"
    }
   },
   "outputs": [
    {
     "ename": "KeyError",
     "evalue": "'Disease_ID_encoded'",
     "output_type": "error",
     "traceback": [
      "\u001b[1;31m---------------------------------------------------------------------------\u001b[0m",
      "\u001b[1;31mKeyError\u001b[0m                                  Traceback (most recent call last)",
      "File \u001b[1;32mc:\\Users\\dases\\.conda\\envs\\noteSI\\lib\\site-packages\\pandas\\core\\indexes\\base.py:3802\u001b[0m, in \u001b[0;36mIndex.get_loc\u001b[1;34m(self, key, method, tolerance)\u001b[0m\n\u001b[0;32m   3801\u001b[0m \u001b[38;5;28;01mtry\u001b[39;00m:\n\u001b[1;32m-> 3802\u001b[0m     \u001b[38;5;28;01mreturn\u001b[39;00m \u001b[38;5;28;43mself\u001b[39;49m\u001b[38;5;241;43m.\u001b[39;49m\u001b[43m_engine\u001b[49m\u001b[38;5;241;43m.\u001b[39;49m\u001b[43mget_loc\u001b[49m\u001b[43m(\u001b[49m\u001b[43mcasted_key\u001b[49m\u001b[43m)\u001b[49m\n\u001b[0;32m   3803\u001b[0m \u001b[38;5;28;01mexcept\u001b[39;00m \u001b[38;5;167;01mKeyError\u001b[39;00m \u001b[38;5;28;01mas\u001b[39;00m err:\n",
      "File \u001b[1;32mc:\\Users\\dases\\.conda\\envs\\noteSI\\lib\\site-packages\\pandas\\_libs\\index.pyx:138\u001b[0m, in \u001b[0;36mpandas._libs.index.IndexEngine.get_loc\u001b[1;34m()\u001b[0m\n",
      "File \u001b[1;32mc:\\Users\\dases\\.conda\\envs\\noteSI\\lib\\site-packages\\pandas\\_libs\\index.pyx:165\u001b[0m, in \u001b[0;36mpandas._libs.index.IndexEngine.get_loc\u001b[1;34m()\u001b[0m\n",
      "File \u001b[1;32mpandas\\_libs\\hashtable_class_helper.pxi:5745\u001b[0m, in \u001b[0;36mpandas._libs.hashtable.PyObjectHashTable.get_item\u001b[1;34m()\u001b[0m\n",
      "File \u001b[1;32mpandas\\_libs\\hashtable_class_helper.pxi:5753\u001b[0m, in \u001b[0;36mpandas._libs.hashtable.PyObjectHashTable.get_item\u001b[1;34m()\u001b[0m\n",
      "\u001b[1;31mKeyError\u001b[0m: 'Disease_ID_encoded'",
      "\nThe above exception was the direct cause of the following exception:\n",
      "\u001b[1;31mKeyError\u001b[0m                                  Traceback (most recent call last)",
      "Cell \u001b[1;32mIn[63], line 2\u001b[0m\n\u001b[0;32m      1\u001b[0m \u001b[38;5;66;03m# Creating the reverse mapping for Disease_Label\u001b[39;00m\n\u001b[1;32m----> 2\u001b[0m full_data[\u001b[38;5;124m'\u001b[39m\u001b[38;5;124mDisease_Label\u001b[39m\u001b[38;5;124m'\u001b[39m] \u001b[38;5;241m=\u001b[39m \u001b[43mfull_data\u001b[49m\u001b[43m[\u001b[49m\u001b[38;5;124;43m'\u001b[39;49m\u001b[38;5;124;43mDisease_ID_encoded\u001b[39;49m\u001b[38;5;124;43m'\u001b[39;49m\u001b[43m]\u001b[49m\u001b[38;5;241m.\u001b[39mmap(disease_reverse_mapping)\n\u001b[0;32m      4\u001b[0m \u001b[38;5;66;03m# Extract the part before the first colon\u001b[39;00m\n\u001b[0;32m      5\u001b[0m full_data[\u001b[38;5;124m'\u001b[39m\u001b[38;5;124mDisease_Label\u001b[39m\u001b[38;5;124m'\u001b[39m] \u001b[38;5;241m=\u001b[39m full_data[\u001b[38;5;124m'\u001b[39m\u001b[38;5;124mDisease_Label\u001b[39m\u001b[38;5;124m'\u001b[39m]\u001b[38;5;241m.\u001b[39mstr\u001b[38;5;241m.\u001b[39msplit(\u001b[38;5;124m'\u001b[39m\u001b[38;5;124m:\u001b[39m\u001b[38;5;124m'\u001b[39m)\u001b[38;5;241m.\u001b[39mstr[\u001b[38;5;241m0\u001b[39m]\n",
      "File \u001b[1;32mc:\\Users\\dases\\.conda\\envs\\noteSI\\lib\\site-packages\\pandas\\core\\frame.py:3807\u001b[0m, in \u001b[0;36mDataFrame.__getitem__\u001b[1;34m(self, key)\u001b[0m\n\u001b[0;32m   3805\u001b[0m \u001b[38;5;28;01mif\u001b[39;00m \u001b[38;5;28mself\u001b[39m\u001b[38;5;241m.\u001b[39mcolumns\u001b[38;5;241m.\u001b[39mnlevels \u001b[38;5;241m>\u001b[39m \u001b[38;5;241m1\u001b[39m:\n\u001b[0;32m   3806\u001b[0m     \u001b[38;5;28;01mreturn\u001b[39;00m \u001b[38;5;28mself\u001b[39m\u001b[38;5;241m.\u001b[39m_getitem_multilevel(key)\n\u001b[1;32m-> 3807\u001b[0m indexer \u001b[38;5;241m=\u001b[39m \u001b[38;5;28;43mself\u001b[39;49m\u001b[38;5;241;43m.\u001b[39;49m\u001b[43mcolumns\u001b[49m\u001b[38;5;241;43m.\u001b[39;49m\u001b[43mget_loc\u001b[49m\u001b[43m(\u001b[49m\u001b[43mkey\u001b[49m\u001b[43m)\u001b[49m\n\u001b[0;32m   3808\u001b[0m \u001b[38;5;28;01mif\u001b[39;00m is_integer(indexer):\n\u001b[0;32m   3809\u001b[0m     indexer \u001b[38;5;241m=\u001b[39m [indexer]\n",
      "File \u001b[1;32mc:\\Users\\dases\\.conda\\envs\\noteSI\\lib\\site-packages\\pandas\\core\\indexes\\base.py:3804\u001b[0m, in \u001b[0;36mIndex.get_loc\u001b[1;34m(self, key, method, tolerance)\u001b[0m\n\u001b[0;32m   3802\u001b[0m     \u001b[38;5;28;01mreturn\u001b[39;00m \u001b[38;5;28mself\u001b[39m\u001b[38;5;241m.\u001b[39m_engine\u001b[38;5;241m.\u001b[39mget_loc(casted_key)\n\u001b[0;32m   3803\u001b[0m \u001b[38;5;28;01mexcept\u001b[39;00m \u001b[38;5;167;01mKeyError\u001b[39;00m \u001b[38;5;28;01mas\u001b[39;00m err:\n\u001b[1;32m-> 3804\u001b[0m     \u001b[38;5;28;01mraise\u001b[39;00m \u001b[38;5;167;01mKeyError\u001b[39;00m(key) \u001b[38;5;28;01mfrom\u001b[39;00m \u001b[38;5;21;01merr\u001b[39;00m\n\u001b[0;32m   3805\u001b[0m \u001b[38;5;28;01mexcept\u001b[39;00m \u001b[38;5;167;01mTypeError\u001b[39;00m:\n\u001b[0;32m   3806\u001b[0m     \u001b[38;5;66;03m# If we have a listlike key, _check_indexing_error will raise\u001b[39;00m\n\u001b[0;32m   3807\u001b[0m     \u001b[38;5;66;03m#  InvalidIndexError. Otherwise we fall through and re-raise\u001b[39;00m\n\u001b[0;32m   3808\u001b[0m     \u001b[38;5;66;03m#  the TypeError.\u001b[39;00m\n\u001b[0;32m   3809\u001b[0m     \u001b[38;5;28mself\u001b[39m\u001b[38;5;241m.\u001b[39m_check_indexing_error(key)\n",
      "\u001b[1;31mKeyError\u001b[0m: 'Disease_ID_encoded'"
     ]
    }
   ],
   "source": [
    "# Creating the reverse mapping for Disease_Label\n",
    "full_data['Disease_Label'] = full_data['Disease_ID_encoded'].map(disease_reverse_mapping)\n",
    "\n",
    "# Extract the part before the first colon\n",
    "full_data['Disease_Label'] = full_data['Disease_Label'].str.split(':').str[0]\n",
    "\n",
    "# Number of unique diseases\n",
    "unique_diseases = full_data['Disease_Label'].nunique()\n",
    "print(f\"Number of unique diseases: {unique_diseases}\")\n",
    "\n",
    "# Frequency of the 10 most common diseases\n",
    "disease_counts = full_data['Disease_Label'].value_counts().head(10)\n",
    "print(\"\\nFrequency of the 10 most common diseases:\")\n",
    "print(disease_counts)\n"
   ]
  },
  {
   "cell_type": "markdown",
   "id": "1f233554",
   "metadata": {},
   "source": [
    "#### Sequence Length Analysis for Gene\n",
    "Exploring the amino acid sequences of genes provides insights into their variability and patterns."
   ]
  },
  {
   "cell_type": "code",
   "execution_count": 46,
   "id": "ebf7f2ba",
   "metadata": {
    "ExecuteTime": {
     "end_time": "2024-12-16T17:04:09.442723Z",
     "start_time": "2024-12-16T17:04:08.587334Z"
    }
   },
   "outputs": [
    {
     "data": {
      "image/png": "[encoded data removed]",
      "text/plain": [
       "<Figure size 800x600 with 1 Axes>"
      ]
     },
     "metadata": {},
     "output_type": "display_data"
    }
   ],
   "source": [
    "# Adding sequence length\n",
    "full_data['Sequence_Length'] = full_data['Gene'].apply(len)\n",
    "\n",
    "# Distribution of sequence lengths\n",
    "plt.figure(figsize=(8, 6))\n",
    "sns.histplot(full_data['Sequence_Length'], kde=True, bins=30, color='green')\n",
    "plt.title(\"Distribution of Gene Sequence Lengths\")\n",
    "plt.xlabel(\"Sequence Length\")\n",
    "plt.ylabel(\"Frequency\")\n",
    "plt.show()"
   ]
  },
  {
   "cell_type": "markdown",
   "id": "23ee44b9",
   "metadata": {},
   "source": [
    "Gene sequences vary widely in length, with most sequences concentrated in the 200-500 range.\n",
    "This variation may affect the encoding process for machine learning."
   ]
  },
  {
   "cell_type": "markdown",
   "id": "6ab141f1",
   "metadata": {},
   "source": [
    "#### Distribution of Target Variable (Y)\n",
    "Understanding the distribution of the target variable is essential for model development, as skewed data may affect the learning process."
   ]
  },
  {
   "cell_type": "code",
   "execution_count": 47,
   "id": "14ac1941",
   "metadata": {
    "ExecuteTime": {
     "end_time": "2024-12-16T17:04:09.738368Z",
     "start_time": "2024-12-16T17:04:09.444722Z"
    }
   },
   "outputs": [
    {
     "data": {
      "image/png": "[encoded data removed]",
      "text/plain": [
       "<Figure size 800x500 with 1 Axes>"
      ]
     },
     "metadata": {},
     "output_type": "display_data"
    }
   ],
   "source": [
    "# Identification of outliers in the Y variable\n",
    "# Plotting the boxplot of Y to visualize potential outliers\n",
    "plt.figure(figsize=(8, 5))\n",
    "sns.boxplot(x=full_data['Y'], color='red')\n",
    "plt.title('Boxplot of the Y Variable')\n",
    "plt.xlabel('Y (Probability)')\n",
    "plt.show()"
   ]
  },
  {
   "cell_type": "code",
   "execution_count": 48,
   "id": "5095af1e",
   "metadata": {
    "ExecuteTime": {
     "end_time": "2024-12-16T17:04:10.034866Z",
     "start_time": "2024-12-16T17:04:09.740370Z"
    }
   },
   "outputs": [
    {
     "data": {
      "image/png": "[encoded data removed]",
      "text/plain": [
       "<Figure size 1000x600 with 1 Axes>"
      ]
     },
     "metadata": {},
     "output_type": "display_data"
    }
   ],
   "source": [
    "# Histogram of the association by Gene_ID and Y\n",
    "# Aggregate the Y values by Gene_ID\n",
    "gene_y_aggregated = full_data.groupby('Gene_ID')['Y'].mean()\n",
    "\n",
    "# Plot a histogram to show the distribution of aggregated Y values\n",
    "plt.figure(figsize=(10, 6))\n",
    "sns.histplot(gene_y_aggregated, kde=True, bins=20, color=\"skyblue\")\n",
    "plt.title('Histogram of Aggregated Y by Gene_ID')\n",
    "plt.xlabel('Aggregated Y (Mean Probability)')\n",
    "plt.ylabel('Frequency')\n",
    "plt.show()"
   ]
  },
  {
   "cell_type": "code",
   "execution_count": 49,
   "id": "941d5589",
   "metadata": {
    "ExecuteTime": {
     "end_time": "2024-12-16T17:04:10.337191Z",
     "start_time": "2024-12-16T17:04:10.037861Z"
    }
   },
   "outputs": [
    {
     "ename": "KeyError",
     "evalue": "'Disease_Label'",
     "output_type": "error",
     "traceback": [
      "\u001b[1;31m---------------------------------------------------------------------------\u001b[0m",
      "\u001b[1;31mKeyError\u001b[0m                                  Traceback (most recent call last)",
      "Cell \u001b[1;32mIn[49], line 3\u001b[0m\n\u001b[0;32m      1\u001b[0m \u001b[38;5;66;03m# Histogram of the association by Disease_Label and Y\u001b[39;00m\n\u001b[0;32m      2\u001b[0m \u001b[38;5;66;03m# Aggregate the Y values by Disease_Label\u001b[39;00m\n\u001b[1;32m----> 3\u001b[0m disease_y_aggregated \u001b[38;5;241m=\u001b[39m \u001b[43mfull_data\u001b[49m\u001b[38;5;241;43m.\u001b[39;49m\u001b[43mgroupby\u001b[49m\u001b[43m(\u001b[49m\u001b[38;5;124;43m'\u001b[39;49m\u001b[38;5;124;43mDisease_Label\u001b[39;49m\u001b[38;5;124;43m'\u001b[39;49m\u001b[43m)\u001b[49m[\u001b[38;5;124m'\u001b[39m\u001b[38;5;124mY\u001b[39m\u001b[38;5;124m'\u001b[39m]\u001b[38;5;241m.\u001b[39mmean()\n\u001b[0;32m      5\u001b[0m \u001b[38;5;66;03m# Plot a histogram to show the distribution of aggregated Y values\u001b[39;00m\n\u001b[0;32m      6\u001b[0m plt\u001b[38;5;241m.\u001b[39mfigure(figsize\u001b[38;5;241m=\u001b[39m(\u001b[38;5;241m12\u001b[39m, \u001b[38;5;241m8\u001b[39m))\n",
      "File \u001b[1;32mc:\\Users\\dases\\.conda\\envs\\noteSI\\lib\\site-packages\\pandas\\core\\frame.py:8402\u001b[0m, in \u001b[0;36mDataFrame.groupby\u001b[1;34m(self, by, axis, level, as_index, sort, group_keys, squeeze, observed, dropna)\u001b[0m\n\u001b[0;32m   8399\u001b[0m     \u001b[38;5;28;01mraise\u001b[39;00m \u001b[38;5;167;01mTypeError\u001b[39;00m(\u001b[38;5;124m\"\u001b[39m\u001b[38;5;124mYou have to supply one of \u001b[39m\u001b[38;5;124m'\u001b[39m\u001b[38;5;124mby\u001b[39m\u001b[38;5;124m'\u001b[39m\u001b[38;5;124m and \u001b[39m\u001b[38;5;124m'\u001b[39m\u001b[38;5;124mlevel\u001b[39m\u001b[38;5;124m'\u001b[39m\u001b[38;5;124m\"\u001b[39m)\n\u001b[0;32m   8400\u001b[0m axis \u001b[38;5;241m=\u001b[39m \u001b[38;5;28mself\u001b[39m\u001b[38;5;241m.\u001b[39m_get_axis_number(axis)\n\u001b[1;32m-> 8402\u001b[0m \u001b[38;5;28;01mreturn\u001b[39;00m \u001b[43mDataFrameGroupBy\u001b[49m\u001b[43m(\u001b[49m\n\u001b[0;32m   8403\u001b[0m \u001b[43m    \u001b[49m\u001b[43mobj\u001b[49m\u001b[38;5;241;43m=\u001b[39;49m\u001b[38;5;28;43mself\u001b[39;49m\u001b[43m,\u001b[49m\n\u001b[0;32m   8404\u001b[0m \u001b[43m    \u001b[49m\u001b[43mkeys\u001b[49m\u001b[38;5;241;43m=\u001b[39;49m\u001b[43mby\u001b[49m\u001b[43m,\u001b[49m\n\u001b[0;32m   8405\u001b[0m \u001b[43m    \u001b[49m\u001b[43maxis\u001b[49m\u001b[38;5;241;43m=\u001b[39;49m\u001b[43maxis\u001b[49m\u001b[43m,\u001b[49m\n\u001b[0;32m   8406\u001b[0m \u001b[43m    \u001b[49m\u001b[43mlevel\u001b[49m\u001b[38;5;241;43m=\u001b[39;49m\u001b[43mlevel\u001b[49m\u001b[43m,\u001b[49m\n\u001b[0;32m   8407\u001b[0m \u001b[43m    \u001b[49m\u001b[43mas_index\u001b[49m\u001b[38;5;241;43m=\u001b[39;49m\u001b[43mas_index\u001b[49m\u001b[43m,\u001b[49m\n\u001b[0;32m   8408\u001b[0m \u001b[43m    \u001b[49m\u001b[43msort\u001b[49m\u001b[38;5;241;43m=\u001b[39;49m\u001b[43msort\u001b[49m\u001b[43m,\u001b[49m\n\u001b[0;32m   8409\u001b[0m \u001b[43m    \u001b[49m\u001b[43mgroup_keys\u001b[49m\u001b[38;5;241;43m=\u001b[39;49m\u001b[43mgroup_keys\u001b[49m\u001b[43m,\u001b[49m\n\u001b[0;32m   8410\u001b[0m \u001b[43m    \u001b[49m\u001b[43msqueeze\u001b[49m\u001b[38;5;241;43m=\u001b[39;49m\u001b[43msqueeze\u001b[49m\u001b[43m,\u001b[49m\n\u001b[0;32m   8411\u001b[0m \u001b[43m    \u001b[49m\u001b[43mobserved\u001b[49m\u001b[38;5;241;43m=\u001b[39;49m\u001b[43mobserved\u001b[49m\u001b[43m,\u001b[49m\n\u001b[0;32m   8412\u001b[0m \u001b[43m    \u001b[49m\u001b[43mdropna\u001b[49m\u001b[38;5;241;43m=\u001b[39;49m\u001b[43mdropna\u001b[49m\u001b[43m,\u001b[49m\n\u001b[0;32m   8413\u001b[0m \u001b[43m\u001b[49m\u001b[43m)\u001b[49m\n",
      "File \u001b[1;32mc:\\Users\\dases\\.conda\\envs\\noteSI\\lib\\site-packages\\pandas\\core\\groupby\\groupby.py:965\u001b[0m, in \u001b[0;36mGroupBy.__init__\u001b[1;34m(self, obj, keys, axis, level, grouper, exclusions, selection, as_index, sort, group_keys, squeeze, observed, mutated, dropna)\u001b[0m\n\u001b[0;32m    962\u001b[0m \u001b[38;5;28;01mif\u001b[39;00m grouper \u001b[38;5;129;01mis\u001b[39;00m \u001b[38;5;28;01mNone\u001b[39;00m:\n\u001b[0;32m    963\u001b[0m     \u001b[38;5;28;01mfrom\u001b[39;00m \u001b[38;5;21;01mpandas\u001b[39;00m\u001b[38;5;21;01m.\u001b[39;00m\u001b[38;5;21;01mcore\u001b[39;00m\u001b[38;5;21;01m.\u001b[39;00m\u001b[38;5;21;01mgroupby\u001b[39;00m\u001b[38;5;21;01m.\u001b[39;00m\u001b[38;5;21;01mgrouper\u001b[39;00m \u001b[38;5;28;01mimport\u001b[39;00m get_grouper\n\u001b[1;32m--> 965\u001b[0m     grouper, exclusions, obj \u001b[38;5;241m=\u001b[39m \u001b[43mget_grouper\u001b[49m\u001b[43m(\u001b[49m\n\u001b[0;32m    966\u001b[0m \u001b[43m        \u001b[49m\u001b[43mobj\u001b[49m\u001b[43m,\u001b[49m\n\u001b[0;32m    967\u001b[0m \u001b[43m        \u001b[49m\u001b[43mkeys\u001b[49m\u001b[43m,\u001b[49m\n\u001b[0;32m    968\u001b[0m \u001b[43m        \u001b[49m\u001b[43maxis\u001b[49m\u001b[38;5;241;43m=\u001b[39;49m\u001b[43maxis\u001b[49m\u001b[43m,\u001b[49m\n\u001b[0;32m    969\u001b[0m \u001b[43m        \u001b[49m\u001b[43mlevel\u001b[49m\u001b[38;5;241;43m=\u001b[39;49m\u001b[43mlevel\u001b[49m\u001b[43m,\u001b[49m\n\u001b[0;32m    970\u001b[0m \u001b[43m        \u001b[49m\u001b[43msort\u001b[49m\u001b[38;5;241;43m=\u001b[39;49m\u001b[43msort\u001b[49m\u001b[43m,\u001b[49m\n\u001b[0;32m    971\u001b[0m \u001b[43m        \u001b[49m\u001b[43mobserved\u001b[49m\u001b[38;5;241;43m=\u001b[39;49m\u001b[43mobserved\u001b[49m\u001b[43m,\u001b[49m\n\u001b[0;32m    972\u001b[0m \u001b[43m        \u001b[49m\u001b[43mmutated\u001b[49m\u001b[38;5;241;43m=\u001b[39;49m\u001b[38;5;28;43mself\u001b[39;49m\u001b[38;5;241;43m.\u001b[39;49m\u001b[43mmutated\u001b[49m\u001b[43m,\u001b[49m\n\u001b[0;32m    973\u001b[0m \u001b[43m        \u001b[49m\u001b[43mdropna\u001b[49m\u001b[38;5;241;43m=\u001b[39;49m\u001b[38;5;28;43mself\u001b[39;49m\u001b[38;5;241;43m.\u001b[39;49m\u001b[43mdropna\u001b[49m\u001b[43m,\u001b[49m\n\u001b[0;32m    974\u001b[0m \u001b[43m    \u001b[49m\u001b[43m)\u001b[49m\n\u001b[0;32m    976\u001b[0m \u001b[38;5;28mself\u001b[39m\u001b[38;5;241m.\u001b[39mobj \u001b[38;5;241m=\u001b[39m obj\n\u001b[0;32m    977\u001b[0m \u001b[38;5;28mself\u001b[39m\u001b[38;5;241m.\u001b[39maxis \u001b[38;5;241m=\u001b[39m obj\u001b[38;5;241m.\u001b[39m_get_axis_number(axis)\n",
      "File \u001b[1;32mc:\\Users\\dases\\.conda\\envs\\noteSI\\lib\\site-packages\\pandas\\core\\groupby\\grouper.py:888\u001b[0m, in \u001b[0;36mget_grouper\u001b[1;34m(obj, key, axis, level, sort, observed, mutated, validate, dropna)\u001b[0m\n\u001b[0;32m    886\u001b[0m         in_axis, level, gpr \u001b[38;5;241m=\u001b[39m \u001b[38;5;28;01mFalse\u001b[39;00m, gpr, \u001b[38;5;28;01mNone\u001b[39;00m\n\u001b[0;32m    887\u001b[0m     \u001b[38;5;28;01melse\u001b[39;00m:\n\u001b[1;32m--> 888\u001b[0m         \u001b[38;5;28;01mraise\u001b[39;00m \u001b[38;5;167;01mKeyError\u001b[39;00m(gpr)\n\u001b[0;32m    889\u001b[0m \u001b[38;5;28;01melif\u001b[39;00m \u001b[38;5;28misinstance\u001b[39m(gpr, Grouper) \u001b[38;5;129;01mand\u001b[39;00m gpr\u001b[38;5;241m.\u001b[39mkey \u001b[38;5;129;01mis\u001b[39;00m \u001b[38;5;129;01mnot\u001b[39;00m \u001b[38;5;28;01mNone\u001b[39;00m:\n\u001b[0;32m    890\u001b[0m     \u001b[38;5;66;03m# Add key to exclusions\u001b[39;00m\n\u001b[0;32m    891\u001b[0m     exclusions\u001b[38;5;241m.\u001b[39madd(gpr\u001b[38;5;241m.\u001b[39mkey)\n",
      "\u001b[1;31mKeyError\u001b[0m: 'Disease_Label'"
     ]
    }
   ],
   "source": [
    "# Histogram of the association by Disease_Label and Y\n",
    "# Aggregate the Y values by Disease_Label\n",
    "disease_y_aggregated = full_data.groupby('Disease_Label')['Y'].mean()\n",
    "\n",
    "# Plot a histogram to show the distribution of aggregated Y values\n",
    "plt.figure(figsize=(12, 8))\n",
    "sns.histplot(disease_y_aggregated, kde=True, bins=20, color=\"lightgreen\")\n",
    "plt.title('Histogram of Aggregated Y by Disease_Label')\n",
    "plt.xlabel('Aggregated Y (Mean Probability)')\n",
    "plt.ylabel('Frequency')\n",
    "plt.xticks(rotation=90)  # Rotate x-axis labels for better readability\n",
    "plt.show()"
   ]
  },
  {
   "cell_type": "code",
   "execution_count": 50,
   "id": "c5fceea3",
   "metadata": {
    "ExecuteTime": {
     "end_time": "2024-12-16T17:04:10.814304Z",
     "start_time": "2024-12-16T17:04:10.340137Z"
    }
   },
   "outputs": [
    {
     "data": {
      "image/png": "[encoded data removed]",
      "text/plain": [
       "<Figure size 800x600 with 1 Axes>"
      ]
     },
     "metadata": {},
     "output_type": "display_data"
    }
   ],
   "source": [
    "# Distribution plot for Y\n",
    "plt.figure(figsize=(8, 6))\n",
    "sns.histplot(full_data['Y'], kde=True, bins=30, color='blue')\n",
    "plt.title(\"Distribution of Gene-Disease Association Probability (Y)\")\n",
    "plt.xlabel(\"Y (Probability)\")\n",
    "plt.ylabel(\"Frequency\")\n",
    "plt.show()"
   ]
  },
  {
   "cell_type": "markdown",
   "id": "35c882d2",
   "metadata": {},
   "source": [
    "The target variable Y is moderately skewed towards lower probabilities, indicating that most gene-disease associations have low probability scores."
   ]
  },
  {
   "cell_type": "markdown",
   "id": "9eb5f6fe",
   "metadata": {},
   "source": [
    "#### Gene and Disease Frequency Analysis"
   ]
  },
  {
   "cell_type": "code",
   "execution_count": 51,
   "id": "0df176b6",
   "metadata": {
    "ExecuteTime": {
     "end_time": "2024-12-16T17:04:11.590302Z",
     "start_time": "2024-12-16T17:04:10.818344Z"
    }
   },
   "outputs": [
    {
     "ename": "KeyError",
     "evalue": "'Disease_Label'",
     "output_type": "error",
     "traceback": [
      "\u001b[1;31m---------------------------------------------------------------------------\u001b[0m",
      "\u001b[1;31mKeyError\u001b[0m                                  Traceback (most recent call last)",
      "File \u001b[1;32mc:\\Users\\dases\\.conda\\envs\\noteSI\\lib\\site-packages\\pandas\\core\\indexes\\base.py:3802\u001b[0m, in \u001b[0;36mIndex.get_loc\u001b[1;34m(self, key, method, tolerance)\u001b[0m\n\u001b[0;32m   3801\u001b[0m \u001b[38;5;28;01mtry\u001b[39;00m:\n\u001b[1;32m-> 3802\u001b[0m     \u001b[38;5;28;01mreturn\u001b[39;00m \u001b[38;5;28;43mself\u001b[39;49m\u001b[38;5;241;43m.\u001b[39;49m\u001b[43m_engine\u001b[49m\u001b[38;5;241;43m.\u001b[39;49m\u001b[43mget_loc\u001b[49m\u001b[43m(\u001b[49m\u001b[43mcasted_key\u001b[49m\u001b[43m)\u001b[49m\n\u001b[0;32m   3803\u001b[0m \u001b[38;5;28;01mexcept\u001b[39;00m \u001b[38;5;167;01mKeyError\u001b[39;00m \u001b[38;5;28;01mas\u001b[39;00m err:\n",
      "File \u001b[1;32mc:\\Users\\dases\\.conda\\envs\\noteSI\\lib\\site-packages\\pandas\\_libs\\index.pyx:138\u001b[0m, in \u001b[0;36mpandas._libs.index.IndexEngine.get_loc\u001b[1;34m()\u001b[0m\n",
      "File \u001b[1;32mc:\\Users\\dases\\.conda\\envs\\noteSI\\lib\\site-packages\\pandas\\_libs\\index.pyx:165\u001b[0m, in \u001b[0;36mpandas._libs.index.IndexEngine.get_loc\u001b[1;34m()\u001b[0m\n",
      "File \u001b[1;32mpandas\\_libs\\hashtable_class_helper.pxi:5745\u001b[0m, in \u001b[0;36mpandas._libs.hashtable.PyObjectHashTable.get_item\u001b[1;34m()\u001b[0m\n",
      "File \u001b[1;32mpandas\\_libs\\hashtable_class_helper.pxi:5753\u001b[0m, in \u001b[0;36mpandas._libs.hashtable.PyObjectHashTable.get_item\u001b[1;34m()\u001b[0m\n",
      "\u001b[1;31mKeyError\u001b[0m: 'Disease_Label'",
      "\nThe above exception was the direct cause of the following exception:\n",
      "\u001b[1;31mKeyError\u001b[0m                                  Traceback (most recent call last)",
      "Cell \u001b[1;32mIn[51], line 1\u001b[0m\n\u001b[1;32m----> 1\u001b[0m full_data[\u001b[38;5;124m'\u001b[39m\u001b[38;5;124mDisease_Label\u001b[39m\u001b[38;5;124m'\u001b[39m] \u001b[38;5;241m=\u001b[39m \u001b[43mfull_data\u001b[49m\u001b[43m[\u001b[49m\u001b[38;5;124;43m'\u001b[39;49m\u001b[38;5;124;43mDisease_Label\u001b[39;49m\u001b[38;5;124;43m'\u001b[39;49m\u001b[43m]\u001b[49m\u001b[38;5;241m.\u001b[39mstr\u001b[38;5;241m.\u001b[39msplit(\u001b[38;5;124m'\u001b[39m\u001b[38;5;124m:\u001b[39m\u001b[38;5;124m'\u001b[39m)\u001b[38;5;241m.\u001b[39mstr[\u001b[38;5;241m0\u001b[39m]\n\u001b[0;32m      3\u001b[0m \u001b[38;5;66;03m# Defining the 10 most frequent genes\u001b[39;00m\n\u001b[0;32m      4\u001b[0m top_genes \u001b[38;5;241m=\u001b[39m full_data[\u001b[38;5;124m'\u001b[39m\u001b[38;5;124mGene_ID\u001b[39m\u001b[38;5;124m'\u001b[39m]\u001b[38;5;241m.\u001b[39mvalue_counts()\u001b[38;5;241m.\u001b[39mhead(\u001b[38;5;241m10\u001b[39m)\n",
      "File \u001b[1;32mc:\\Users\\dases\\.conda\\envs\\noteSI\\lib\\site-packages\\pandas\\core\\frame.py:3807\u001b[0m, in \u001b[0;36mDataFrame.__getitem__\u001b[1;34m(self, key)\u001b[0m\n\u001b[0;32m   3805\u001b[0m \u001b[38;5;28;01mif\u001b[39;00m \u001b[38;5;28mself\u001b[39m\u001b[38;5;241m.\u001b[39mcolumns\u001b[38;5;241m.\u001b[39mnlevels \u001b[38;5;241m>\u001b[39m \u001b[38;5;241m1\u001b[39m:\n\u001b[0;32m   3806\u001b[0m     \u001b[38;5;28;01mreturn\u001b[39;00m \u001b[38;5;28mself\u001b[39m\u001b[38;5;241m.\u001b[39m_getitem_multilevel(key)\n\u001b[1;32m-> 3807\u001b[0m indexer \u001b[38;5;241m=\u001b[39m \u001b[38;5;28;43mself\u001b[39;49m\u001b[38;5;241;43m.\u001b[39;49m\u001b[43mcolumns\u001b[49m\u001b[38;5;241;43m.\u001b[39;49m\u001b[43mget_loc\u001b[49m\u001b[43m(\u001b[49m\u001b[43mkey\u001b[49m\u001b[43m)\u001b[49m\n\u001b[0;32m   3808\u001b[0m \u001b[38;5;28;01mif\u001b[39;00m is_integer(indexer):\n\u001b[0;32m   3809\u001b[0m     indexer \u001b[38;5;241m=\u001b[39m [indexer]\n",
      "File \u001b[1;32mc:\\Users\\dases\\.conda\\envs\\noteSI\\lib\\site-packages\\pandas\\core\\indexes\\base.py:3804\u001b[0m, in \u001b[0;36mIndex.get_loc\u001b[1;34m(self, key, method, tolerance)\u001b[0m\n\u001b[0;32m   3802\u001b[0m     \u001b[38;5;28;01mreturn\u001b[39;00m \u001b[38;5;28mself\u001b[39m\u001b[38;5;241m.\u001b[39m_engine\u001b[38;5;241m.\u001b[39mget_loc(casted_key)\n\u001b[0;32m   3803\u001b[0m \u001b[38;5;28;01mexcept\u001b[39;00m \u001b[38;5;167;01mKeyError\u001b[39;00m \u001b[38;5;28;01mas\u001b[39;00m err:\n\u001b[1;32m-> 3804\u001b[0m     \u001b[38;5;28;01mraise\u001b[39;00m \u001b[38;5;167;01mKeyError\u001b[39;00m(key) \u001b[38;5;28;01mfrom\u001b[39;00m \u001b[38;5;21;01merr\u001b[39;00m\n\u001b[0;32m   3805\u001b[0m \u001b[38;5;28;01mexcept\u001b[39;00m \u001b[38;5;167;01mTypeError\u001b[39;00m:\n\u001b[0;32m   3806\u001b[0m     \u001b[38;5;66;03m# If we have a listlike key, _check_indexing_error will raise\u001b[39;00m\n\u001b[0;32m   3807\u001b[0m     \u001b[38;5;66;03m#  InvalidIndexError. Otherwise we fall through and re-raise\u001b[39;00m\n\u001b[0;32m   3808\u001b[0m     \u001b[38;5;66;03m#  the TypeError.\u001b[39;00m\n\u001b[0;32m   3809\u001b[0m     \u001b[38;5;28mself\u001b[39m\u001b[38;5;241m.\u001b[39m_check_indexing_error(key)\n",
      "\u001b[1;31mKeyError\u001b[0m: 'Disease_Label'"
     ]
    }
   ],
   "source": [
    "full_data['Disease_Label'] = full_data['Disease_Label'].str.split(':').str[0]\n",
    "\n",
    "# Defining the 10 most frequent genes\n",
    "top_genes = full_data['Gene_ID'].value_counts().head(10)\n",
    "\n",
    "# Defining the 10 most frequent diseases\n",
    "top_diseases = full_data['Disease_Label'].value_counts().head(10)\n",
    "\n",
    "\n",
    "# Plotting top 10 genes and diseases\n",
    "fig, axes = plt.subplots(1, 2, figsize=(16, 6))\n",
    "\n",
    "# Top Genes\n",
    "sns.barplot(x=top_genes.values, y=top_genes.index, ax=axes[0], palette=\"viridis\")\n",
    "axes[0].set_title(\"Top 10 Frequent Genes\")\n",
    "axes[0].set_xlabel(\"Frequency\")\n",
    "axes[0].set_ylabel(\"Gene_ID\")\n",
    "\n",
    "# Top Diseases\n",
    "sns.barplot(x=top_diseases.values, y=top_diseases.index, ax=axes[1], palette=\"plasma\")\n",
    "axes[1].set_title(\"Top 10 Frequent Diseases\")\n",
    "axes[1].set_xlabel(\"Frequency\")\n",
    "axes[1].set_ylabel(\"Disease Label\")\n",
    "\n",
    "plt.tight_layout()\n",
    "plt.show()"
   ]
  },
  {
   "cell_type": "markdown",
   "id": "80e4802d",
   "metadata": {},
   "source": [
    "#### Gene-Disease Pairing Analysis\n",
    "To explore the relationships between genes and diseases, we analyze and visualize their pairwise occurrences."
   ]
  },
  {
   "cell_type": "code",
   "execution_count": 52,
   "id": "e437ee61",
   "metadata": {
    "ExecuteTime": {
     "end_time": "2024-12-16T17:04:57.694243Z",
     "start_time": "2024-12-16T17:04:11.592302Z"
    }
   },
   "outputs": [
    {
     "ename": "KeyError",
     "evalue": "'Disease_Label'",
     "output_type": "error",
     "traceback": [
      "\u001b[1;31m---------------------------------------------------------------------------\u001b[0m",
      "\u001b[1;31mKeyError\u001b[0m                                  Traceback (most recent call last)",
      "Cell \u001b[1;32mIn[52], line 3\u001b[0m\n\u001b[0;32m      1\u001b[0m \u001b[38;5;66;03m# RETIRAR ESTES RESULTADOS\u001b[39;00m\n\u001b[0;32m      2\u001b[0m \u001b[38;5;66;03m# Pairwise analysis\u001b[39;00m\n\u001b[1;32m----> 3\u001b[0m pair_counts \u001b[38;5;241m=\u001b[39m \u001b[43mfull_data\u001b[49m\u001b[38;5;241;43m.\u001b[39;49m\u001b[43mgroupby\u001b[49m\u001b[43m(\u001b[49m\u001b[43m[\u001b[49m\u001b[38;5;124;43m'\u001b[39;49m\u001b[38;5;124;43mGene_ID\u001b[39;49m\u001b[38;5;124;43m'\u001b[39;49m\u001b[43m,\u001b[49m\u001b[43m \u001b[49m\u001b[38;5;124;43m'\u001b[39;49m\u001b[38;5;124;43mDisease_Label\u001b[39;49m\u001b[38;5;124;43m'\u001b[39;49m\u001b[43m]\u001b[49m\u001b[43m)\u001b[49m\u001b[38;5;241m.\u001b[39msize()\u001b[38;5;241m.\u001b[39mreset_index(name\u001b[38;5;241m=\u001b[39m\u001b[38;5;124m'\u001b[39m\u001b[38;5;124mPair_Frequency\u001b[39m\u001b[38;5;124m'\u001b[39m)\n\u001b[0;32m      4\u001b[0m pair_counts \u001b[38;5;241m=\u001b[39m pair_counts\u001b[38;5;241m.\u001b[39msort_values(by\u001b[38;5;241m=\u001b[39m\u001b[38;5;124m'\u001b[39m\u001b[38;5;124mPair_Frequency\u001b[39m\u001b[38;5;124m'\u001b[39m, ascending\u001b[38;5;241m=\u001b[39m\u001b[38;5;28;01mFalse\u001b[39;00m)\n\u001b[0;32m      6\u001b[0m \u001b[38;5;28mprint\u001b[39m(\u001b[38;5;124m\"\u001b[39m\u001b[38;5;124mTop 5 Gene-Disease pairs:\u001b[39m\u001b[38;5;130;01m\\n\u001b[39;00m\u001b[38;5;124m\"\u001b[39m, pair_counts\u001b[38;5;241m.\u001b[39mhead())\n",
      "File \u001b[1;32mc:\\Users\\dases\\.conda\\envs\\noteSI\\lib\\site-packages\\pandas\\core\\frame.py:8402\u001b[0m, in \u001b[0;36mDataFrame.groupby\u001b[1;34m(self, by, axis, level, as_index, sort, group_keys, squeeze, observed, dropna)\u001b[0m\n\u001b[0;32m   8399\u001b[0m     \u001b[38;5;28;01mraise\u001b[39;00m \u001b[38;5;167;01mTypeError\u001b[39;00m(\u001b[38;5;124m\"\u001b[39m\u001b[38;5;124mYou have to supply one of \u001b[39m\u001b[38;5;124m'\u001b[39m\u001b[38;5;124mby\u001b[39m\u001b[38;5;124m'\u001b[39m\u001b[38;5;124m and \u001b[39m\u001b[38;5;124m'\u001b[39m\u001b[38;5;124mlevel\u001b[39m\u001b[38;5;124m'\u001b[39m\u001b[38;5;124m\"\u001b[39m)\n\u001b[0;32m   8400\u001b[0m axis \u001b[38;5;241m=\u001b[39m \u001b[38;5;28mself\u001b[39m\u001b[38;5;241m.\u001b[39m_get_axis_number(axis)\n\u001b[1;32m-> 8402\u001b[0m \u001b[38;5;28;01mreturn\u001b[39;00m \u001b[43mDataFrameGroupBy\u001b[49m\u001b[43m(\u001b[49m\n\u001b[0;32m   8403\u001b[0m \u001b[43m    \u001b[49m\u001b[43mobj\u001b[49m\u001b[38;5;241;43m=\u001b[39;49m\u001b[38;5;28;43mself\u001b[39;49m\u001b[43m,\u001b[49m\n\u001b[0;32m   8404\u001b[0m \u001b[43m    \u001b[49m\u001b[43mkeys\u001b[49m\u001b[38;5;241;43m=\u001b[39;49m\u001b[43mby\u001b[49m\u001b[43m,\u001b[49m\n\u001b[0;32m   8405\u001b[0m \u001b[43m    \u001b[49m\u001b[43maxis\u001b[49m\u001b[38;5;241;43m=\u001b[39;49m\u001b[43maxis\u001b[49m\u001b[43m,\u001b[49m\n\u001b[0;32m   8406\u001b[0m \u001b[43m    \u001b[49m\u001b[43mlevel\u001b[49m\u001b[38;5;241;43m=\u001b[39;49m\u001b[43mlevel\u001b[49m\u001b[43m,\u001b[49m\n\u001b[0;32m   8407\u001b[0m \u001b[43m    \u001b[49m\u001b[43mas_index\u001b[49m\u001b[38;5;241;43m=\u001b[39;49m\u001b[43mas_index\u001b[49m\u001b[43m,\u001b[49m\n\u001b[0;32m   8408\u001b[0m \u001b[43m    \u001b[49m\u001b[43msort\u001b[49m\u001b[38;5;241;43m=\u001b[39;49m\u001b[43msort\u001b[49m\u001b[43m,\u001b[49m\n\u001b[0;32m   8409\u001b[0m \u001b[43m    \u001b[49m\u001b[43mgroup_keys\u001b[49m\u001b[38;5;241;43m=\u001b[39;49m\u001b[43mgroup_keys\u001b[49m\u001b[43m,\u001b[49m\n\u001b[0;32m   8410\u001b[0m \u001b[43m    \u001b[49m\u001b[43msqueeze\u001b[49m\u001b[38;5;241;43m=\u001b[39;49m\u001b[43msqueeze\u001b[49m\u001b[43m,\u001b[49m\n\u001b[0;32m   8411\u001b[0m \u001b[43m    \u001b[49m\u001b[43mobserved\u001b[49m\u001b[38;5;241;43m=\u001b[39;49m\u001b[43mobserved\u001b[49m\u001b[43m,\u001b[49m\n\u001b[0;32m   8412\u001b[0m \u001b[43m    \u001b[49m\u001b[43mdropna\u001b[49m\u001b[38;5;241;43m=\u001b[39;49m\u001b[43mdropna\u001b[49m\u001b[43m,\u001b[49m\n\u001b[0;32m   8413\u001b[0m \u001b[43m\u001b[49m\u001b[43m)\u001b[49m\n",
      "File \u001b[1;32mc:\\Users\\dases\\.conda\\envs\\noteSI\\lib\\site-packages\\pandas\\core\\groupby\\groupby.py:965\u001b[0m, in \u001b[0;36mGroupBy.__init__\u001b[1;34m(self, obj, keys, axis, level, grouper, exclusions, selection, as_index, sort, group_keys, squeeze, observed, mutated, dropna)\u001b[0m\n\u001b[0;32m    962\u001b[0m \u001b[38;5;28;01mif\u001b[39;00m grouper \u001b[38;5;129;01mis\u001b[39;00m \u001b[38;5;28;01mNone\u001b[39;00m:\n\u001b[0;32m    963\u001b[0m     \u001b[38;5;28;01mfrom\u001b[39;00m \u001b[38;5;21;01mpandas\u001b[39;00m\u001b[38;5;21;01m.\u001b[39;00m\u001b[38;5;21;01mcore\u001b[39;00m\u001b[38;5;21;01m.\u001b[39;00m\u001b[38;5;21;01mgroupby\u001b[39;00m\u001b[38;5;21;01m.\u001b[39;00m\u001b[38;5;21;01mgrouper\u001b[39;00m \u001b[38;5;28;01mimport\u001b[39;00m get_grouper\n\u001b[1;32m--> 965\u001b[0m     grouper, exclusions, obj \u001b[38;5;241m=\u001b[39m \u001b[43mget_grouper\u001b[49m\u001b[43m(\u001b[49m\n\u001b[0;32m    966\u001b[0m \u001b[43m        \u001b[49m\u001b[43mobj\u001b[49m\u001b[43m,\u001b[49m\n\u001b[0;32m    967\u001b[0m \u001b[43m        \u001b[49m\u001b[43mkeys\u001b[49m\u001b[43m,\u001b[49m\n\u001b[0;32m    968\u001b[0m \u001b[43m        \u001b[49m\u001b[43maxis\u001b[49m\u001b[38;5;241;43m=\u001b[39;49m\u001b[43maxis\u001b[49m\u001b[43m,\u001b[49m\n\u001b[0;32m    969\u001b[0m \u001b[43m        \u001b[49m\u001b[43mlevel\u001b[49m\u001b[38;5;241;43m=\u001b[39;49m\u001b[43mlevel\u001b[49m\u001b[43m,\u001b[49m\n\u001b[0;32m    970\u001b[0m \u001b[43m        \u001b[49m\u001b[43msort\u001b[49m\u001b[38;5;241;43m=\u001b[39;49m\u001b[43msort\u001b[49m\u001b[43m,\u001b[49m\n\u001b[0;32m    971\u001b[0m \u001b[43m        \u001b[49m\u001b[43mobserved\u001b[49m\u001b[38;5;241;43m=\u001b[39;49m\u001b[43mobserved\u001b[49m\u001b[43m,\u001b[49m\n\u001b[0;32m    972\u001b[0m \u001b[43m        \u001b[49m\u001b[43mmutated\u001b[49m\u001b[38;5;241;43m=\u001b[39;49m\u001b[38;5;28;43mself\u001b[39;49m\u001b[38;5;241;43m.\u001b[39;49m\u001b[43mmutated\u001b[49m\u001b[43m,\u001b[49m\n\u001b[0;32m    973\u001b[0m \u001b[43m        \u001b[49m\u001b[43mdropna\u001b[49m\u001b[38;5;241;43m=\u001b[39;49m\u001b[38;5;28;43mself\u001b[39;49m\u001b[38;5;241;43m.\u001b[39;49m\u001b[43mdropna\u001b[49m\u001b[43m,\u001b[49m\n\u001b[0;32m    974\u001b[0m \u001b[43m    \u001b[49m\u001b[43m)\u001b[49m\n\u001b[0;32m    976\u001b[0m \u001b[38;5;28mself\u001b[39m\u001b[38;5;241m.\u001b[39mobj \u001b[38;5;241m=\u001b[39m obj\n\u001b[0;32m    977\u001b[0m \u001b[38;5;28mself\u001b[39m\u001b[38;5;241m.\u001b[39maxis \u001b[38;5;241m=\u001b[39m obj\u001b[38;5;241m.\u001b[39m_get_axis_number(axis)\n",
      "File \u001b[1;32mc:\\Users\\dases\\.conda\\envs\\noteSI\\lib\\site-packages\\pandas\\core\\groupby\\grouper.py:888\u001b[0m, in \u001b[0;36mget_grouper\u001b[1;34m(obj, key, axis, level, sort, observed, mutated, validate, dropna)\u001b[0m\n\u001b[0;32m    886\u001b[0m         in_axis, level, gpr \u001b[38;5;241m=\u001b[39m \u001b[38;5;28;01mFalse\u001b[39;00m, gpr, \u001b[38;5;28;01mNone\u001b[39;00m\n\u001b[0;32m    887\u001b[0m     \u001b[38;5;28;01melse\u001b[39;00m:\n\u001b[1;32m--> 888\u001b[0m         \u001b[38;5;28;01mraise\u001b[39;00m \u001b[38;5;167;01mKeyError\u001b[39;00m(gpr)\n\u001b[0;32m    889\u001b[0m \u001b[38;5;28;01melif\u001b[39;00m \u001b[38;5;28misinstance\u001b[39m(gpr, Grouper) \u001b[38;5;129;01mand\u001b[39;00m gpr\u001b[38;5;241m.\u001b[39mkey \u001b[38;5;129;01mis\u001b[39;00m \u001b[38;5;129;01mnot\u001b[39;00m \u001b[38;5;28;01mNone\u001b[39;00m:\n\u001b[0;32m    890\u001b[0m     \u001b[38;5;66;03m# Add key to exclusions\u001b[39;00m\n\u001b[0;32m    891\u001b[0m     exclusions\u001b[38;5;241m.\u001b[39madd(gpr\u001b[38;5;241m.\u001b[39mkey)\n",
      "\u001b[1;31mKeyError\u001b[0m: 'Disease_Label'"
     ]
    }
   ],
   "source": [
    "# RETIRAR ESTES RESULTADOS\n",
    "# Pairwise analysis\n",
    "pair_counts = full_data.groupby(['Gene_ID', 'Disease_Label']).size().reset_index(name='Pair_Frequency')\n",
    "pair_counts = pair_counts.sort_values(by='Pair_Frequency', ascending=False)\n",
    "\n",
    "print(\"Top 5 Gene-Disease pairs:\\n\", pair_counts.head())\n",
    "\n",
    "# Visualizing the pair frequency\n",
    "plt.figure(figsize=(10, 8))\n",
    "heatmap_data = pair_counts.pivot('Gene_ID', 'Disease_Label', 'Pair_Frequency').fillna(0)\n",
    "\n",
    "sns.heatmap(heatmap_data, cmap='coolwarm', cbar=True, square=True)\n",
    "plt.title(\"Heatmap of Gene-Disease Pair Frequencies\")\n",
    "plt.xlabel(\"Disease Label\")\n",
    "plt.ylabel(\"Gene_ID\")\n",
    "plt.show()\n"
   ]
  },
  {
   "cell_type": "markdown",
   "id": "a7fbc4c2",
   "metadata": {},
   "source": [
    "Some gene-disease pairs occur multiple times, indicating strong research focus or known associations.\n",
    "The heatmap reveals clusters of high-frequency pairs, which can guide hypothesis generation."
   ]
  },
  {
   "cell_type": "markdown",
   "id": "1a3ffa63",
   "metadata": {},
   "source": [
    "#### Correlation Analysis\n",
    "Checking correlations between numerical columns to understand dependencies."
   ]
  },
  {
   "cell_type": "code",
   "execution_count": 53,
   "id": "18b6a98b",
   "metadata": {
    "ExecuteTime": {
     "end_time": "2024-12-16T17:04:57.978853Z",
     "start_time": "2024-12-16T17:04:57.700150Z"
    }
   },
   "outputs": [
    {
     "ename": "KeyError",
     "evalue": "\"['Disease_ID_encoded'] not in index\"",
     "output_type": "error",
     "traceback": [
      "\u001b[1;31m---------------------------------------------------------------------------\u001b[0m",
      "\u001b[1;31mKeyError\u001b[0m                                  Traceback (most recent call last)",
      "Cell \u001b[1;32mIn[53], line 2\u001b[0m\n\u001b[0;32m      1\u001b[0m \u001b[38;5;66;03m# Correlation matrix\u001b[39;00m\n\u001b[1;32m----> 2\u001b[0m corr_matrix \u001b[38;5;241m=\u001b[39m \u001b[43mfull_data\u001b[49m\u001b[43m[\u001b[49m\u001b[43m[\u001b[49m\u001b[38;5;124;43m'\u001b[39;49m\u001b[38;5;124;43mGene_ID\u001b[39;49m\u001b[38;5;124;43m'\u001b[39;49m\u001b[43m,\u001b[49m\u001b[43m \u001b[49m\u001b[38;5;124;43m'\u001b[39;49m\u001b[38;5;124;43mDisease_ID_encoded\u001b[39;49m\u001b[38;5;124;43m'\u001b[39;49m\u001b[43m,\u001b[49m\u001b[43m \u001b[49m\u001b[38;5;124;43m'\u001b[39;49m\u001b[38;5;124;43mY\u001b[39;49m\u001b[38;5;124;43m'\u001b[39;49m\u001b[43m]\u001b[49m\u001b[43m]\u001b[49m\u001b[38;5;241m.\u001b[39mcorr()\n\u001b[0;32m      4\u001b[0m plt\u001b[38;5;241m.\u001b[39mfigure(figsize\u001b[38;5;241m=\u001b[39m(\u001b[38;5;241m6\u001b[39m, \u001b[38;5;241m4\u001b[39m))\n\u001b[0;32m      5\u001b[0m sns\u001b[38;5;241m.\u001b[39mheatmap(corr_matrix, annot\u001b[38;5;241m=\u001b[39m\u001b[38;5;28;01mTrue\u001b[39;00m, cmap\u001b[38;5;241m=\u001b[39m\u001b[38;5;124m'\u001b[39m\u001b[38;5;124mcoolwarm\u001b[39m\u001b[38;5;124m'\u001b[39m, fmt\u001b[38;5;241m=\u001b[39m\u001b[38;5;124m\"\u001b[39m\u001b[38;5;124m.2f\u001b[39m\u001b[38;5;124m\"\u001b[39m)\n",
      "File \u001b[1;32mc:\\Users\\dases\\.conda\\envs\\noteSI\\lib\\site-packages\\pandas\\core\\frame.py:3813\u001b[0m, in \u001b[0;36mDataFrame.__getitem__\u001b[1;34m(self, key)\u001b[0m\n\u001b[0;32m   3811\u001b[0m     \u001b[38;5;28;01mif\u001b[39;00m is_iterator(key):\n\u001b[0;32m   3812\u001b[0m         key \u001b[38;5;241m=\u001b[39m \u001b[38;5;28mlist\u001b[39m(key)\n\u001b[1;32m-> 3813\u001b[0m     indexer \u001b[38;5;241m=\u001b[39m \u001b[38;5;28;43mself\u001b[39;49m\u001b[38;5;241;43m.\u001b[39;49m\u001b[43mcolumns\u001b[49m\u001b[38;5;241;43m.\u001b[39;49m\u001b[43m_get_indexer_strict\u001b[49m\u001b[43m(\u001b[49m\u001b[43mkey\u001b[49m\u001b[43m,\u001b[49m\u001b[43m \u001b[49m\u001b[38;5;124;43m\"\u001b[39;49m\u001b[38;5;124;43mcolumns\u001b[39;49m\u001b[38;5;124;43m\"\u001b[39;49m\u001b[43m)\u001b[49m[\u001b[38;5;241m1\u001b[39m]\n\u001b[0;32m   3815\u001b[0m \u001b[38;5;66;03m# take() does not accept boolean indexers\u001b[39;00m\n\u001b[0;32m   3816\u001b[0m \u001b[38;5;28;01mif\u001b[39;00m \u001b[38;5;28mgetattr\u001b[39m(indexer, \u001b[38;5;124m\"\u001b[39m\u001b[38;5;124mdtype\u001b[39m\u001b[38;5;124m\"\u001b[39m, \u001b[38;5;28;01mNone\u001b[39;00m) \u001b[38;5;241m==\u001b[39m \u001b[38;5;28mbool\u001b[39m:\n",
      "File \u001b[1;32mc:\\Users\\dases\\.conda\\envs\\noteSI\\lib\\site-packages\\pandas\\core\\indexes\\base.py:6070\u001b[0m, in \u001b[0;36mIndex._get_indexer_strict\u001b[1;34m(self, key, axis_name)\u001b[0m\n\u001b[0;32m   6067\u001b[0m \u001b[38;5;28;01melse\u001b[39;00m:\n\u001b[0;32m   6068\u001b[0m     keyarr, indexer, new_indexer \u001b[38;5;241m=\u001b[39m \u001b[38;5;28mself\u001b[39m\u001b[38;5;241m.\u001b[39m_reindex_non_unique(keyarr)\n\u001b[1;32m-> 6070\u001b[0m \u001b[38;5;28;43mself\u001b[39;49m\u001b[38;5;241;43m.\u001b[39;49m\u001b[43m_raise_if_missing\u001b[49m\u001b[43m(\u001b[49m\u001b[43mkeyarr\u001b[49m\u001b[43m,\u001b[49m\u001b[43m \u001b[49m\u001b[43mindexer\u001b[49m\u001b[43m,\u001b[49m\u001b[43m \u001b[49m\u001b[43maxis_name\u001b[49m\u001b[43m)\u001b[49m\n\u001b[0;32m   6072\u001b[0m keyarr \u001b[38;5;241m=\u001b[39m \u001b[38;5;28mself\u001b[39m\u001b[38;5;241m.\u001b[39mtake(indexer)\n\u001b[0;32m   6073\u001b[0m \u001b[38;5;28;01mif\u001b[39;00m \u001b[38;5;28misinstance\u001b[39m(key, Index):\n\u001b[0;32m   6074\u001b[0m     \u001b[38;5;66;03m# GH 42790 - Preserve name from an Index\u001b[39;00m\n",
      "File \u001b[1;32mc:\\Users\\dases\\.conda\\envs\\noteSI\\lib\\site-packages\\pandas\\core\\indexes\\base.py:6133\u001b[0m, in \u001b[0;36mIndex._raise_if_missing\u001b[1;34m(self, key, indexer, axis_name)\u001b[0m\n\u001b[0;32m   6130\u001b[0m     \u001b[38;5;28;01mraise\u001b[39;00m \u001b[38;5;167;01mKeyError\u001b[39;00m(\u001b[38;5;124mf\u001b[39m\u001b[38;5;124m\"\u001b[39m\u001b[38;5;124mNone of [\u001b[39m\u001b[38;5;132;01m{\u001b[39;00mkey\u001b[38;5;132;01m}\u001b[39;00m\u001b[38;5;124m] are in the [\u001b[39m\u001b[38;5;132;01m{\u001b[39;00maxis_name\u001b[38;5;132;01m}\u001b[39;00m\u001b[38;5;124m]\u001b[39m\u001b[38;5;124m\"\u001b[39m)\n\u001b[0;32m   6132\u001b[0m not_found \u001b[38;5;241m=\u001b[39m \u001b[38;5;28mlist\u001b[39m(ensure_index(key)[missing_mask\u001b[38;5;241m.\u001b[39mnonzero()[\u001b[38;5;241m0\u001b[39m]]\u001b[38;5;241m.\u001b[39munique())\n\u001b[1;32m-> 6133\u001b[0m \u001b[38;5;28;01mraise\u001b[39;00m \u001b[38;5;167;01mKeyError\u001b[39;00m(\u001b[38;5;124mf\u001b[39m\u001b[38;5;124m\"\u001b[39m\u001b[38;5;132;01m{\u001b[39;00mnot_found\u001b[38;5;132;01m}\u001b[39;00m\u001b[38;5;124m not in index\u001b[39m\u001b[38;5;124m\"\u001b[39m)\n",
      "\u001b[1;31mKeyError\u001b[0m: \"['Disease_ID_encoded'] not in index\""
     ]
    }
   ],
   "source": [
    "# Correlation matrix\n",
    "corr_matrix = full_data[['Gene_ID', 'Disease_ID_encoded', 'Y']].corr()\n",
    "\n",
    "plt.figure(figsize=(6, 4))\n",
    "sns.heatmap(corr_matrix, annot=True, cmap='coolwarm', fmt=\".2f\")\n",
    "plt.title(\"Correlation Matrix\")\n",
    "plt.show()\n"
   ]
  },
  {
   "cell_type": "markdown",
   "id": "16d0ecd3",
   "metadata": {},
   "source": [
    "Weak correlations exist between Y and other features, indicating that predictions will require complex patterns rather than simple linear relationships."
   ]
  },
  {
   "cell_type": "markdown",
   "id": "f08da492",
   "metadata": {},
   "source": [
    "#### Conclusions from Exploratory Data Analysis\n",
    "\n",
    "1. **Variable Distribution**:  \n",
    "   - Most gene sequences range from 200 to 500 amino acids in length.  \n",
    "   - The target variable 'Y' is slightly skewed towards lower probabilities, indicating that most gene-disease associations have a low likelihood.\n",
    "\n",
    "2. **Gene and Disease Frequency**:  \n",
    "   - Some genes and diseases appear much more frequently in the dataset. For example, certain genes appear in over 200 gene-disease pairs.  \n",
    "   - The most common diseases include breast cancer and schizophrenia.\n",
    "\n",
    "3. **Correlation and Outliers**:  \n",
    "   - Correlations between variables are weak, suggesting that predictions will need to account for complex patterns.  \n",
    "   - Outliers were identified in the variable 'Y' and should be considered when developing the model.\n",
    "\n",
    "4. **Gene-Disease Pair Analysis**:  \n",
    "   - Some gene-disease pairs occur multiple times, indicating strong research focus or well-known associations.  \n",
    "   - Heatmap analysis shows high-frequency clusters, which could help guide hypothesis generation."
   ]
  },
  {
   "cell_type": "markdown",
   "id": "32488f48",
   "metadata": {},
   "source": [
    "## Unsupervised learning"
   ]
  },
  {
   "cell_type": "code",
   "execution_count": null,
   "id": "79f3ffde",
   "metadata": {},
   "outputs": [],
   "source": []
  },
  {
   "cell_type": "markdown",
   "id": "e27d7098",
   "metadata": {},
   "source": [
    "### Dimensionality Reduction"
   ]
  },
  {
   "cell_type": "markdown",
   "id": "898c0fb9",
   "metadata": {},
   "source": [
    "Working with high-dimensional data can present a number of challenges, such as increased computational complexity, greater risk of overfitting and difficulty interpreting the results.\n",
    "As such, dimensionality reduction is a fundamental technique in machine learning, especially in problems with high dimensionality, where the number of variables or features is very large. This approach seeks to simplify the data set, keeping as much relevant information as possible, while eliminating redundancies and noise."
   ]
  },
  {
   "cell_type": "markdown",
   "id": "9655ebed",
   "metadata": {},
   "source": [
    "#### Principal Components Analysis (PCA)"
   ]
  },
  {
   "cell_type": "markdown",
   "id": "dfab6d79",
   "metadata": {},
   "source": [
    "PCA is a dimensionality reduction technique that transforms a set of possibly correlated variables into a new set of uncorrelated variables called principal components. It does this by identifying directions in the data space that capture the greatest possible variance, ordering these directions by importance. In this way, PCA makes it possible to represent the data in a lower-dimensional space, preserving as much information as possible."
   ]
  },
  {
   "cell_type": "code",
   "execution_count": 134,
   "id": "a2533586",
   "metadata": {},
   "outputs": [
    {
     "data": {
      "text/html": [
       "<style>#sk-container-id-3 {color: black;background-color: white;}#sk-container-id-3 pre{padding: 0;}#sk-container-id-3 div.sk-toggleable {background-color: white;}#sk-container-id-3 label.sk-toggleable__label {cursor: pointer;display: block;width: 100%;margin-bottom: 0;padding: 0.3em;box-sizing: border-box;text-align: center;}#sk-container-id-3 label.sk-toggleable__label-arrow:before {content: \"▸\";float: left;margin-right: 0.25em;color: #696969;}#sk-container-id-3 label.sk-toggleable__label-arrow:hover:before {color: black;}#sk-container-id-3 div.sk-estimator:hover label.sk-toggleable__label-arrow:before {color: black;}#sk-container-id-3 div.sk-toggleable__content {max-height: 0;max-width: 0;overflow: hidden;text-align: left;background-color: #f0f8ff;}#sk-container-id-3 div.sk-toggleable__content pre {margin: 0.2em;color: black;border-radius: 0.25em;background-color: #f0f8ff;}#sk-container-id-3 input.sk-toggleable__control:checked~div.sk-toggleable__content {max-height: 200px;max-width: 100%;overflow: auto;}#sk-container-id-3 input.sk-toggleable__control:checked~label.sk-toggleable__label-arrow:before {content: \"▾\";}#sk-container-id-3 div.sk-estimator input.sk-toggleable__control:checked~label.sk-toggleable__label {background-color: #d4ebff;}#sk-container-id-3 div.sk-label input.sk-toggleable__control:checked~label.sk-toggleable__label {background-color: #d4ebff;}#sk-container-id-3 input.sk-hidden--visually {border: 0;clip: rect(1px 1px 1px 1px);clip: rect(1px, 1px, 1px, 1px);height: 1px;margin: -1px;overflow: hidden;padding: 0;position: absolute;width: 1px;}#sk-container-id-3 div.sk-estimator {font-family: monospace;background-color: #f0f8ff;border: 1px dotted black;border-radius: 0.25em;box-sizing: border-box;margin-bottom: 0.5em;}#sk-container-id-3 div.sk-estimator:hover {background-color: #d4ebff;}#sk-container-id-3 div.sk-parallel-item::after {content: \"\";width: 100%;border-bottom: 1px solid gray;flex-grow: 1;}#sk-container-id-3 div.sk-label:hover label.sk-toggleable__label {background-color: #d4ebff;}#sk-container-id-3 div.sk-serial::before {content: \"\";position: absolute;border-left: 1px solid gray;box-sizing: border-box;top: 0;bottom: 0;left: 50%;z-index: 0;}#sk-container-id-3 div.sk-serial {display: flex;flex-direction: column;align-items: center;background-color: white;padding-right: 0.2em;padding-left: 0.2em;position: relative;}#sk-container-id-3 div.sk-item {position: relative;z-index: 1;}#sk-container-id-3 div.sk-parallel {display: flex;align-items: stretch;justify-content: center;background-color: white;position: relative;}#sk-container-id-3 div.sk-item::before, #sk-container-id-3 div.sk-parallel-item::before {content: \"\";position: absolute;border-left: 1px solid gray;box-sizing: border-box;top: 0;bottom: 0;left: 50%;z-index: -1;}#sk-container-id-3 div.sk-parallel-item {display: flex;flex-direction: column;z-index: 1;position: relative;background-color: white;}#sk-container-id-3 div.sk-parallel-item:first-child::after {align-self: flex-end;width: 50%;}#sk-container-id-3 div.sk-parallel-item:last-child::after {align-self: flex-start;width: 50%;}#sk-container-id-3 div.sk-parallel-item:only-child::after {width: 0;}#sk-container-id-3 div.sk-dashed-wrapped {border: 1px dashed gray;margin: 0 0.4em 0.5em 0.4em;box-sizing: border-box;padding-bottom: 0.4em;background-color: white;}#sk-container-id-3 div.sk-label label {font-family: monospace;font-weight: bold;display: inline-block;line-height: 1.2em;}#sk-container-id-3 div.sk-label-container {text-align: center;}#sk-container-id-3 div.sk-container {/* jupyter's `normalize.less` sets `[hidden] { display: none; }` but bootstrap.min.css set `[hidden] { display: none !important; }` so we also need the `!important` here to be able to override the default hidden behavior on the sphinx rendered scikit-learn.org. See: https://github.com/scikit-learn/scikit-learn/issues/21755 */display: inline-block !important;position: relative;}#sk-container-id-3 div.sk-text-repr-fallback {display: none;}</style><div id=\"sk-container-id-3\" class=\"sk-top-container\"><div class=\"sk-text-repr-fallback\"><pre>PCA()</pre><b>In a Jupyter environment, please rerun this cell to show the HTML representation or trust the notebook. <br />On GitHub, the HTML representation is unable to render, please try loading this page with nbviewer.org.</b></div><div class=\"sk-container\" hidden><div class=\"sk-item\"><div class=\"sk-estimator sk-toggleable\"><input class=\"sk-toggleable__control sk-hidden--visually\" id=\"sk-estimator-id-3\" type=\"checkbox\" checked><label for=\"sk-estimator-id-3\" class=\"sk-toggleable__label sk-toggleable__label-arrow\">PCA</label><div class=\"sk-toggleable__content\"><pre>PCA()</pre></div></div></div></div></div>"
      ],
      "text/plain": [
       "PCA()"
      ]
     },
     "execution_count": 134,
     "metadata": {},
     "output_type": "execute_result"
    }
   ],
   "source": [
    "numerical_features_without_y = final_df.drop('Y', axis=1) #For unsupervised \n",
    "\n",
    "# Normalizing numerical features\n",
    "scaler = StandardScaler()\n",
    "scaled_features = scaler.fit_transform(numerical_features_without_y)\n",
    "\n",
    "# Aplying PCA on data\n",
    "pca = PCA()\n",
    "pca.fit(scaled_features)"
   ]
  },
  {
   "cell_type": "code",
   "execution_count": 135,
   "id": "1e526fcd",
   "metadata": {},
   "outputs": [
    {
     "name": "stdout",
     "output_type": "stream",
     "text": [
      "Number of components required to explain at least 70% of the variance: 293\n"
     ]
    }
   ],
   "source": [
    "# Obtaining cumulative explained variance\n",
    "explained_variance_cumsum = np.cumsum(pca.explained_variance_ratio_)\n",
    "\n",
    "# Number of principle components to obtain at least 70% of explained variance\n",
    "num_components = np.argmax(explained_variance_cumsum >= 0.70) + 1  \n",
    "\n",
    "print(f\"Number of components required to explain at least 70% of the variance: {num_components}\")\n"
   ]
  },
  {
   "cell_type": "code",
   "execution_count": 136,
   "id": "794e4147",
   "metadata": {},
   "outputs": [
    {
     "name": "stdout",
     "output_type": "stream",
     "text": [
      "Cumulative explained variance: 0.7007127527211202\n"
     ]
    }
   ],
   "source": [
    "# Aplying pca to n_components selected\n",
    "pca = PCA(n_components=num_components)\n",
    "X_pca = pca.fit_transform(scaled_features)\n",
    "print(f\"Cumulative explained variance: {explained_variance_cumsum[num_components-1]}\")\n"
   ]
  },
  {
   "cell_type": "code",
   "execution_count": 137,
   "id": "4786af9a",
   "metadata": {},
   "outputs": [
    {
     "data": {
      "image/png": "[encoded data removed]",
      "text/plain": [
       "<Figure size 800x600 with 1 Axes>"
      ]
     },
     "metadata": {},
     "output_type": "display_data"
    }
   ],
   "source": [
    "plt.figure(figsize=(8, 6))\n",
    "plt.plot(explained_variance_cumsum, marker='o')\n",
    "plt.axhline(y=0.70, color='r', linestyle='--')\n",
    "plt.title('Cumulative explained variance')\n",
    "plt.xlabel('Number of Principle Components')\n",
    "plt.ylabel('Cumulative explained variance')\n",
    "plt.show()"
   ]
  },
  {
   "cell_type": "code",
   "execution_count": 138,
   "id": "f2cc2b37",
   "metadata": {},
   "outputs": [
    {
     "data": {
      "image/png": "[encoded data removed]",
      "text/plain": [
       "<Figure size 800x600 with 2 Axes>"
      ]
     },
     "metadata": {},
     "output_type": "display_data"
    }
   ],
   "source": [
    "# Usar as duas primeiras componentes principais para visualização\n",
    "X_pca_2d = X_pca[:, :2]  # Seleciona as 2 primeiras colunas das componentes principais\n",
    "\n",
    "# Plotando em 2D\n",
    "import matplotlib.pyplot as plt\n",
    "\n",
    "plt.figure(figsize=(8, 6))\n",
    "plt.scatter(X_pca_2d[:, 0], X_pca_2d[:, 1], c=full_data['Y'], cmap='viridis', edgecolors='k', alpha=0.7)\n",
    "\n",
    "# Adicionando rótulos e título\n",
    "plt.title(f'2D PCA with {num_components} components explaining 70% of the variance')\n",
    "plt.xlabel('PC1')\n",
    "plt.ylabel('PC2')\n",
    "\n",
    "# Barra de cores, se necessário\n",
    "plt.colorbar(label='Y')\n",
    "plt.show()\n"
   ]
  },
  {
   "cell_type": "markdown",
   "id": "833c5899",
   "metadata": {},
   "source": [
    "### Clustering"
   ]
  },
  {
   "cell_type": "markdown",
   "id": "a818257a",
   "metadata": {},
   "source": [
    "Clustering is an unsupervised learning technique that identifies patterns and structure in data, grouping them into homogeneous clusters. It uses distance or similarity measures to group together nearby data points, seeking to maximize intra-cluster cohesion and inter-cluster separation. These clusters can reveal insights into the underlying structure of the data.\n",
    "In this project, two clustering algorithms were addressed: **hierarchical clustering**, which builds a tree of clusters, where each node represents a cluster; **K-means**, which is a clustering algorithm that divides a data set into K clusters by minimizing the sum of the squares of the distances between the points and the centroids.\n",
    "\n",
    "The module used for this analysis was **sklearn.cluster**\n"
   ]
  },
  {
   "cell_type": "markdown",
   "id": "adfea0cd",
   "metadata": {},
   "source": [
    "#### Hierarchical Clustering"
   ]
  },
  {
   "cell_type": "markdown",
   "id": "f579f7f0",
   "metadata": {},
   "source": []
  },
  {
   "cell_type": "markdown",
   "id": "b3843245",
   "metadata": {},
   "source": [
    "#### Clustering K-Means"
   ]
  },
  {
   "cell_type": "markdown",
   "id": "e05790ce",
   "metadata": {},
   "source": []
  },
  {
   "cell_type": "markdown",
   "id": "a82747e5",
   "metadata": {},
   "source": [
    "K-means is an unsupervised clustering algorithm widely used to group data into distinct clusters. The goal of K-means is to divide a dataset into K clusters in such a way that the data within the same cluster are as homogeneous as possible, while the data in different clusters are as distinct as possible.\n",
    "\n",
    "The operation of K-means is based on the idea that the data can be represented by centroids, or central points, and that the distance between the data and its corresponding centroid should be minimized. The algorithm achieves this through an iterative process that follows three main steps:\n",
    "\n",
    "- Initialization: The algorithm starts with the random selection of K central points (centroids) that will serve as the initial centers of the clusters. In this case, the number of clusters K is determined using the **elbow - method**, which helps identify the optimal number of clusters by analyzing the point where the reduction in inertia (sum of squared distances) begins to slow down.\n",
    "\n",
    "- Assignment: Each data point is assigned to the nearest center, meaning each point is assigned to the cluster whose centroid is closest, based on a distance metric such as Euclidean distance.\n",
    "\n",
    "- Update: After assigning the points to the clusters, the algorithm recalculates the position of the centroids as the average of the points belonging to each cluster."
   ]
  },
  {
   "cell_type": "code",
   "execution_count": 57,
   "id": "bbb99acd",
   "metadata": {
    "ExecuteTime": {
     "end_time": "2024-12-16T17:05:03.990084Z",
     "start_time": "2024-12-16T17:05:00.551321Z"
    }
   },
   "outputs": [
    {
     "data": {
      "image/png": "[encoded data removed]",
      "text/plain": [
       "<Figure size 1000x600 with 1 Axes>"
      ]
     },
     "metadata": {},
     "output_type": "display_data"
    }
   ],
   "source": [
    "# Choose the number of clusters using the Elbow Method\n",
    "sse = []\n",
    "k_range = range(1, 11)\n",
    "for k in k_range:\n",
    "    kmeans = KMeans(n_clusters=k, random_state=42)\n",
    "    kmeans.fit(scaled_features)\n",
    "    sse.append(kmeans.inertia_)\n",
    "\n",
    "# Plot the Elbow Method\n",
    "plt.figure(figsize=(10, 6))\n",
    "plt.plot(k_range, sse, 'bo-')\n",
    "plt.xlabel('Number of Clusters (k)')\n",
    "plt.ylabel('SSE')\n",
    "plt.title('Elbow Method for Determining the Number of Clusters')\n",
    "plt.show()"
   ]
  },
  {
   "cell_type": "markdown",
   "id": "05784d6f",
   "metadata": {},
   "source": [
    "\n",
    "By observing the graph, it was determined that the point on the graph resembling an \"elbow\" occurs at K=3. From the point K=3 onwards, adding more clusters does not result in a significant reduction of the WSS (Within-Cluster Sum of Squares).\n",
    "\n"
   ]
  },
  {
   "cell_type": "code",
   "execution_count": 58,
   "id": "403e8316",
   "metadata": {
    "ExecuteTime": {
     "end_time": "2024-12-16T17:05:04.302924Z",
     "start_time": "2024-12-16T17:05:03.992605Z"
    }
   },
   "outputs": [],
   "source": [
    "optimal_k = 3\n",
    "\n",
    "# Apply K-means with the chosen number of clusters\n",
    "kmeans = KMeans(n_clusters=optimal_k, random_state=42)\n",
    "clusters = kmeans.fit_predict(scaled_features)\n",
    "\n",
    "# Add cluster labels to the original dataframe\n",
    "full_data['Cluster'] = clusters"
   ]
  },
  {
   "cell_type": "code",
   "execution_count": 59,
   "id": "6f5ecf63",
   "metadata": {
    "ExecuteTime": {
     "end_time": "2024-12-16T17:05:06.840614Z",
     "start_time": "2024-12-16T17:05:04.304924Z"
    }
   },
   "outputs": [
    {
     "data": {
      "image/png": "[encoded data removed]",
      "text/plain": [
       "<Figure size 1200x800 with 1 Axes>"
      ]
     },
     "metadata": {},
     "output_type": "display_data"
    }
   ],
   "source": [
    "#Plot K-means clustering\n",
    "plt.figure(figsize=(12, 8))\n",
    "sns.scatterplot(x='PCA1', y='PCA2', hue='Cluster', palette='viridis', data=full_data, s=100, alpha=0.6, edgecolor='w')\n",
    "plt.title('Clusters of Genes and Diseases (reduced to 2D with PCA)')\n",
    "plt.show()"
   ]
  },
  {
   "cell_type": "markdown",
   "id": "e904ce5d",
   "metadata": {},
   "source": [
    "## Bibliografia"
   ]
  },
  {
   "cell_type": "markdown",
   "id": "1bb6c6d5",
   "metadata": {},
   "source": [
    "[1] Opap, K., & Mulder, N. (2017). Recent advances in predicting gene–disease associations. F1000Research, 6, 578. https://doi.org/10.12688/f1000research.10788.1\n",
    "    \n",
    "[2] Therapeutics Data Commons. (2024). TDC. https://tdcommons.ai/\n",
    "\n",
    "[3] Piñero, J., Ramírez-Anguita, J. M., Saüch-Pitarch, J., Ronzano, F., Centeno, E., Sanz, F., & Furlong, L. I. (2019). The DisGeNET knowledge platform for disease genomics: 2019 update. Nucleic Acids Research, 48(D1). https://doi.org/10.1093/nar/gkz1021"
   ]
  }
 ],
 "metadata": {
  "kernelspec": {
   "display_name": "noteSI",
   "language": "python",
   "name": "python3"
  },
  "language_info": {
   "codemirror_mode": {
    "name": "ipython",
    "version": 3
   },
   "file_extension": ".py",
   "mimetype": "text/x-python",
   "name": "python",
   "nbconvert_exporter": "python",
   "pygments_lexer": "ipython3",
   "version": "3.9.20"
  },
  "toc": {
   "base_numbering": 1,
   "nav_menu": {},
   "number_sections": true,
   "sideBar": true,
   "skip_h1_title": false,
   "title_cell": "Table of Contents",
   "title_sidebar": "Contents",
   "toc_cell": true,
   "toc_position": {},
   "toc_section_display": true,
   "toc_window_display": false
  }
 },
 "nbformat": 4,
 "nbformat_minor": 5
}
