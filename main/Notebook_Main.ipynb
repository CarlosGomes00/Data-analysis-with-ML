{
 "cells": [
  {
   "cell_type": "code",
   "id": "initial_id",
   "metadata": {
    "collapsed": true
   },
   "source": "pip install -r requirements.txt",
   "outputs": [],
   "execution_count": null
  },
  {
   "metadata": {
    "ExecuteTime": {
     "end_time": "2024-11-24T21:37:13.648283Z",
     "start_time": "2024-11-24T21:37:12.307711Z"
    }
   },
   "cell_type": "code",
   "source": [
    "\"\"\"\n",
    "Para a realização deste import, é necessário ter em atenção ao package PyTDC\n",
    "O import deste package neste momento está a dar erros devido às dependecias\n",
    "\"\"\"\n",
    "from tdc.multi_pred import GDA"
   ],
   "id": "48d57001757cc8b5",
   "outputs": [
    {
     "ename": "ModuleNotFoundError",
     "evalue": "No module named 'fuzzywuzzy'",
     "output_type": "error",
     "traceback": [
      "\u001B[1;31m---------------------------------------------------------------------------\u001B[0m",
      "\u001B[1;31mModuleNotFoundError\u001B[0m                       Traceback (most recent call last)",
      "Cell \u001B[1;32mIn[6], line 1\u001B[0m\n\u001B[1;32m----> 1\u001B[0m \u001B[38;5;28;01mfrom\u001B[39;00m \u001B[38;5;21;01mtdc\u001B[39;00m\u001B[38;5;21;01m.\u001B[39;00m\u001B[38;5;21;01mmulti_pred\u001B[39;00m \u001B[38;5;28;01mimport\u001B[39;00m GDA\n",
      "File \u001B[1;32m~\\PycharmProjects\\Mestrado\\Data-analysis-with-ML\\.venv\\lib\\site-packages\\tdc\\__init__.py:1\u001B[0m\n\u001B[1;32m----> 1\u001B[0m \u001B[38;5;28;01mfrom\u001B[39;00m \u001B[38;5;21;01m.\u001B[39;00m\u001B[38;5;21;01mevaluator\u001B[39;00m \u001B[38;5;28;01mimport\u001B[39;00m Evaluator\n\u001B[0;32m      2\u001B[0m \u001B[38;5;28;01mfrom\u001B[39;00m \u001B[38;5;21;01m.\u001B[39;00m\u001B[38;5;21;01moracles\u001B[39;00m \u001B[38;5;28;01mimport\u001B[39;00m Oracle\n\u001B[0;32m      3\u001B[0m \u001B[38;5;28;01mfrom\u001B[39;00m \u001B[38;5;21;01m.\u001B[39;00m\u001B[38;5;21;01mbenchmark_deprecated\u001B[39;00m \u001B[38;5;28;01mimport\u001B[39;00m BenchmarkGroup\n",
      "File \u001B[1;32m~\\PycharmProjects\\Mestrado\\Data-analysis-with-ML\\.venv\\lib\\site-packages\\tdc\\evaluator.py:8\u001B[0m\n\u001B[0;32m      4\u001B[0m \u001B[38;5;28;01mimport\u001B[39;00m \u001B[38;5;21;01mwarnings\u001B[39;00m\n\u001B[0;32m      6\u001B[0m warnings\u001B[38;5;241m.\u001B[39mfilterwarnings(\u001B[38;5;124m\"\u001B[39m\u001B[38;5;124mignore\u001B[39m\u001B[38;5;124m\"\u001B[39m)\n\u001B[1;32m----> 8\u001B[0m \u001B[38;5;28;01mfrom\u001B[39;00m \u001B[38;5;21;01m.\u001B[39;00m\u001B[38;5;21;01mutils\u001B[39;00m \u001B[38;5;28;01mimport\u001B[39;00m fuzzy_search\n\u001B[0;32m      9\u001B[0m \u001B[38;5;28;01mfrom\u001B[39;00m \u001B[38;5;21;01m.\u001B[39;00m\u001B[38;5;21;01mmetadata\u001B[39;00m \u001B[38;5;28;01mimport\u001B[39;00m evaluator_name, distribution_oracles\n\u001B[0;32m     11\u001B[0m \u001B[38;5;28;01mtry\u001B[39;00m:\n",
      "File \u001B[1;32m~\\PycharmProjects\\Mestrado\\Data-analysis-with-ML\\.venv\\lib\\site-packages\\tdc\\utils\\__init__.py:1\u001B[0m\n\u001B[1;32m----> 1\u001B[0m \u001B[38;5;28;01mfrom\u001B[39;00m \u001B[38;5;21;01m.\u001B[39;00m\u001B[38;5;21;01mload\u001B[39;00m \u001B[38;5;28;01mimport\u001B[39;00m (\n\u001B[0;32m      2\u001B[0m     distribution_dataset_load,\n\u001B[0;32m      3\u001B[0m     generation_paired_dataset_load,\n\u001B[0;32m      4\u001B[0m     three_dim_dataset_load,\n\u001B[0;32m      5\u001B[0m     interaction_dataset_load,\n\u001B[0;32m      6\u001B[0m     multi_dataset_load,\n\u001B[0;32m      7\u001B[0m     property_dataset_load,\n\u001B[0;32m      8\u001B[0m     bi_distribution_dataset_load,\n\u001B[0;32m      9\u001B[0m     oracle_load,\n\u001B[0;32m     10\u001B[0m     receptor_load,\n\u001B[0;32m     11\u001B[0m     bm_group_load,\n\u001B[0;32m     12\u001B[0m     general_load,\n\u001B[0;32m     13\u001B[0m )\n\u001B[0;32m     14\u001B[0m \u001B[38;5;28;01mfrom\u001B[39;00m \u001B[38;5;21;01m.\u001B[39;00m\u001B[38;5;21;01msplit\u001B[39;00m \u001B[38;5;28;01mimport\u001B[39;00m (\n\u001B[0;32m     15\u001B[0m     create_fold,\n\u001B[0;32m     16\u001B[0m     create_fold_setting_cold,\n\u001B[1;32m   (...)\u001B[0m\n\u001B[0;32m     21\u001B[0m     create_combination_generation_split,\n\u001B[0;32m     22\u001B[0m )\n\u001B[0;32m     23\u001B[0m \u001B[38;5;28;01mfrom\u001B[39;00m \u001B[38;5;21;01m.\u001B[39;00m\u001B[38;5;21;01mmisc\u001B[39;00m \u001B[38;5;28;01mimport\u001B[39;00m (\n\u001B[0;32m     24\u001B[0m     print_sys,\n\u001B[0;32m     25\u001B[0m     install,\n\u001B[1;32m   (...)\u001B[0m\n\u001B[0;32m     29\u001B[0m     to_submission_format,\n\u001B[0;32m     30\u001B[0m )\n",
      "File \u001B[1;32m~\\PycharmProjects\\Mestrado\\Data-analysis-with-ML\\.venv\\lib\\site-packages\\tdc\\utils\\load.py:46\u001B[0m\n\u001B[0;32m     43\u001B[0m receptor_names \u001B[38;5;241m=\u001B[39m \u001B[38;5;28mlist\u001B[39m(receptor2id\u001B[38;5;241m.\u001B[39mkeys())\n\u001B[0;32m     44\u001B[0m sys\u001B[38;5;241m.\u001B[39mpath\u001B[38;5;241m.\u001B[39mappend(\u001B[38;5;124m\"\u001B[39m\u001B[38;5;124m../\u001B[39m\u001B[38;5;124m\"\u001B[39m)\n\u001B[1;32m---> 46\u001B[0m \u001B[38;5;28;01mfrom\u001B[39;00m \u001B[38;5;21;01m.\u001B[39;00m\u001B[38;5;21;01mmisc\u001B[39;00m \u001B[38;5;28;01mimport\u001B[39;00m fuzzy_search, print_sys\n\u001B[0;32m     49\u001B[0m \u001B[38;5;28;01mdef\u001B[39;00m \u001B[38;5;21mdownload_wrapper\u001B[39m(name, path, dataset_names):\n\u001B[0;32m     50\u001B[0m \u001B[38;5;250m    \u001B[39m\u001B[38;5;124;03m\"\"\"wrapper for downloading a dataset given the name and path, for csv,pkl,tsv files\u001B[39;00m\n\u001B[0;32m     51\u001B[0m \n\u001B[0;32m     52\u001B[0m \u001B[38;5;124;03m    Args:\u001B[39;00m\n\u001B[1;32m   (...)\u001B[0m\n\u001B[0;32m     58\u001B[0m \u001B[38;5;124;03m        str: the exact dataset query name\u001B[39;00m\n\u001B[0;32m     59\u001B[0m \u001B[38;5;124;03m    \"\"\"\u001B[39;00m\n",
      "File \u001B[1;32m~\\PycharmProjects\\Mestrado\\Data-analysis-with-ML\\.venv\\lib\\site-packages\\tdc\\utils\\misc.py:8\u001B[0m\n\u001B[0;32m      6\u001B[0m \u001B[38;5;28;01mimport\u001B[39;00m \u001B[38;5;21;01msubprocess\u001B[39;00m\n\u001B[0;32m      7\u001B[0m \u001B[38;5;28;01mimport\u001B[39;00m \u001B[38;5;21;01mpickle\u001B[39;00m\n\u001B[1;32m----> 8\u001B[0m \u001B[38;5;28;01mfrom\u001B[39;00m \u001B[38;5;21;01mfuzzywuzzy\u001B[39;00m \u001B[38;5;28;01mimport\u001B[39;00m fuzz\n\u001B[0;32m     11\u001B[0m \u001B[38;5;28;01mdef\u001B[39;00m \u001B[38;5;21mfuzzy_search\u001B[39m(name, dataset_names):\n\u001B[0;32m     12\u001B[0m \u001B[38;5;250m    \u001B[39m\u001B[38;5;124;03m\"\"\"fuzzy matching between the real dataset name and the input name\u001B[39;00m\n\u001B[0;32m     13\u001B[0m \n\u001B[0;32m     14\u001B[0m \u001B[38;5;124;03m    Args:\u001B[39;00m\n\u001B[1;32m   (...)\u001B[0m\n\u001B[0;32m     22\u001B[0m \u001B[38;5;124;03m        ValueError: the wrong task name, no name is matched\u001B[39;00m\n\u001B[0;32m     23\u001B[0m \u001B[38;5;124;03m    \"\"\"\u001B[39;00m\n",
      "\u001B[1;31mModuleNotFoundError\u001B[0m: No module named 'fuzzywuzzy'"
     ]
    }
   ],
   "execution_count": 6
  }
 ],
 "metadata": {
  "kernelspec": {
   "display_name": "Python 3",
   "language": "python",
   "name": "python3"
  },
  "language_info": {
   "codemirror_mode": {
    "name": "ipython",
    "version": 2
   },
   "file_extension": ".py",
   "mimetype": "text/x-python",
   "name": "python",
   "nbconvert_exporter": "python",
   "pygments_lexer": "ipython2",
   "version": "2.7.6"
  }
 },
 "nbformat": 4,
 "nbformat_minor": 5
}
