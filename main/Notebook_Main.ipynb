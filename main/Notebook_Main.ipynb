{
 "cells": [
  {
   "cell_type": "code",
   "id": "initial_id",
   "metadata": {
    "collapsed": true,
    "ExecuteTime": {
     "end_time": "2024-11-25T18:19:31.089631Z",
     "start_time": "2024-11-25T18:19:31.076308Z"
    }
   },
   "source": [
    "import numpy as np\n",
    "import pandas as pd\n",
    "from tdc.multi_pred import GDA"
   ],
   "outputs": [],
   "execution_count": 2
  },
  {
   "metadata": {
    "ExecuteTime": {
     "end_time": "2024-11-25T18:48:02.390441Z",
     "start_time": "2024-11-25T18:47:23.297123Z"
    }
   },
   "cell_type": "code",
   "source": [
    "# To use the DisGeNET dataset with TDC, you can use the following code:\n",
    "\n",
    "data = GDA(name='DisGeNET')\n",
    "split = data.get_split()\n"
   ],
   "id": "48d57001757cc8b5",
   "outputs": [
    {
     "name": "stderr",
     "output_type": "stream",
     "text": [
      "Downloading...\n",
      "100%|██████████| 63.9M/63.9M [00:37<00:00, 1.73MiB/s]\n",
      "Loading...\n",
      "Done!\n"
     ]
    }
   ],
   "execution_count": 3
  }
 ],
 "metadata": {
  "kernelspec": {
   "display_name": "Python 3",
   "language": "python",
   "name": "python3"
  },
  "language_info": {
   "codemirror_mode": {
    "name": "ipython",
    "version": 2
   },
   "file_extension": ".py",
   "mimetype": "text/x-python",
   "name": "python",
   "nbconvert_exporter": "python",
   "pygments_lexer": "ipython2",
   "version": "2.7.6"
  }
 },
 "nbformat": 4,
 "nbformat_minor": 5
}
