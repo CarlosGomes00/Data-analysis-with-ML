{
 "cells": [
  {
   "cell_type": "code",
   "execution_count": 1,
   "id": "initial_id",
   "metadata": {
    "ExecuteTime": {
     "end_time": "2024-11-25T18:19:31.089631Z",
     "start_time": "2024-11-25T18:19:31.076308Z"
    },
    "collapsed": true
   },
   "outputs": [],
   "source": [
    "import numpy as np\n",
    "import pandas as pd\n",
    "from tdc.multi_pred import GDA"
   ]
  },
  {
   "cell_type": "code",
   "execution_count": 3,
   "id": "48d57001757cc8b5",
   "metadata": {
    "ExecuteTime": {
     "end_time": "2024-11-25T18:48:02.390441Z",
     "start_time": "2024-11-25T18:47:23.297123Z"
    }
   },
   "outputs": [
    {
     "name": "stderr",
     "output_type": "stream",
     "text": [
      "Downloading...\n",
      "100%|██████████| 63.9M/63.9M [00:37<00:00, 1.73MiB/s]\n",
      "Loading...\n",
      "Done!\n"
     ]
    }
   ],
   "source": [
    "# To use the DisGeNET dataset with TDC, you can use the following code:\n",
    "\n",
    "data = GDA(name='DisGeNET')\n",
    "split = data.get_split()\n"
   ]
  }
 ],
 "metadata": {
  "kernelspec": {
   "display_name": "noteSI",
   "language": "python",
   "name": "python3"
  },
  "language_info": {
   "codemirror_mode": {
    "name": "ipython",
    "version": 3
   },
   "file_extension": ".py",
   "mimetype": "text/x-python",
   "name": "python",
   "nbconvert_exporter": "python",
   "pygments_lexer": "ipython3",
   "version": "3.9.20"
  }
 },
 "nbformat": 4,
 "nbformat_minor": 5
}
